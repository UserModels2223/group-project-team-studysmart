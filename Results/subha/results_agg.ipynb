{
 "cells": [
  {
   "cell_type": "code",
   "execution_count": 22,
   "metadata": {},
   "outputs": [],
   "source": [
    "import os\n",
    "import pandas as pd\n",
    "from pathlib import Path\n",
    "import numpy as np"
   ]
  },
  {
   "cell_type": "markdown",
   "metadata": {},
   "source": [
    "# Subject 9"
   ]
  },
  {
   "cell_type": "code",
   "execution_count": 180,
   "metadata": {},
   "outputs": [],
   "source": [
    "all_files = Path(Path.cwd()/\"sub9\")\n",
    "info = pd.read_csv(all_files/\"info.csv\", delimiter=\";\")\n",
    "p1 = pd.read_csv(all_files/\"part1.csv\", delimiter=\";\")\n",
    "p2 = pd.read_csv(all_files/\"part2.csv\", delimiter=\";\")\n",
    "pre = pd.read_csv(all_files/\"pretest.csv\", delimiter=\";\")\n",
    "tes = pd.read_csv(all_files/\"test.csv\", delimiter=\";\")\n"
   ]
  },
  {
   "cell_type": "markdown",
   "metadata": {},
   "source": [
    "## Participant Info"
   ]
  },
  {
   "cell_type": "code",
   "execution_count": 181,
   "metadata": {},
   "outputs": [
    {
     "data": {
      "text/html": [
       "<div>\n",
       "<style scoped>\n",
       "    .dataframe tbody tr th:only-of-type {\n",
       "        vertical-align: middle;\n",
       "    }\n",
       "\n",
       "    .dataframe tbody tr th {\n",
       "        vertical-align: top;\n",
       "    }\n",
       "\n",
       "    .dataframe thead th {\n",
       "        text-align: right;\n",
       "    }\n",
       "</style>\n",
       "<table border=\"1\" class=\"dataframe\">\n",
       "  <thead>\n",
       "    <tr style=\"text-align: right;\">\n",
       "      <th></th>\n",
       "      <th>Language</th>\n",
       "      <th>Level</th>\n",
       "      <th>acc</th>\n",
       "      <th>accuracy</th>\n",
       "      <th>age</th>\n",
       "      <th>average_response_time</th>\n",
       "      <th>avg_rt</th>\n",
       "      <th>b0</th>\n",
       "      <th>b1</th>\n",
       "      <th>background</th>\n",
       "      <th>...</th>\n",
       "      <th>time_up2</th>\n",
       "      <th>time_welcome</th>\n",
       "      <th>title</th>\n",
       "      <th>total_correct</th>\n",
       "      <th>total_response_time</th>\n",
       "      <th>total_responses</th>\n",
       "      <th>trial_num</th>\n",
       "      <th>trial_num_baseline</th>\n",
       "      <th>uniform_coordinates</th>\n",
       "      <th>width</th>\n",
       "    </tr>\n",
       "  </thead>\n",
       "  <tbody>\n",
       "    <tr>\n",
       "      <th>0</th>\n",
       "      <td>Hindi</td>\n",
       "      <td>I haven't taken any courses</td>\n",
       "      <td>undefined</td>\n",
       "      <td>undefined</td>\n",
       "      <td>23</td>\n",
       "      <td>undefined</td>\n",
       "      <td>undefined</td>\n",
       "      <td>NaN</td>\n",
       "      <td>NaN</td>\n",
       "      <td>#e8edf1</td>\n",
       "      <td>...</td>\n",
       "      <td>no</td>\n",
       "      <td>3695</td>\n",
       "      <td>SlimStampen example</td>\n",
       "      <td>0</td>\n",
       "      <td>0</td>\n",
       "      <td>0</td>\n",
       "      <td>1</td>\n",
       "      <td>1</td>\n",
       "      <td>yes</td>\n",
       "      <td>1024</td>\n",
       "    </tr>\n",
       "  </tbody>\n",
       "</table>\n",
       "<p>1 rows × 211 columns</p>\n",
       "</div>"
      ],
      "text/plain": [
       "  Language                        Level        acc   accuracy  age  \\\n",
       "0    Hindi  I haven't taken any courses  undefined  undefined   23   \n",
       "\n",
       "  average_response_time     avg_rt  b0  b1 background  ... time_up2  \\\n",
       "0             undefined  undefined NaN NaN    #e8edf1  ...       no   \n",
       "\n",
       "  time_welcome                title  total_correct  total_response_time  \\\n",
       "0         3695  SlimStampen example              0                    0   \n",
       "\n",
       "  total_responses trial_num trial_num_baseline  uniform_coordinates  width  \n",
       "0               0         1                  1                  yes   1024  \n",
       "\n",
       "[1 rows x 211 columns]"
      ]
     },
     "execution_count": 181,
     "metadata": {},
     "output_type": "execute_result"
    }
   ],
   "source": [
    "info.head()"
   ]
  },
  {
   "cell_type": "markdown",
   "metadata": {},
   "source": [
    "## Pretest"
   ]
  },
  {
   "cell_type": "code",
   "execution_count": 187,
   "metadata": {},
   "outputs": [
    {
     "data": {
      "text/html": [
       "<div>\n",
       "<style scoped>\n",
       "    .dataframe tbody tr th:only-of-type {\n",
       "        vertical-align: middle;\n",
       "    }\n",
       "\n",
       "    .dataframe tbody tr th {\n",
       "        vertical-align: top;\n",
       "    }\n",
       "\n",
       "    .dataframe thead th {\n",
       "        text-align: right;\n",
       "    }\n",
       "</style>\n",
       "<table border=\"1\" class=\"dataframe\">\n",
       "  <thead>\n",
       "    <tr style=\"text-align: right;\">\n",
       "      <th></th>\n",
       "      <th>trial</th>\n",
       "      <th>fact</th>\n",
       "      <th>start_time</th>\n",
       "      <th>rt</th>\n",
       "      <th>correct</th>\n",
       "      <th>fact_id</th>\n",
       "      <th>question</th>\n",
       "      <th>answer</th>\n",
       "    </tr>\n",
       "  </thead>\n",
       "  <tbody>\n",
       "    <tr>\n",
       "      <th>0</th>\n",
       "      <td>1</td>\n",
       "      <td>Word(fact_id=1, question='winkel', answer=['sh...</td>\n",
       "      <td>10956.0</td>\n",
       "      <td>961.0</td>\n",
       "      <td>True</td>\n",
       "      <td>1</td>\n",
       "      <td>winkel</td>\n",
       "      <td>['shop', 'store']</td>\n",
       "    </tr>\n",
       "    <tr>\n",
       "      <th>1</th>\n",
       "      <td>2</td>\n",
       "      <td>Word(fact_id=2, question='lepel', answer=['spo...</td>\n",
       "      <td>13967.0</td>\n",
       "      <td>957.0</td>\n",
       "      <td>True</td>\n",
       "      <td>2</td>\n",
       "      <td>lepel</td>\n",
       "      <td>['spoon']</td>\n",
       "    </tr>\n",
       "    <tr>\n",
       "      <th>2</th>\n",
       "      <td>3</td>\n",
       "      <td>Word(fact_id=3, question='jas', answer=['coat'...</td>\n",
       "      <td>17227.0</td>\n",
       "      <td>inf</td>\n",
       "      <td>False</td>\n",
       "      <td>3</td>\n",
       "      <td>jas</td>\n",
       "      <td>['coat', 'jacket', 'overcoat', 'cloak']</td>\n",
       "    </tr>\n",
       "    <tr>\n",
       "      <th>3</th>\n",
       "      <td>4</td>\n",
       "      <td>Word(fact_id=4, question='raam', answer=['wind...</td>\n",
       "      <td>21104.0</td>\n",
       "      <td>inf</td>\n",
       "      <td>True</td>\n",
       "      <td>4</td>\n",
       "      <td>raam</td>\n",
       "      <td>['window', 'frame']</td>\n",
       "    </tr>\n",
       "    <tr>\n",
       "      <th>4</th>\n",
       "      <td>5</td>\n",
       "      <td>Word(fact_id=5, question='buiten', answer=['ou...</td>\n",
       "      <td>25836.0</td>\n",
       "      <td>inf</td>\n",
       "      <td>False</td>\n",
       "      <td>5</td>\n",
       "      <td>buiten</td>\n",
       "      <td>['outside', 'out']</td>\n",
       "    </tr>\n",
       "  </tbody>\n",
       "</table>\n",
       "</div>"
      ],
      "text/plain": [
       "   trial                                               fact  start_time  \\\n",
       "0      1  Word(fact_id=1, question='winkel', answer=['sh...     10956.0   \n",
       "1      2  Word(fact_id=2, question='lepel', answer=['spo...     13967.0   \n",
       "2      3  Word(fact_id=3, question='jas', answer=['coat'...     17227.0   \n",
       "3      4  Word(fact_id=4, question='raam', answer=['wind...     21104.0   \n",
       "4      5  Word(fact_id=5, question='buiten', answer=['ou...     25836.0   \n",
       "\n",
       "      rt  correct  fact_id question                                   answer  \n",
       "0  961.0     True        1   winkel                        ['shop', 'store']  \n",
       "1  957.0     True        2    lepel                                ['spoon']  \n",
       "2    inf    False        3      jas  ['coat', 'jacket', 'overcoat', 'cloak']  \n",
       "3    inf     True        4     raam                      ['window', 'frame']  \n",
       "4    inf    False        5   buiten                       ['outside', 'out']  "
      ]
     },
     "execution_count": 187,
     "metadata": {},
     "output_type": "execute_result"
    }
   ],
   "source": [
    "pre.head()"
   ]
  },
  {
   "cell_type": "code",
   "execution_count": 188,
   "metadata": {},
   "outputs": [
    {
     "data": {
      "text/plain": [
       "False    15\n",
       "True      4\n",
       "Name: correct, dtype: int64"
      ]
     },
     "execution_count": 188,
     "metadata": {},
     "output_type": "execute_result"
    }
   ],
   "source": [
    "# No of correct/wrong\n",
    "pre[\"correct\"].value_counts()"
   ]
  },
  {
   "cell_type": "code",
   "execution_count": 189,
   "metadata": {},
   "outputs": [
    {
     "data": {
      "text/plain": [
       "1757.9166666666667"
      ]
     },
     "execution_count": 189,
     "metadata": {},
     "output_type": "execute_result"
    }
   ],
   "source": [
    "# Avergae RT\n",
    "np.average([x for x in pre[\"rt\"].values if x!=np.Inf])"
   ]
  },
  {
   "cell_type": "markdown",
   "metadata": {},
   "source": [
    "## Part 1"
   ]
  },
  {
   "cell_type": "code",
   "execution_count": 190,
   "metadata": {},
   "outputs": [
    {
     "data": {
      "text/html": [
       "<div>\n",
       "<style scoped>\n",
       "    .dataframe tbody tr th:only-of-type {\n",
       "        vertical-align: middle;\n",
       "    }\n",
       "\n",
       "    .dataframe tbody tr th {\n",
       "        vertical-align: top;\n",
       "    }\n",
       "\n",
       "    .dataframe thead th {\n",
       "        text-align: right;\n",
       "    }\n",
       "</style>\n",
       "<table border=\"1\" class=\"dataframe\">\n",
       "  <thead>\n",
       "    <tr style=\"text-align: right;\">\n",
       "      <th></th>\n",
       "      <th>trial</th>\n",
       "      <th>start_time</th>\n",
       "      <th>rt</th>\n",
       "      <th>correct</th>\n",
       "      <th>fact_id</th>\n",
       "      <th>question</th>\n",
       "      <th>context_1</th>\n",
       "      <th>context_2</th>\n",
       "      <th>answer</th>\n",
       "      <th>chosen_context</th>\n",
       "      <th>encounter_2</th>\n",
       "      <th>reading_time</th>\n",
       "      <th>fogetting_rate</th>\n",
       "    </tr>\n",
       "  </thead>\n",
       "  <tbody>\n",
       "    <tr>\n",
       "      <th>0</th>\n",
       "      <td>1</td>\n",
       "      <td>106986.0</td>\n",
       "      <td>inf</td>\n",
       "      <td>False</td>\n",
       "      <td>1</td>\n",
       "      <td>woordenschat</td>\n",
       "      <td>Ik heb een goede &lt;b&gt;woordenschat&lt;/b&gt;.</td>\n",
       "      <td>Een boek lezen doet wonderen voor je &lt;b&gt;woorde...</td>\n",
       "      <td>vocabulary</td>\n",
       "      <td>Ik heb een goede &lt;b&gt;woordenschat&lt;/b&gt;.</td>\n",
       "      <td>False</td>\n",
       "      <td>563.6</td>\n",
       "      <td>0.299609</td>\n",
       "    </tr>\n",
       "    <tr>\n",
       "      <th>1</th>\n",
       "      <td>2</td>\n",
       "      <td>115785.0</td>\n",
       "      <td>643.0</td>\n",
       "      <td>True</td>\n",
       "      <td>1</td>\n",
       "      <td>woordenschat</td>\n",
       "      <td>Ik heb een goede &lt;b&gt;woordenschat&lt;/b&gt;.</td>\n",
       "      <td>Een boek lezen doet wonderen voor je &lt;b&gt;woorde...</td>\n",
       "      <td>vocabulary</td>\n",
       "      <td>Ik heb een goede &lt;b&gt;woordenschat&lt;/b&gt;.</td>\n",
       "      <td>False</td>\n",
       "      <td>563.6</td>\n",
       "      <td>0.250000</td>\n",
       "    </tr>\n",
       "    <tr>\n",
       "      <th>2</th>\n",
       "      <td>3</td>\n",
       "      <td>119716.0</td>\n",
       "      <td>1694.0</td>\n",
       "      <td>False</td>\n",
       "      <td>2</td>\n",
       "      <td>beseffen</td>\n",
       "      <td>Ik &lt;b&gt;besef&lt;/b&gt; dat ik het fout heb gedaan.</td>\n",
       "      <td>Ik heb niet &lt;b&gt;beseft&lt;/b&gt; dat het zo laat was.</td>\n",
       "      <td>realize;to realize</td>\n",
       "      <td>Ik &lt;b&gt;besef&lt;/b&gt; dat ik het fout heb gedaan.</td>\n",
       "      <td>False</td>\n",
       "      <td>680.6</td>\n",
       "      <td>0.300000</td>\n",
       "    </tr>\n",
       "    <tr>\n",
       "      <th>3</th>\n",
       "      <td>4</td>\n",
       "      <td>122886.0</td>\n",
       "      <td>1506.0</td>\n",
       "      <td>False</td>\n",
       "      <td>3</td>\n",
       "      <td>uitnodigen</td>\n",
       "      <td>Ik wil je graag &lt;b&gt;uitnodigen&lt;/b&gt; voor mijn ve...</td>\n",
       "      <td>Ze &lt;b&gt;nodigen&lt;/b&gt; elke kunstenaar uit voor de ...</td>\n",
       "      <td>invite;to invite</td>\n",
       "      <td>Ik wil je graag &lt;b&gt;uitnodigen&lt;/b&gt; voor mijn ve...</td>\n",
       "      <td>False</td>\n",
       "      <td>914.6</td>\n",
       "      <td>0.300000</td>\n",
       "    </tr>\n",
       "    <tr>\n",
       "      <th>4</th>\n",
       "      <td>5</td>\n",
       "      <td>125874.0</td>\n",
       "      <td>inf</td>\n",
       "      <td>True</td>\n",
       "      <td>2</td>\n",
       "      <td>beseffen</td>\n",
       "      <td>Ik &lt;b&gt;besef&lt;/b&gt; dat ik het fout heb gedaan.</td>\n",
       "      <td>Ik heb niet &lt;b&gt;beseft&lt;/b&gt; dat het zo laat was.</td>\n",
       "      <td>realize;to realize</td>\n",
       "      <td>Ik &lt;b&gt;besef&lt;/b&gt; dat ik het fout heb gedaan.</td>\n",
       "      <td>False</td>\n",
       "      <td>680.6</td>\n",
       "      <td>0.349609</td>\n",
       "    </tr>\n",
       "  </tbody>\n",
       "</table>\n",
       "</div>"
      ],
      "text/plain": [
       "   trial  start_time      rt  correct  fact_id      question  \\\n",
       "0      1    106986.0     inf    False        1  woordenschat   \n",
       "1      2    115785.0   643.0     True        1  woordenschat   \n",
       "2      3    119716.0  1694.0    False        2      beseffen   \n",
       "3      4    122886.0  1506.0    False        3    uitnodigen   \n",
       "4      5    125874.0     inf     True        2      beseffen   \n",
       "\n",
       "                                           context_1  \\\n",
       "0              Ik heb een goede <b>woordenschat</b>.   \n",
       "1              Ik heb een goede <b>woordenschat</b>.   \n",
       "2        Ik <b>besef</b> dat ik het fout heb gedaan.   \n",
       "3  Ik wil je graag <b>uitnodigen</b> voor mijn ve...   \n",
       "4        Ik <b>besef</b> dat ik het fout heb gedaan.   \n",
       "\n",
       "                                           context_2              answer  \\\n",
       "0  Een boek lezen doet wonderen voor je <b>woorde...          vocabulary   \n",
       "1  Een boek lezen doet wonderen voor je <b>woorde...          vocabulary   \n",
       "2     Ik heb niet <b>beseft</b> dat het zo laat was.  realize;to realize   \n",
       "3  Ze <b>nodigen</b> elke kunstenaar uit voor de ...    invite;to invite   \n",
       "4     Ik heb niet <b>beseft</b> dat het zo laat was.  realize;to realize   \n",
       "\n",
       "                                      chosen_context  encounter_2  \\\n",
       "0              Ik heb een goede <b>woordenschat</b>.        False   \n",
       "1              Ik heb een goede <b>woordenschat</b>.        False   \n",
       "2        Ik <b>besef</b> dat ik het fout heb gedaan.        False   \n",
       "3  Ik wil je graag <b>uitnodigen</b> voor mijn ve...        False   \n",
       "4        Ik <b>besef</b> dat ik het fout heb gedaan.        False   \n",
       "\n",
       "   reading_time  fogetting_rate  \n",
       "0         563.6        0.299609  \n",
       "1         563.6        0.250000  \n",
       "2         680.6        0.300000  \n",
       "3         914.6        0.300000  \n",
       "4         680.6        0.349609  "
      ]
     },
     "execution_count": 190,
     "metadata": {},
     "output_type": "execute_result"
    }
   ],
   "source": [
    "p1.head()"
   ]
  },
  {
   "cell_type": "code",
   "execution_count": 191,
   "metadata": {},
   "outputs": [
    {
     "data": {
      "text/plain": [
       "1959.4268292682927"
      ]
     },
     "execution_count": 191,
     "metadata": {},
     "output_type": "execute_result"
    }
   ],
   "source": [
    "# Avergae RT\n",
    "np.mean([x for x in p1[\"rt\"].values if x!=np.Inf and x<30000])"
   ]
  },
  {
   "cell_type": "code",
   "execution_count": 192,
   "metadata": {},
   "outputs": [
    {
     "data": {
      "text/plain": [
       "1654.191564617267"
      ]
     },
     "execution_count": 192,
     "metadata": {},
     "output_type": "execute_result"
    }
   ],
   "source": [
    "np.std([x for x in p1[\"rt\"].values if x!=np.Inf and x<30000])"
   ]
  },
  {
   "cell_type": "code",
   "execution_count": 193,
   "metadata": {},
   "outputs": [
    {
     "data": {
      "text/plain": [
       "True     121\n",
       "False     29\n",
       "Name: correct, dtype: int64"
      ]
     },
     "execution_count": 193,
     "metadata": {},
     "output_type": "execute_result"
    }
   ],
   "source": [
    "# No of correct/wrong in encounter 1\n",
    "p1[\"correct\"].value_counts()"
   ]
  },
  {
   "cell_type": "code",
   "execution_count": 194,
   "metadata": {},
   "outputs": [
    {
     "data": {
      "text/plain": [
       "True     80\n",
       "False    70\n",
       "Name: encounter_2, dtype: int64"
      ]
     },
     "execution_count": 194,
     "metadata": {},
     "output_type": "execute_result"
    }
   ],
   "source": [
    "# No of correct/wrong in encounter 2\n",
    "p1[\"encounter_2\"].value_counts()"
   ]
  },
  {
   "cell_type": "code",
   "execution_count": 195,
   "metadata": {},
   "outputs": [
    {
     "data": {
      "text/plain": [
       "150"
      ]
     },
     "execution_count": 195,
     "metadata": {},
     "output_type": "execute_result"
    }
   ],
   "source": [
    "len(p1)"
   ]
  },
  {
   "cell_type": "code",
   "execution_count": 196,
   "metadata": {},
   "outputs": [
    {
     "data": {
      "text/plain": [
       "23"
      ]
     },
     "execution_count": 196,
     "metadata": {},
     "output_type": "execute_result"
    }
   ],
   "source": [
    "# No of wrong in both encounter 1 and 2\n",
    "len(p1[(p1.encounter_2 ==False) & (p1.correct == False)])"
   ]
  },
  {
   "cell_type": "code",
   "execution_count": 197,
   "metadata": {},
   "outputs": [
    {
     "data": {
      "text/plain": [
       "74"
      ]
     },
     "execution_count": 197,
     "metadata": {},
     "output_type": "execute_result"
    }
   ],
   "source": [
    "# No of correct in both encounter 1 and 2\n",
    "len(p1[(p1.encounter_2 ==True) & (p1.correct == True)])"
   ]
  },
  {
   "cell_type": "code",
   "execution_count": 198,
   "metadata": {},
   "outputs": [
    {
     "data": {
      "text/plain": [
       "0.4525390625"
      ]
     },
     "execution_count": 198,
     "metadata": {},
     "output_type": "execute_result"
    }
   ],
   "source": [
    "# Avergae forgetting rate\n",
    "np.average([x for x in p1[\"fogetting_rate\"].values if x!=np.Inf])"
   ]
  },
  {
   "cell_type": "markdown",
   "metadata": {},
   "source": [
    "## Part 2"
   ]
  },
  {
   "cell_type": "code",
   "execution_count": 199,
   "metadata": {},
   "outputs": [
    {
     "data": {
      "text/html": [
       "<div>\n",
       "<style scoped>\n",
       "    .dataframe tbody tr th:only-of-type {\n",
       "        vertical-align: middle;\n",
       "    }\n",
       "\n",
       "    .dataframe tbody tr th {\n",
       "        vertical-align: top;\n",
       "    }\n",
       "\n",
       "    .dataframe thead th {\n",
       "        text-align: right;\n",
       "    }\n",
       "</style>\n",
       "<table border=\"1\" class=\"dataframe\">\n",
       "  <thead>\n",
       "    <tr style=\"text-align: right;\">\n",
       "      <th></th>\n",
       "      <th>trial</th>\n",
       "      <th>start_time</th>\n",
       "      <th>rt</th>\n",
       "      <th>correct</th>\n",
       "      <th>fact_id</th>\n",
       "      <th>question</th>\n",
       "      <th>context_1</th>\n",
       "      <th>context_2</th>\n",
       "      <th>answer</th>\n",
       "      <th>chosen_context</th>\n",
       "      <th>encounter_2</th>\n",
       "      <th>reading_time</th>\n",
       "      <th>fogetting_rate</th>\n",
       "    </tr>\n",
       "  </thead>\n",
       "  <tbody>\n",
       "    <tr>\n",
       "      <th>0</th>\n",
       "      <td>1</td>\n",
       "      <td>1374843.0</td>\n",
       "      <td>2269.0</td>\n",
       "      <td>False</td>\n",
       "      <td>1</td>\n",
       "      <td>tevreden</td>\n",
       "      <td>Mijn baas was erg &lt;b&gt;tevreden&lt;/b&gt; over het res...</td>\n",
       "      <td>Hij is niet snel &lt;b&gt;tevreden&lt;/b&gt;,hij is erg kr...</td>\n",
       "      <td>satisfied</td>\n",
       "      <td>tevreden</td>\n",
       "      <td>False</td>\n",
       "      <td>875.6</td>\n",
       "      <td>0.299609</td>\n",
       "    </tr>\n",
       "    <tr>\n",
       "      <th>1</th>\n",
       "      <td>2</td>\n",
       "      <td>1378601.0</td>\n",
       "      <td>6345.0</td>\n",
       "      <td>True</td>\n",
       "      <td>1</td>\n",
       "      <td>tevreden</td>\n",
       "      <td>Mijn baas was erg &lt;b&gt;tevreden&lt;/b&gt; over het res...</td>\n",
       "      <td>Hij is niet snel &lt;b&gt;tevreden&lt;/b&gt;,hij is erg kr...</td>\n",
       "      <td>satisfied</td>\n",
       "      <td>tevreden</td>\n",
       "      <td>False</td>\n",
       "      <td>875.6</td>\n",
       "      <td>0.349219</td>\n",
       "    </tr>\n",
       "    <tr>\n",
       "      <th>2</th>\n",
       "      <td>3</td>\n",
       "      <td>1387564.0</td>\n",
       "      <td>1614.0</td>\n",
       "      <td>False</td>\n",
       "      <td>2</td>\n",
       "      <td>verwondering</td>\n",
       "      <td>Kinderen zitten vol &lt;b&gt;verwondering&lt;/b&gt;.</td>\n",
       "      <td>Ik sta vol &lt;b&gt;verwondering&lt;/b&gt; naar de sterren...</td>\n",
       "      <td>wonder;surprise</td>\n",
       "      <td>verwondering</td>\n",
       "      <td>False</td>\n",
       "      <td>622.1</td>\n",
       "      <td>0.300000</td>\n",
       "    </tr>\n",
       "    <tr>\n",
       "      <th>3</th>\n",
       "      <td>4</td>\n",
       "      <td>1390691.0</td>\n",
       "      <td>4479.0</td>\n",
       "      <td>False</td>\n",
       "      <td>3</td>\n",
       "      <td>bijeenkomst</td>\n",
       "      <td>SNIC is een &lt;b&gt;bijeenkomst&lt;/b&gt; met studenten v...</td>\n",
       "      <td>De &lt;b&gt;bijeenkomst&lt;/b&gt; begint om 10 uur.</td>\n",
       "      <td>meeting;gathering</td>\n",
       "      <td>bijeenkomst</td>\n",
       "      <td>False</td>\n",
       "      <td>1304.6</td>\n",
       "      <td>0.300000</td>\n",
       "    </tr>\n",
       "    <tr>\n",
       "      <th>4</th>\n",
       "      <td>5</td>\n",
       "      <td>1396688.0</td>\n",
       "      <td>3439.0</td>\n",
       "      <td>False</td>\n",
       "      <td>2</td>\n",
       "      <td>verwondering</td>\n",
       "      <td>Kinderen zitten vol &lt;b&gt;verwondering&lt;/b&gt;.</td>\n",
       "      <td>Ik sta vol &lt;b&gt;verwondering&lt;/b&gt; naar de sterren...</td>\n",
       "      <td>wonder;surprise</td>\n",
       "      <td>verwondering</td>\n",
       "      <td>False</td>\n",
       "      <td>622.1</td>\n",
       "      <td>0.349609</td>\n",
       "    </tr>\n",
       "  </tbody>\n",
       "</table>\n",
       "</div>"
      ],
      "text/plain": [
       "   trial  start_time      rt  correct  fact_id      question  \\\n",
       "0      1   1374843.0  2269.0    False        1      tevreden   \n",
       "1      2   1378601.0  6345.0     True        1      tevreden   \n",
       "2      3   1387564.0  1614.0    False        2  verwondering   \n",
       "3      4   1390691.0  4479.0    False        3   bijeenkomst   \n",
       "4      5   1396688.0  3439.0    False        2  verwondering   \n",
       "\n",
       "                                           context_1  \\\n",
       "0  Mijn baas was erg <b>tevreden</b> over het res...   \n",
       "1  Mijn baas was erg <b>tevreden</b> over het res...   \n",
       "2           Kinderen zitten vol <b>verwondering</b>.   \n",
       "3  SNIC is een <b>bijeenkomst</b> met studenten v...   \n",
       "4           Kinderen zitten vol <b>verwondering</b>.   \n",
       "\n",
       "                                           context_2             answer  \\\n",
       "0  Hij is niet snel <b>tevreden</b>,hij is erg kr...          satisfied   \n",
       "1  Hij is niet snel <b>tevreden</b>,hij is erg kr...          satisfied   \n",
       "2  Ik sta vol <b>verwondering</b> naar de sterren...    wonder;surprise   \n",
       "3            De <b>bijeenkomst</b> begint om 10 uur.  meeting;gathering   \n",
       "4  Ik sta vol <b>verwondering</b> naar de sterren...    wonder;surprise   \n",
       "\n",
       "  chosen_context  encounter_2  reading_time  fogetting_rate  \n",
       "0       tevreden        False         875.6        0.299609  \n",
       "1       tevreden        False         875.6        0.349219  \n",
       "2   verwondering        False         622.1        0.300000  \n",
       "3    bijeenkomst        False        1304.6        0.300000  \n",
       "4   verwondering        False         622.1        0.349609  "
      ]
     },
     "execution_count": 199,
     "metadata": {},
     "output_type": "execute_result"
    }
   ],
   "source": [
    "p2.head()"
   ]
  },
  {
   "cell_type": "code",
   "execution_count": 200,
   "metadata": {},
   "outputs": [
    {
     "data": {
      "text/plain": [
       "17628.963302752294"
      ]
     },
     "execution_count": 200,
     "metadata": {},
     "output_type": "execute_result"
    }
   ],
   "source": [
    "# Avergae RT\n",
    "np.average([x for x in p2[\"rt\"].values if x!=np.Inf])"
   ]
  },
  {
   "cell_type": "code",
   "execution_count": 201,
   "metadata": {},
   "outputs": [
    {
     "data": {
      "text/plain": [
       "0.425546875"
      ]
     },
     "execution_count": 201,
     "metadata": {},
     "output_type": "execute_result"
    }
   ],
   "source": [
    "# Avergae forgetting rate\n",
    "np.average([x for x in p2[\"fogetting_rate\"].values if x!=np.Inf])"
   ]
  },
  {
   "cell_type": "code",
   "execution_count": 202,
   "metadata": {},
   "outputs": [
    {
     "data": {
      "text/plain": [
       "2609.1666666666665"
      ]
     },
     "execution_count": 202,
     "metadata": {},
     "output_type": "execute_result"
    }
   ],
   "source": [
    "# Avergae RT\n",
    "np.mean([x for x in p2[\"rt\"].values if x!=np.Inf and x<30000])"
   ]
  },
  {
   "cell_type": "code",
   "execution_count": 203,
   "metadata": {},
   "outputs": [
    {
     "name": "stderr",
     "output_type": "stream",
     "text": [
      "/opt/homebrew/lib/python3.10/site-packages/numpy/core/_methods.py:233: RuntimeWarning: invalid value encountered in subtract\n",
      "  x = asanyarray(arr - arrmean)\n"
     ]
    },
    {
     "data": {
      "text/plain": [
       "nan"
      ]
     },
     "execution_count": 203,
     "metadata": {},
     "output_type": "execute_result"
    }
   ],
   "source": [
    "np.std(p2[\"rt\"].values)"
   ]
  },
  {
   "cell_type": "code",
   "execution_count": 204,
   "metadata": {},
   "outputs": [
    {
     "data": {
      "text/plain": [
       "3009.07167147512"
      ]
     },
     "execution_count": 204,
     "metadata": {},
     "output_type": "execute_result"
    }
   ],
   "source": [
    "np.std([x for x in p2[\"rt\"].values if x!=np.Inf and x<30000])"
   ]
  },
  {
   "cell_type": "code",
   "execution_count": 205,
   "metadata": {},
   "outputs": [
    {
     "data": {
      "text/plain": [
       "True     111\n",
       "False     39\n",
       "Name: correct, dtype: int64"
      ]
     },
     "execution_count": 205,
     "metadata": {},
     "output_type": "execute_result"
    }
   ],
   "source": [
    "# No of correct/wrong in encounter 1\n",
    "p2[\"correct\"].value_counts()"
   ]
  },
  {
   "cell_type": "code",
   "execution_count": 206,
   "metadata": {},
   "outputs": [
    {
     "data": {
      "text/plain": [
       "False    150\n",
       "Name: encounter_2, dtype: int64"
      ]
     },
     "execution_count": 206,
     "metadata": {},
     "output_type": "execute_result"
    }
   ],
   "source": [
    "# No of correct/wrong in encounter 2\n",
    "p2[\"encounter_2\"].value_counts()"
   ]
  },
  {
   "cell_type": "code",
   "execution_count": 207,
   "metadata": {},
   "outputs": [
    {
     "data": {
      "text/plain": [
       "150"
      ]
     },
     "execution_count": 207,
     "metadata": {},
     "output_type": "execute_result"
    }
   ],
   "source": [
    "len(p2)"
   ]
  },
  {
   "cell_type": "code",
   "execution_count": 208,
   "metadata": {},
   "outputs": [
    {
     "data": {
      "text/plain": [
       "39"
      ]
     },
     "execution_count": 208,
     "metadata": {},
     "output_type": "execute_result"
    }
   ],
   "source": [
    "# No of wrong in both encounter 1 and 2\n",
    "len(p2[(p2.encounter_2 ==False) & (p2.correct == False)])"
   ]
  },
  {
   "cell_type": "code",
   "execution_count": 209,
   "metadata": {},
   "outputs": [
    {
     "data": {
      "text/plain": [
       "0"
      ]
     },
     "execution_count": 209,
     "metadata": {},
     "output_type": "execute_result"
    }
   ],
   "source": [
    "# No of correct in both encounter 1 and 2\n",
    "len(p2[(p2.encounter_2 ==True) & (p2.correct == True)])"
   ]
  },
  {
   "cell_type": "markdown",
   "metadata": {},
   "source": [
    "## Final test"
   ]
  },
  {
   "cell_type": "code",
   "execution_count": 210,
   "metadata": {},
   "outputs": [
    {
     "data": {
      "text/html": [
       "<div>\n",
       "<style scoped>\n",
       "    .dataframe tbody tr th:only-of-type {\n",
       "        vertical-align: middle;\n",
       "    }\n",
       "\n",
       "    .dataframe tbody tr th {\n",
       "        vertical-align: top;\n",
       "    }\n",
       "\n",
       "    .dataframe thead th {\n",
       "        text-align: right;\n",
       "    }\n",
       "</style>\n",
       "<table border=\"1\" class=\"dataframe\">\n",
       "  <thead>\n",
       "    <tr style=\"text-align: right;\">\n",
       "      <th></th>\n",
       "      <th>trial</th>\n",
       "      <th>fact</th>\n",
       "      <th>start_time</th>\n",
       "      <th>rt</th>\n",
       "      <th>correct</th>\n",
       "      <th>fact_id</th>\n",
       "      <th>question</th>\n",
       "      <th>answer</th>\n",
       "      <th>Unnamed: 8</th>\n",
       "      <th>Unnamed: 9</th>\n",
       "      <th>Unnamed: 10</th>\n",
       "      <th>Unnamed: 11</th>\n",
       "      <th>Unnamed: 12</th>\n",
       "    </tr>\n",
       "  </thead>\n",
       "  <tbody>\n",
       "    <tr>\n",
       "      <th>0</th>\n",
       "      <td>1</td>\n",
       "      <td>Word(fact_id=1, question='dreigen', answer=['t...</td>\n",
       "      <td>1146363.0</td>\n",
       "      <td>inf</td>\n",
       "      <td>False</td>\n",
       "      <td>1</td>\n",
       "      <td>dreigen</td>\n",
       "      <td>['threaten', 'to threaten']</td>\n",
       "      <td>NaN</td>\n",
       "      <td>NaN</td>\n",
       "      <td>NaN</td>\n",
       "      <td>NaN</td>\n",
       "      <td>NaN</td>\n",
       "    </tr>\n",
       "    <tr>\n",
       "      <th>1</th>\n",
       "      <td>2</td>\n",
       "      <td>Word(fact_id=2, question='voldoende', answer=[...</td>\n",
       "      <td>1154674.0</td>\n",
       "      <td>1770.0</td>\n",
       "      <td>False</td>\n",
       "      <td>2</td>\n",
       "      <td>voldoende</td>\n",
       "      <td>['sufficient', 'enough']</td>\n",
       "      <td>NaN</td>\n",
       "      <td>NaN</td>\n",
       "      <td>NaN</td>\n",
       "      <td>NaN</td>\n",
       "      <td>NaN</td>\n",
       "    </tr>\n",
       "    <tr>\n",
       "      <th>2</th>\n",
       "      <td>3</td>\n",
       "      <td>Word(fact_id=3, question='bewaren', answer=['k...</td>\n",
       "      <td>1159538.0</td>\n",
       "      <td>inf</td>\n",
       "      <td>True</td>\n",
       "      <td>3</td>\n",
       "      <td>bewaren</td>\n",
       "      <td>['keep', 'to keep']</td>\n",
       "      <td>NaN</td>\n",
       "      <td>NaN</td>\n",
       "      <td>NaN</td>\n",
       "      <td>NaN</td>\n",
       "      <td>NaN</td>\n",
       "    </tr>\n",
       "    <tr>\n",
       "      <th>3</th>\n",
       "      <td>4</td>\n",
       "      <td>Word(fact_id=4, question='gemiddeld', answer=[...</td>\n",
       "      <td>1168089.0</td>\n",
       "      <td>inf</td>\n",
       "      <td>True</td>\n",
       "      <td>4</td>\n",
       "      <td>gemiddeld</td>\n",
       "      <td>['average', 'on average']</td>\n",
       "      <td>NaN</td>\n",
       "      <td>NaN</td>\n",
       "      <td>NaN</td>\n",
       "      <td>NaN</td>\n",
       "      <td>NaN</td>\n",
       "    </tr>\n",
       "    <tr>\n",
       "      <th>4</th>\n",
       "      <td>5</td>\n",
       "      <td>Word(fact_id=5, question='verwachten', answer=...</td>\n",
       "      <td>1173078.0</td>\n",
       "      <td>inf</td>\n",
       "      <td>True</td>\n",
       "      <td>5</td>\n",
       "      <td>verwachten</td>\n",
       "      <td>['expect', 'to expect']</td>\n",
       "      <td>NaN</td>\n",
       "      <td>NaN</td>\n",
       "      <td>NaN</td>\n",
       "      <td>NaN</td>\n",
       "      <td>NaN</td>\n",
       "    </tr>\n",
       "  </tbody>\n",
       "</table>\n",
       "</div>"
      ],
      "text/plain": [
       "   trial                                               fact  start_time  \\\n",
       "0      1  Word(fact_id=1, question='dreigen', answer=['t...   1146363.0   \n",
       "1      2  Word(fact_id=2, question='voldoende', answer=[...   1154674.0   \n",
       "2      3  Word(fact_id=3, question='bewaren', answer=['k...   1159538.0   \n",
       "3      4  Word(fact_id=4, question='gemiddeld', answer=[...   1168089.0   \n",
       "4      5  Word(fact_id=5, question='verwachten', answer=...   1173078.0   \n",
       "\n",
       "       rt  correct  fact_id    question                       answer  \\\n",
       "0     inf    False        1     dreigen  ['threaten', 'to threaten']   \n",
       "1  1770.0    False        2   voldoende     ['sufficient', 'enough']   \n",
       "2     inf     True        3     bewaren          ['keep', 'to keep']   \n",
       "3     inf     True        4   gemiddeld    ['average', 'on average']   \n",
       "4     inf     True        5  verwachten      ['expect', 'to expect']   \n",
       "\n",
       "   Unnamed: 8  Unnamed: 9  Unnamed: 10  Unnamed: 11  Unnamed: 12  \n",
       "0         NaN         NaN          NaN          NaN          NaN  \n",
       "1         NaN         NaN          NaN          NaN          NaN  \n",
       "2         NaN         NaN          NaN          NaN          NaN  \n",
       "3         NaN         NaN          NaN          NaN          NaN  \n",
       "4         NaN         NaN          NaN          NaN          NaN  "
      ]
     },
     "execution_count": 210,
     "metadata": {},
     "output_type": "execute_result"
    }
   ],
   "source": [
    "tes.head()"
   ]
  },
  {
   "cell_type": "code",
   "execution_count": 211,
   "metadata": {},
   "outputs": [
    {
     "data": {
      "text/plain": [
       "89012.44444444444"
      ]
     },
     "execution_count": 211,
     "metadata": {},
     "output_type": "execute_result"
    }
   ],
   "source": [
    "# Avergae RT\n",
    "np.average([x for x in tes[\"rt\"].values if x!=np.Inf])"
   ]
  },
  {
   "cell_type": "code",
   "execution_count": 212,
   "metadata": {},
   "outputs": [
    {
     "data": {
      "text/plain": [
       "True     30\n",
       "False     7\n",
       "Name: correct, dtype: int64"
      ]
     },
     "execution_count": 212,
     "metadata": {},
     "output_type": "execute_result"
    }
   ],
   "source": [
    "# No of correct/wrong in encounter 1\n",
    "tes[\"correct\"].value_counts()"
   ]
  },
  {
   "cell_type": "code",
   "execution_count": 213,
   "metadata": {},
   "outputs": [
    {
     "data": {
      "text/plain": [
       "37"
      ]
     },
     "execution_count": 213,
     "metadata": {},
     "output_type": "execute_result"
    }
   ],
   "source": [
    "len(tes)"
   ]
  },
  {
   "cell_type": "markdown",
   "metadata": {},
   "source": [
    "## Comparing Test and training/Contest"
   ]
  },
  {
   "cell_type": "code",
   "execution_count": 214,
   "metadata": {},
   "outputs": [
    {
     "name": "stderr",
     "output_type": "stream",
     "text": [
      "/var/folders/s2/psn1kzxd2_972xy94t5fr4cr0000gn/T/ipykernel_51267/3378082505.py:1: FutureWarning: The default value of numeric_only in DataFrameGroupBy.mean is deprecated. In a future version, numeric_only will default to False. Either specify numeric_only or select only columns which should be valid for the function.\n",
      "  tes_grouped = tes.groupby('fact_id').agg('mean')\n"
     ]
    },
    {
     "data": {
      "text/html": [
       "<div>\n",
       "<style scoped>\n",
       "    .dataframe tbody tr th:only-of-type {\n",
       "        vertical-align: middle;\n",
       "    }\n",
       "\n",
       "    .dataframe tbody tr th {\n",
       "        vertical-align: top;\n",
       "    }\n",
       "\n",
       "    .dataframe thead th {\n",
       "        text-align: right;\n",
       "    }\n",
       "</style>\n",
       "<table border=\"1\" class=\"dataframe\">\n",
       "  <thead>\n",
       "    <tr style=\"text-align: right;\">\n",
       "      <th></th>\n",
       "      <th>trial</th>\n",
       "      <th>start_time</th>\n",
       "      <th>rt</th>\n",
       "      <th>correct</th>\n",
       "      <th>Unnamed: 8</th>\n",
       "      <th>Unnamed: 9</th>\n",
       "      <th>Unnamed: 10</th>\n",
       "      <th>Unnamed: 11</th>\n",
       "      <th>Unnamed: 12</th>\n",
       "    </tr>\n",
       "    <tr>\n",
       "      <th>fact_id</th>\n",
       "      <th></th>\n",
       "      <th></th>\n",
       "      <th></th>\n",
       "      <th></th>\n",
       "      <th></th>\n",
       "      <th></th>\n",
       "      <th></th>\n",
       "      <th></th>\n",
       "      <th></th>\n",
       "    </tr>\n",
       "  </thead>\n",
       "  <tbody>\n",
       "    <tr>\n",
       "      <th>1</th>\n",
       "      <td>9.5</td>\n",
       "      <td>1731781.0</td>\n",
       "      <td>NaN</td>\n",
       "      <td>0.5</td>\n",
       "      <td>NaN</td>\n",
       "      <td>NaN</td>\n",
       "      <td>NaN</td>\n",
       "      <td>NaN</td>\n",
       "      <td>NaN</td>\n",
       "    </tr>\n",
       "    <tr>\n",
       "      <th>2</th>\n",
       "      <td>10.5</td>\n",
       "      <td>1737620.0</td>\n",
       "      <td>2565.5</td>\n",
       "      <td>0.0</td>\n",
       "      <td>NaN</td>\n",
       "      <td>NaN</td>\n",
       "      <td>NaN</td>\n",
       "      <td>NaN</td>\n",
       "      <td>NaN</td>\n",
       "    </tr>\n",
       "    <tr>\n",
       "      <th>3</th>\n",
       "      <td>11.5</td>\n",
       "      <td>1743222.5</td>\n",
       "      <td>NaN</td>\n",
       "      <td>1.0</td>\n",
       "      <td>NaN</td>\n",
       "      <td>NaN</td>\n",
       "      <td>NaN</td>\n",
       "      <td>NaN</td>\n",
       "      <td>NaN</td>\n",
       "    </tr>\n",
       "    <tr>\n",
       "      <th>4</th>\n",
       "      <td>12.5</td>\n",
       "      <td>1750729.0</td>\n",
       "      <td>NaN</td>\n",
       "      <td>1.0</td>\n",
       "      <td>NaN</td>\n",
       "      <td>NaN</td>\n",
       "      <td>NaN</td>\n",
       "      <td>NaN</td>\n",
       "      <td>NaN</td>\n",
       "    </tr>\n",
       "    <tr>\n",
       "      <th>5</th>\n",
       "      <td>13.5</td>\n",
       "      <td>1754846.5</td>\n",
       "      <td>NaN</td>\n",
       "      <td>1.0</td>\n",
       "      <td>NaN</td>\n",
       "      <td>NaN</td>\n",
       "      <td>NaN</td>\n",
       "      <td>NaN</td>\n",
       "      <td>NaN</td>\n",
       "    </tr>\n",
       "  </tbody>\n",
       "</table>\n",
       "</div>"
      ],
      "text/plain": [
       "         trial  start_time      rt  correct  Unnamed: 8  Unnamed: 9  \\\n",
       "fact_id                                                               \n",
       "1          9.5   1731781.0     NaN      0.5         NaN         NaN   \n",
       "2         10.5   1737620.0  2565.5      0.0         NaN         NaN   \n",
       "3         11.5   1743222.5     NaN      1.0         NaN         NaN   \n",
       "4         12.5   1750729.0     NaN      1.0         NaN         NaN   \n",
       "5         13.5   1754846.5     NaN      1.0         NaN         NaN   \n",
       "\n",
       "         Unnamed: 10  Unnamed: 11  Unnamed: 12  \n",
       "fact_id                                         \n",
       "1                NaN          NaN          NaN  \n",
       "2                NaN          NaN          NaN  \n",
       "3                NaN          NaN          NaN  \n",
       "4                NaN          NaN          NaN  \n",
       "5                NaN          NaN          NaN  "
      ]
     },
     "execution_count": 214,
     "metadata": {},
     "output_type": "execute_result"
    }
   ],
   "source": [
    "\n",
    "tes_grouped = tes.groupby('fact_id').agg('mean')\n",
    "tes_grouped.head(5)"
   ]
  },
  {
   "cell_type": "markdown",
   "metadata": {},
   "source": [
    "## Comparing P1 and tes"
   ]
  },
  {
   "cell_type": "code",
   "execution_count": 215,
   "metadata": {},
   "outputs": [
    {
     "name": "stderr",
     "output_type": "stream",
     "text": [
      "/var/folders/s2/psn1kzxd2_972xy94t5fr4cr0000gn/T/ipykernel_51267/486987055.py:1: FutureWarning: The default value of numeric_only in DataFrameGroupBy.mean is deprecated. In a future version, numeric_only will default to False. Either specify numeric_only or select only columns which should be valid for the function.\n",
      "  p1_grouped = p1.groupby('fact_id').agg('mean')\n"
     ]
    },
    {
     "data": {
      "text/html": [
       "<div>\n",
       "<style scoped>\n",
       "    .dataframe tbody tr th:only-of-type {\n",
       "        vertical-align: middle;\n",
       "    }\n",
       "\n",
       "    .dataframe tbody tr th {\n",
       "        vertical-align: top;\n",
       "    }\n",
       "\n",
       "    .dataframe thead th {\n",
       "        text-align: right;\n",
       "    }\n",
       "</style>\n",
       "<table border=\"1\" class=\"dataframe\">\n",
       "  <thead>\n",
       "    <tr style=\"text-align: right;\">\n",
       "      <th></th>\n",
       "      <th>trial</th>\n",
       "      <th>start_time</th>\n",
       "      <th>rt</th>\n",
       "      <th>correct</th>\n",
       "      <th>encounter_2</th>\n",
       "      <th>reading_time</th>\n",
       "      <th>fogetting_rate</th>\n",
       "    </tr>\n",
       "    <tr>\n",
       "      <th>fact_id</th>\n",
       "      <th></th>\n",
       "      <th></th>\n",
       "      <th></th>\n",
       "      <th></th>\n",
       "      <th></th>\n",
       "      <th></th>\n",
       "      <th></th>\n",
       "    </tr>\n",
       "  </thead>\n",
       "  <tbody>\n",
       "    <tr>\n",
       "      <th>1</th>\n",
       "      <td>31.250000</td>\n",
       "      <td>115043.000000</td>\n",
       "      <td>NaN</td>\n",
       "      <td>0.750000</td>\n",
       "      <td>0.000000</td>\n",
       "      <td>563.6</td>\n",
       "      <td>0.262500</td>\n",
       "    </tr>\n",
       "    <tr>\n",
       "      <th>2</th>\n",
       "      <td>62.500000</td>\n",
       "      <td>444667.090909</td>\n",
       "      <td>NaN</td>\n",
       "      <td>0.909091</td>\n",
       "      <td>0.818182</td>\n",
       "      <td>680.6</td>\n",
       "      <td>0.521964</td>\n",
       "    </tr>\n",
       "    <tr>\n",
       "      <th>3</th>\n",
       "      <td>49.166667</td>\n",
       "      <td>371327.166667</td>\n",
       "      <td>NaN</td>\n",
       "      <td>0.833333</td>\n",
       "      <td>0.000000</td>\n",
       "      <td>914.6</td>\n",
       "      <td>0.296810</td>\n",
       "    </tr>\n",
       "    <tr>\n",
       "      <th>4</th>\n",
       "      <td>41.750000</td>\n",
       "      <td>329523.333333</td>\n",
       "      <td>NaN</td>\n",
       "      <td>0.833333</td>\n",
       "      <td>0.666667</td>\n",
       "      <td>1012.1</td>\n",
       "      <td>0.436458</td>\n",
       "    </tr>\n",
       "    <tr>\n",
       "      <th>5</th>\n",
       "      <td>19.666667</td>\n",
       "      <td>212758.000000</td>\n",
       "      <td>1486.333333</td>\n",
       "      <td>0.666667</td>\n",
       "      <td>0.000000</td>\n",
       "      <td>758.6</td>\n",
       "      <td>0.250391</td>\n",
       "    </tr>\n",
       "  </tbody>\n",
       "</table>\n",
       "</div>"
      ],
      "text/plain": [
       "             trial     start_time           rt   correct  encounter_2  \\\n",
       "fact_id                                                                 \n",
       "1        31.250000  115043.000000          NaN  0.750000     0.000000   \n",
       "2        62.500000  444667.090909          NaN  0.909091     0.818182   \n",
       "3        49.166667  371327.166667          NaN  0.833333     0.000000   \n",
       "4        41.750000  329523.333333          NaN  0.833333     0.666667   \n",
       "5        19.666667  212758.000000  1486.333333  0.666667     0.000000   \n",
       "\n",
       "         reading_time  fogetting_rate  \n",
       "fact_id                                \n",
       "1               563.6        0.262500  \n",
       "2               680.6        0.521964  \n",
       "3               914.6        0.296810  \n",
       "4              1012.1        0.436458  \n",
       "5               758.6        0.250391  "
      ]
     },
     "execution_count": 215,
     "metadata": {},
     "output_type": "execute_result"
    }
   ],
   "source": [
    "p1_grouped = p1.groupby('fact_id').agg('mean')\n",
    "p1_grouped.head(5)"
   ]
  },
  {
   "cell_type": "code",
   "execution_count": 216,
   "metadata": {},
   "outputs": [
    {
     "data": {
      "text/html": [
       "<div>\n",
       "<style scoped>\n",
       "    .dataframe tbody tr th:only-of-type {\n",
       "        vertical-align: middle;\n",
       "    }\n",
       "\n",
       "    .dataframe tbody tr th {\n",
       "        vertical-align: top;\n",
       "    }\n",
       "\n",
       "    .dataframe thead th {\n",
       "        text-align: right;\n",
       "    }\n",
       "</style>\n",
       "<table border=\"1\" class=\"dataframe\">\n",
       "  <thead>\n",
       "    <tr style=\"text-align: right;\">\n",
       "      <th></th>\n",
       "      <th>trial_x</th>\n",
       "      <th>start_time_x</th>\n",
       "      <th>rt_x</th>\n",
       "      <th>correct_x</th>\n",
       "      <th>Unnamed: 8</th>\n",
       "      <th>Unnamed: 9</th>\n",
       "      <th>Unnamed: 10</th>\n",
       "      <th>Unnamed: 11</th>\n",
       "      <th>Unnamed: 12</th>\n",
       "      <th>trial_y</th>\n",
       "      <th>start_time_y</th>\n",
       "      <th>rt_y</th>\n",
       "      <th>correct_y</th>\n",
       "      <th>encounter_2</th>\n",
       "      <th>reading_time</th>\n",
       "      <th>fogetting_rate</th>\n",
       "    </tr>\n",
       "    <tr>\n",
       "      <th>fact_id</th>\n",
       "      <th></th>\n",
       "      <th></th>\n",
       "      <th></th>\n",
       "      <th></th>\n",
       "      <th></th>\n",
       "      <th></th>\n",
       "      <th></th>\n",
       "      <th></th>\n",
       "      <th></th>\n",
       "      <th></th>\n",
       "      <th></th>\n",
       "      <th></th>\n",
       "      <th></th>\n",
       "      <th></th>\n",
       "      <th></th>\n",
       "      <th></th>\n",
       "    </tr>\n",
       "  </thead>\n",
       "  <tbody>\n",
       "    <tr>\n",
       "      <th>1</th>\n",
       "      <td>9.5</td>\n",
       "      <td>1731781.0</td>\n",
       "      <td>NaN</td>\n",
       "      <td>0.5</td>\n",
       "      <td>NaN</td>\n",
       "      <td>NaN</td>\n",
       "      <td>NaN</td>\n",
       "      <td>NaN</td>\n",
       "      <td>NaN</td>\n",
       "      <td>31.250000</td>\n",
       "      <td>115043.000000</td>\n",
       "      <td>NaN</td>\n",
       "      <td>0.750000</td>\n",
       "      <td>0.000000</td>\n",
       "      <td>563.6</td>\n",
       "      <td>0.262500</td>\n",
       "    </tr>\n",
       "    <tr>\n",
       "      <th>2</th>\n",
       "      <td>10.5</td>\n",
       "      <td>1737620.0</td>\n",
       "      <td>2565.5</td>\n",
       "      <td>0.0</td>\n",
       "      <td>NaN</td>\n",
       "      <td>NaN</td>\n",
       "      <td>NaN</td>\n",
       "      <td>NaN</td>\n",
       "      <td>NaN</td>\n",
       "      <td>62.500000</td>\n",
       "      <td>444667.090909</td>\n",
       "      <td>NaN</td>\n",
       "      <td>0.909091</td>\n",
       "      <td>0.818182</td>\n",
       "      <td>680.6</td>\n",
       "      <td>0.521964</td>\n",
       "    </tr>\n",
       "    <tr>\n",
       "      <th>3</th>\n",
       "      <td>11.5</td>\n",
       "      <td>1743222.5</td>\n",
       "      <td>NaN</td>\n",
       "      <td>1.0</td>\n",
       "      <td>NaN</td>\n",
       "      <td>NaN</td>\n",
       "      <td>NaN</td>\n",
       "      <td>NaN</td>\n",
       "      <td>NaN</td>\n",
       "      <td>49.166667</td>\n",
       "      <td>371327.166667</td>\n",
       "      <td>NaN</td>\n",
       "      <td>0.833333</td>\n",
       "      <td>0.000000</td>\n",
       "      <td>914.6</td>\n",
       "      <td>0.296810</td>\n",
       "    </tr>\n",
       "    <tr>\n",
       "      <th>4</th>\n",
       "      <td>12.5</td>\n",
       "      <td>1750729.0</td>\n",
       "      <td>NaN</td>\n",
       "      <td>1.0</td>\n",
       "      <td>NaN</td>\n",
       "      <td>NaN</td>\n",
       "      <td>NaN</td>\n",
       "      <td>NaN</td>\n",
       "      <td>NaN</td>\n",
       "      <td>41.750000</td>\n",
       "      <td>329523.333333</td>\n",
       "      <td>NaN</td>\n",
       "      <td>0.833333</td>\n",
       "      <td>0.666667</td>\n",
       "      <td>1012.1</td>\n",
       "      <td>0.436458</td>\n",
       "    </tr>\n",
       "    <tr>\n",
       "      <th>5</th>\n",
       "      <td>13.5</td>\n",
       "      <td>1754846.5</td>\n",
       "      <td>NaN</td>\n",
       "      <td>1.0</td>\n",
       "      <td>NaN</td>\n",
       "      <td>NaN</td>\n",
       "      <td>NaN</td>\n",
       "      <td>NaN</td>\n",
       "      <td>NaN</td>\n",
       "      <td>19.666667</td>\n",
       "      <td>212758.000000</td>\n",
       "      <td>1486.333333</td>\n",
       "      <td>0.666667</td>\n",
       "      <td>0.000000</td>\n",
       "      <td>758.6</td>\n",
       "      <td>0.250391</td>\n",
       "    </tr>\n",
       "  </tbody>\n",
       "</table>\n",
       "</div>"
      ],
      "text/plain": [
       "         trial_x  start_time_x    rt_x  correct_x  Unnamed: 8  Unnamed: 9  \\\n",
       "fact_id                                                                     \n",
       "1            9.5     1731781.0     NaN        0.5         NaN         NaN   \n",
       "2           10.5     1737620.0  2565.5        0.0         NaN         NaN   \n",
       "3           11.5     1743222.5     NaN        1.0         NaN         NaN   \n",
       "4           12.5     1750729.0     NaN        1.0         NaN         NaN   \n",
       "5           13.5     1754846.5     NaN        1.0         NaN         NaN   \n",
       "\n",
       "         Unnamed: 10  Unnamed: 11  Unnamed: 12    trial_y   start_time_y  \\\n",
       "fact_id                                                                    \n",
       "1                NaN          NaN          NaN  31.250000  115043.000000   \n",
       "2                NaN          NaN          NaN  62.500000  444667.090909   \n",
       "3                NaN          NaN          NaN  49.166667  371327.166667   \n",
       "4                NaN          NaN          NaN  41.750000  329523.333333   \n",
       "5                NaN          NaN          NaN  19.666667  212758.000000   \n",
       "\n",
       "                rt_y  correct_y  encounter_2  reading_time  fogetting_rate  \n",
       "fact_id                                                                     \n",
       "1                NaN   0.750000     0.000000         563.6        0.262500  \n",
       "2                NaN   0.909091     0.818182         680.6        0.521964  \n",
       "3                NaN   0.833333     0.000000         914.6        0.296810  \n",
       "4                NaN   0.833333     0.666667        1012.1        0.436458  \n",
       "5        1486.333333   0.666667     0.000000         758.6        0.250391  "
      ]
     },
     "execution_count": 216,
     "metadata": {},
     "output_type": "execute_result"
    }
   ],
   "source": [
    "merge_tes_p1_groups = pd.merge(tes_grouped, p1_grouped, how = \"left\", on = \"fact_id\")\n",
    "merge_tes_p1_groups.head(5)"
   ]
  },
  {
   "cell_type": "code",
   "execution_count": 217,
   "metadata": {},
   "outputs": [
    {
     "data": {
      "text/plain": [
       "20"
      ]
     },
     "execution_count": 217,
     "metadata": {},
     "output_type": "execute_result"
    }
   ],
   "source": [
    "len(merge_tes_p1_groups)"
   ]
  },
  {
   "cell_type": "code",
   "execution_count": 218,
   "metadata": {},
   "outputs": [
    {
     "data": {
      "text/plain": [
       "11"
      ]
     },
     "execution_count": 218,
     "metadata": {},
     "output_type": "execute_result"
    }
   ],
   "source": [
    "# Count how many times the avg correctness is greater in the grouped P1 than the grouped P2\n",
    "len(merge_tes_p1_groups[merge_tes_p1_groups.correct_x > merge_tes_p1_groups.correct_y])"
   ]
  },
  {
   "cell_type": "code",
   "execution_count": null,
   "metadata": {},
   "outputs": [],
   "source": []
  },
  {
   "cell_type": "markdown",
   "metadata": {},
   "source": [
    "## Comparing P2 and tes"
   ]
  },
  {
   "cell_type": "code",
   "execution_count": 219,
   "metadata": {},
   "outputs": [
    {
     "name": "stderr",
     "output_type": "stream",
     "text": [
      "/var/folders/s2/psn1kzxd2_972xy94t5fr4cr0000gn/T/ipykernel_51267/581003624.py:1: FutureWarning: The default value of numeric_only in DataFrameGroupBy.mean is deprecated. In a future version, numeric_only will default to False. Either specify numeric_only or select only columns which should be valid for the function.\n",
      "  p2_grouped = p2.groupby('fact_id').agg('mean')\n"
     ]
    },
    {
     "data": {
      "text/html": [
       "<div>\n",
       "<style scoped>\n",
       "    .dataframe tbody tr th:only-of-type {\n",
       "        vertical-align: middle;\n",
       "    }\n",
       "\n",
       "    .dataframe tbody tr th {\n",
       "        vertical-align: top;\n",
       "    }\n",
       "\n",
       "    .dataframe thead th {\n",
       "        text-align: right;\n",
       "    }\n",
       "</style>\n",
       "<table border=\"1\" class=\"dataframe\">\n",
       "  <thead>\n",
       "    <tr style=\"text-align: right;\">\n",
       "      <th></th>\n",
       "      <th>trial</th>\n",
       "      <th>start_time</th>\n",
       "      <th>rt</th>\n",
       "      <th>correct</th>\n",
       "      <th>encounter_2</th>\n",
       "      <th>reading_time</th>\n",
       "      <th>fogetting_rate</th>\n",
       "    </tr>\n",
       "    <tr>\n",
       "      <th>fact_id</th>\n",
       "      <th></th>\n",
       "      <th></th>\n",
       "      <th></th>\n",
       "      <th></th>\n",
       "      <th></th>\n",
       "      <th></th>\n",
       "      <th></th>\n",
       "    </tr>\n",
       "  </thead>\n",
       "  <tbody>\n",
       "    <tr>\n",
       "      <th>1</th>\n",
       "      <td>16.800000</td>\n",
       "      <td>1.144845e+06</td>\n",
       "      <td>330421.6</td>\n",
       "      <td>0.800000</td>\n",
       "      <td>0.0</td>\n",
       "      <td>875.6</td>\n",
       "      <td>0.301406</td>\n",
       "    </tr>\n",
       "    <tr>\n",
       "      <th>2</th>\n",
       "      <td>62.500000</td>\n",
       "      <td>1.750866e+06</td>\n",
       "      <td>NaN</td>\n",
       "      <td>0.583333</td>\n",
       "      <td>0.0</td>\n",
       "      <td>622.1</td>\n",
       "      <td>0.391797</td>\n",
       "    </tr>\n",
       "    <tr>\n",
       "      <th>3</th>\n",
       "      <td>40.583333</td>\n",
       "      <td>1.616873e+06</td>\n",
       "      <td>NaN</td>\n",
       "      <td>0.916667</td>\n",
       "      <td>0.0</td>\n",
       "      <td>1304.6</td>\n",
       "      <td>0.427734</td>\n",
       "    </tr>\n",
       "    <tr>\n",
       "      <th>4</th>\n",
       "      <td>18.666667</td>\n",
       "      <td>1.482028e+06</td>\n",
       "      <td>1338.0</td>\n",
       "      <td>0.666667</td>\n",
       "      <td>0.0</td>\n",
       "      <td>1285.1</td>\n",
       "      <td>0.250391</td>\n",
       "    </tr>\n",
       "    <tr>\n",
       "      <th>5</th>\n",
       "      <td>56.322581</td>\n",
       "      <td>1.712316e+06</td>\n",
       "      <td>NaN</td>\n",
       "      <td>0.935484</td>\n",
       "      <td>0.0</td>\n",
       "      <td>797.6</td>\n",
       "      <td>0.668536</td>\n",
       "    </tr>\n",
       "  </tbody>\n",
       "</table>\n",
       "</div>"
      ],
      "text/plain": [
       "             trial    start_time        rt   correct  encounter_2  \\\n",
       "fact_id                                                             \n",
       "1        16.800000  1.144845e+06  330421.6  0.800000          0.0   \n",
       "2        62.500000  1.750866e+06       NaN  0.583333          0.0   \n",
       "3        40.583333  1.616873e+06       NaN  0.916667          0.0   \n",
       "4        18.666667  1.482028e+06    1338.0  0.666667          0.0   \n",
       "5        56.322581  1.712316e+06       NaN  0.935484          0.0   \n",
       "\n",
       "         reading_time  fogetting_rate  \n",
       "fact_id                                \n",
       "1               875.6        0.301406  \n",
       "2               622.1        0.391797  \n",
       "3              1304.6        0.427734  \n",
       "4              1285.1        0.250391  \n",
       "5               797.6        0.668536  "
      ]
     },
     "execution_count": 219,
     "metadata": {},
     "output_type": "execute_result"
    }
   ],
   "source": [
    "p2_grouped = p2.groupby('fact_id').agg('mean')\n",
    "p2_grouped.head(5)"
   ]
  },
  {
   "cell_type": "code",
   "execution_count": 220,
   "metadata": {},
   "outputs": [
    {
     "data": {
      "text/html": [
       "<div>\n",
       "<style scoped>\n",
       "    .dataframe tbody tr th:only-of-type {\n",
       "        vertical-align: middle;\n",
       "    }\n",
       "\n",
       "    .dataframe tbody tr th {\n",
       "        vertical-align: top;\n",
       "    }\n",
       "\n",
       "    .dataframe thead th {\n",
       "        text-align: right;\n",
       "    }\n",
       "</style>\n",
       "<table border=\"1\" class=\"dataframe\">\n",
       "  <thead>\n",
       "    <tr style=\"text-align: right;\">\n",
       "      <th></th>\n",
       "      <th>trial_x</th>\n",
       "      <th>start_time_x</th>\n",
       "      <th>rt_x</th>\n",
       "      <th>correct_x</th>\n",
       "      <th>Unnamed: 8</th>\n",
       "      <th>Unnamed: 9</th>\n",
       "      <th>Unnamed: 10</th>\n",
       "      <th>Unnamed: 11</th>\n",
       "      <th>Unnamed: 12</th>\n",
       "      <th>trial_y</th>\n",
       "      <th>start_time_y</th>\n",
       "      <th>rt_y</th>\n",
       "      <th>correct_y</th>\n",
       "      <th>encounter_2</th>\n",
       "      <th>reading_time</th>\n",
       "      <th>fogetting_rate</th>\n",
       "    </tr>\n",
       "    <tr>\n",
       "      <th>fact_id</th>\n",
       "      <th></th>\n",
       "      <th></th>\n",
       "      <th></th>\n",
       "      <th></th>\n",
       "      <th></th>\n",
       "      <th></th>\n",
       "      <th></th>\n",
       "      <th></th>\n",
       "      <th></th>\n",
       "      <th></th>\n",
       "      <th></th>\n",
       "      <th></th>\n",
       "      <th></th>\n",
       "      <th></th>\n",
       "      <th></th>\n",
       "      <th></th>\n",
       "    </tr>\n",
       "  </thead>\n",
       "  <tbody>\n",
       "    <tr>\n",
       "      <th>1</th>\n",
       "      <td>9.5</td>\n",
       "      <td>1731781.0</td>\n",
       "      <td>NaN</td>\n",
       "      <td>0.5</td>\n",
       "      <td>NaN</td>\n",
       "      <td>NaN</td>\n",
       "      <td>NaN</td>\n",
       "      <td>NaN</td>\n",
       "      <td>NaN</td>\n",
       "      <td>16.800000</td>\n",
       "      <td>1.144845e+06</td>\n",
       "      <td>330421.6</td>\n",
       "      <td>0.800000</td>\n",
       "      <td>0.0</td>\n",
       "      <td>875.6</td>\n",
       "      <td>0.301406</td>\n",
       "    </tr>\n",
       "    <tr>\n",
       "      <th>2</th>\n",
       "      <td>10.5</td>\n",
       "      <td>1737620.0</td>\n",
       "      <td>2565.5</td>\n",
       "      <td>0.0</td>\n",
       "      <td>NaN</td>\n",
       "      <td>NaN</td>\n",
       "      <td>NaN</td>\n",
       "      <td>NaN</td>\n",
       "      <td>NaN</td>\n",
       "      <td>62.500000</td>\n",
       "      <td>1.750866e+06</td>\n",
       "      <td>NaN</td>\n",
       "      <td>0.583333</td>\n",
       "      <td>0.0</td>\n",
       "      <td>622.1</td>\n",
       "      <td>0.391797</td>\n",
       "    </tr>\n",
       "    <tr>\n",
       "      <th>3</th>\n",
       "      <td>11.5</td>\n",
       "      <td>1743222.5</td>\n",
       "      <td>NaN</td>\n",
       "      <td>1.0</td>\n",
       "      <td>NaN</td>\n",
       "      <td>NaN</td>\n",
       "      <td>NaN</td>\n",
       "      <td>NaN</td>\n",
       "      <td>NaN</td>\n",
       "      <td>40.583333</td>\n",
       "      <td>1.616873e+06</td>\n",
       "      <td>NaN</td>\n",
       "      <td>0.916667</td>\n",
       "      <td>0.0</td>\n",
       "      <td>1304.6</td>\n",
       "      <td>0.427734</td>\n",
       "    </tr>\n",
       "    <tr>\n",
       "      <th>4</th>\n",
       "      <td>12.5</td>\n",
       "      <td>1750729.0</td>\n",
       "      <td>NaN</td>\n",
       "      <td>1.0</td>\n",
       "      <td>NaN</td>\n",
       "      <td>NaN</td>\n",
       "      <td>NaN</td>\n",
       "      <td>NaN</td>\n",
       "      <td>NaN</td>\n",
       "      <td>18.666667</td>\n",
       "      <td>1.482028e+06</td>\n",
       "      <td>1338.0</td>\n",
       "      <td>0.666667</td>\n",
       "      <td>0.0</td>\n",
       "      <td>1285.1</td>\n",
       "      <td>0.250391</td>\n",
       "    </tr>\n",
       "    <tr>\n",
       "      <th>5</th>\n",
       "      <td>13.5</td>\n",
       "      <td>1754846.5</td>\n",
       "      <td>NaN</td>\n",
       "      <td>1.0</td>\n",
       "      <td>NaN</td>\n",
       "      <td>NaN</td>\n",
       "      <td>NaN</td>\n",
       "      <td>NaN</td>\n",
       "      <td>NaN</td>\n",
       "      <td>56.322581</td>\n",
       "      <td>1.712316e+06</td>\n",
       "      <td>NaN</td>\n",
       "      <td>0.935484</td>\n",
       "      <td>0.0</td>\n",
       "      <td>797.6</td>\n",
       "      <td>0.668536</td>\n",
       "    </tr>\n",
       "  </tbody>\n",
       "</table>\n",
       "</div>"
      ],
      "text/plain": [
       "         trial_x  start_time_x    rt_x  correct_x  Unnamed: 8  Unnamed: 9  \\\n",
       "fact_id                                                                     \n",
       "1            9.5     1731781.0     NaN        0.5         NaN         NaN   \n",
       "2           10.5     1737620.0  2565.5        0.0         NaN         NaN   \n",
       "3           11.5     1743222.5     NaN        1.0         NaN         NaN   \n",
       "4           12.5     1750729.0     NaN        1.0         NaN         NaN   \n",
       "5           13.5     1754846.5     NaN        1.0         NaN         NaN   \n",
       "\n",
       "         Unnamed: 10  Unnamed: 11  Unnamed: 12    trial_y  start_time_y  \\\n",
       "fact_id                                                                   \n",
       "1                NaN          NaN          NaN  16.800000  1.144845e+06   \n",
       "2                NaN          NaN          NaN  62.500000  1.750866e+06   \n",
       "3                NaN          NaN          NaN  40.583333  1.616873e+06   \n",
       "4                NaN          NaN          NaN  18.666667  1.482028e+06   \n",
       "5                NaN          NaN          NaN  56.322581  1.712316e+06   \n",
       "\n",
       "             rt_y  correct_y  encounter_2  reading_time  fogetting_rate  \n",
       "fact_id                                                                  \n",
       "1        330421.6   0.800000          0.0         875.6        0.301406  \n",
       "2             NaN   0.583333          0.0         622.1        0.391797  \n",
       "3             NaN   0.916667          0.0        1304.6        0.427734  \n",
       "4          1338.0   0.666667          0.0        1285.1        0.250391  \n",
       "5             NaN   0.935484          0.0         797.6        0.668536  "
      ]
     },
     "execution_count": 220,
     "metadata": {},
     "output_type": "execute_result"
    }
   ],
   "source": [
    "merge_tes_p2_groups = pd.merge(tes_grouped, p2_grouped, how = \"left\", on = \"fact_id\")\n",
    "merge_tes_p2_groups.head(5)"
   ]
  },
  {
   "cell_type": "code",
   "execution_count": 221,
   "metadata": {},
   "outputs": [
    {
     "data": {
      "text/plain": [
       "20"
      ]
     },
     "execution_count": 221,
     "metadata": {},
     "output_type": "execute_result"
    }
   ],
   "source": [
    "len(merge_tes_p2_groups)"
   ]
  },
  {
   "cell_type": "code",
   "execution_count": 222,
   "metadata": {},
   "outputs": [
    {
     "data": {
      "text/plain": [
       "13"
      ]
     },
     "execution_count": 222,
     "metadata": {},
     "output_type": "execute_result"
    }
   ],
   "source": [
    "# Count how many times the avg correctness is greater in the grouped P1 than the grouped P2\n",
    "len(merge_tes_p2_groups[merge_tes_p2_groups.correct_x > merge_tes_p2_groups.correct_y])"
   ]
  },
  {
   "cell_type": "markdown",
   "metadata": {},
   "source": [
    "# Subject 11"
   ]
  },
  {
   "cell_type": "code",
   "execution_count": 254,
   "metadata": {},
   "outputs": [],
   "source": [
    "all_files = Path(Path.cwd()/\"sub11\")\n",
    "info = pd.read_csv(all_files/\"info.csv\", delimiter=\";\")\n",
    "p1 = pd.read_csv(all_files/\"part1.csv\", delimiter=\";\")\n",
    "p2 = pd.read_csv(all_files/\"part2.csv\", delimiter=\";\")\n",
    "pre = pd.read_csv(all_files/\"pretest.csv\", delimiter=\";\")\n",
    "tes = pd.read_csv(all_files/\"test.csv\", delimiter=\";\")\n"
   ]
  },
  {
   "cell_type": "markdown",
   "metadata": {},
   "source": [
    "## Participant Info"
   ]
  },
  {
   "cell_type": "code",
   "execution_count": 255,
   "metadata": {},
   "outputs": [
    {
     "data": {
      "text/html": [
       "<div>\n",
       "<style scoped>\n",
       "    .dataframe tbody tr th:only-of-type {\n",
       "        vertical-align: middle;\n",
       "    }\n",
       "\n",
       "    .dataframe tbody tr th {\n",
       "        vertical-align: top;\n",
       "    }\n",
       "\n",
       "    .dataframe thead th {\n",
       "        text-align: right;\n",
       "    }\n",
       "</style>\n",
       "<table border=\"1\" class=\"dataframe\">\n",
       "  <thead>\n",
       "    <tr style=\"text-align: right;\">\n",
       "      <th></th>\n",
       "      <th>Language</th>\n",
       "      <th>Level</th>\n",
       "      <th>acc</th>\n",
       "      <th>accuracy</th>\n",
       "      <th>age</th>\n",
       "      <th>average_response_time</th>\n",
       "      <th>avg_rt</th>\n",
       "      <th>b0</th>\n",
       "      <th>b1</th>\n",
       "      <th>background</th>\n",
       "      <th>...</th>\n",
       "      <th>time_up2</th>\n",
       "      <th>time_welcome</th>\n",
       "      <th>title</th>\n",
       "      <th>total_correct</th>\n",
       "      <th>total_response_time</th>\n",
       "      <th>total_responses</th>\n",
       "      <th>trial_num</th>\n",
       "      <th>trial_num_baseline</th>\n",
       "      <th>uniform_coordinates</th>\n",
       "      <th>width</th>\n",
       "    </tr>\n",
       "  </thead>\n",
       "  <tbody>\n",
       "    <tr>\n",
       "      <th>0</th>\n",
       "      <td>Telugu</td>\n",
       "      <td>A1</td>\n",
       "      <td>undefined</td>\n",
       "      <td>undefined</td>\n",
       "      <td>23</td>\n",
       "      <td>undefined</td>\n",
       "      <td>undefined</td>\n",
       "      <td>NaN</td>\n",
       "      <td>NaN</td>\n",
       "      <td>#e8edf1</td>\n",
       "      <td>...</td>\n",
       "      <td>no</td>\n",
       "      <td>2842</td>\n",
       "      <td>SlimStampen example</td>\n",
       "      <td>0</td>\n",
       "      <td>0</td>\n",
       "      <td>0</td>\n",
       "      <td>1</td>\n",
       "      <td>1</td>\n",
       "      <td>yes</td>\n",
       "      <td>1024</td>\n",
       "    </tr>\n",
       "  </tbody>\n",
       "</table>\n",
       "<p>1 rows × 211 columns</p>\n",
       "</div>"
      ],
      "text/plain": [
       "  Language Level        acc   accuracy  age average_response_time     avg_rt  \\\n",
       "0   Telugu    A1  undefined  undefined   23             undefined  undefined   \n",
       "\n",
       "   b0  b1 background  ... time_up2 time_welcome                title  \\\n",
       "0 NaN NaN    #e8edf1  ...       no         2842  SlimStampen example   \n",
       "\n",
       "   total_correct  total_response_time total_responses trial_num  \\\n",
       "0              0                    0               0         1   \n",
       "\n",
       "  trial_num_baseline  uniform_coordinates  width  \n",
       "0                  1                  yes   1024  \n",
       "\n",
       "[1 rows x 211 columns]"
      ]
     },
     "execution_count": 255,
     "metadata": {},
     "output_type": "execute_result"
    }
   ],
   "source": [
    "info.head()"
   ]
  },
  {
   "cell_type": "markdown",
   "metadata": {},
   "source": [
    "## Pretest"
   ]
  },
  {
   "cell_type": "code",
   "execution_count": 256,
   "metadata": {},
   "outputs": [
    {
     "data": {
      "text/html": [
       "<div>\n",
       "<style scoped>\n",
       "    .dataframe tbody tr th:only-of-type {\n",
       "        vertical-align: middle;\n",
       "    }\n",
       "\n",
       "    .dataframe tbody tr th {\n",
       "        vertical-align: top;\n",
       "    }\n",
       "\n",
       "    .dataframe thead th {\n",
       "        text-align: right;\n",
       "    }\n",
       "</style>\n",
       "<table border=\"1\" class=\"dataframe\">\n",
       "  <thead>\n",
       "    <tr style=\"text-align: right;\">\n",
       "      <th></th>\n",
       "      <th>trial</th>\n",
       "      <th>fact</th>\n",
       "      <th>start_time</th>\n",
       "      <th>rt</th>\n",
       "      <th>correct</th>\n",
       "      <th>fact_id</th>\n",
       "      <th>question</th>\n",
       "      <th>answer</th>\n",
       "      <th>Unnamed: 8</th>\n",
       "      <th>Unnamed: 9</th>\n",
       "      <th>...</th>\n",
       "      <th>Unnamed: 201</th>\n",
       "      <th>Unnamed: 202</th>\n",
       "      <th>Unnamed: 203</th>\n",
       "      <th>Unnamed: 204</th>\n",
       "      <th>Unnamed: 205</th>\n",
       "      <th>Unnamed: 206</th>\n",
       "      <th>Unnamed: 207</th>\n",
       "      <th>Unnamed: 208</th>\n",
       "      <th>Unnamed: 209</th>\n",
       "      <th>Unnamed: 210</th>\n",
       "    </tr>\n",
       "  </thead>\n",
       "  <tbody>\n",
       "    <tr>\n",
       "      <th>0</th>\n",
       "      <td>1</td>\n",
       "      <td>Word(fact_id=1, question='winkel', answer=['sh...</td>\n",
       "      <td>15847.0</td>\n",
       "      <td>1116.0</td>\n",
       "      <td>True</td>\n",
       "      <td>1</td>\n",
       "      <td>winkel</td>\n",
       "      <td>['shop', 'store']</td>\n",
       "      <td>NaN</td>\n",
       "      <td>NaN</td>\n",
       "      <td>...</td>\n",
       "      <td>NaN</td>\n",
       "      <td>NaN</td>\n",
       "      <td>NaN</td>\n",
       "      <td>NaN</td>\n",
       "      <td>NaN</td>\n",
       "      <td>NaN</td>\n",
       "      <td>NaN</td>\n",
       "      <td>NaN</td>\n",
       "      <td>NaN</td>\n",
       "      <td>NaN</td>\n",
       "    </tr>\n",
       "    <tr>\n",
       "      <th>1</th>\n",
       "      <td>2</td>\n",
       "      <td>Word(fact_id=2, question='lepel', answer=['spo...</td>\n",
       "      <td>19426.0</td>\n",
       "      <td>923.0</td>\n",
       "      <td>True</td>\n",
       "      <td>2</td>\n",
       "      <td>lepel</td>\n",
       "      <td>['spoon']</td>\n",
       "      <td>NaN</td>\n",
       "      <td>NaN</td>\n",
       "      <td>...</td>\n",
       "      <td>NaN</td>\n",
       "      <td>NaN</td>\n",
       "      <td>NaN</td>\n",
       "      <td>NaN</td>\n",
       "      <td>NaN</td>\n",
       "      <td>NaN</td>\n",
       "      <td>NaN</td>\n",
       "      <td>NaN</td>\n",
       "      <td>NaN</td>\n",
       "      <td>NaN</td>\n",
       "    </tr>\n",
       "    <tr>\n",
       "      <th>2</th>\n",
       "      <td>3</td>\n",
       "      <td>Word(fact_id=3, question='jas', answer=['coat'...</td>\n",
       "      <td>23019.0</td>\n",
       "      <td>1250.0</td>\n",
       "      <td>True</td>\n",
       "      <td>3</td>\n",
       "      <td>jas</td>\n",
       "      <td>['coat', 'jacket', 'overcoat', 'cloak']</td>\n",
       "      <td>NaN</td>\n",
       "      <td>NaN</td>\n",
       "      <td>...</td>\n",
       "      <td>NaN</td>\n",
       "      <td>NaN</td>\n",
       "      <td>NaN</td>\n",
       "      <td>NaN</td>\n",
       "      <td>NaN</td>\n",
       "      <td>NaN</td>\n",
       "      <td>NaN</td>\n",
       "      <td>NaN</td>\n",
       "      <td>NaN</td>\n",
       "      <td>NaN</td>\n",
       "    </tr>\n",
       "    <tr>\n",
       "      <th>3</th>\n",
       "      <td>4</td>\n",
       "      <td>Word(fact_id=4, question='raam', answer=['wind...</td>\n",
       "      <td>27146.0</td>\n",
       "      <td>1188.0</td>\n",
       "      <td>True</td>\n",
       "      <td>4</td>\n",
       "      <td>raam</td>\n",
       "      <td>['window', 'frame']</td>\n",
       "      <td>NaN</td>\n",
       "      <td>NaN</td>\n",
       "      <td>...</td>\n",
       "      <td>NaN</td>\n",
       "      <td>NaN</td>\n",
       "      <td>NaN</td>\n",
       "      <td>NaN</td>\n",
       "      <td>NaN</td>\n",
       "      <td>NaN</td>\n",
       "      <td>NaN</td>\n",
       "      <td>NaN</td>\n",
       "      <td>NaN</td>\n",
       "      <td>NaN</td>\n",
       "    </tr>\n",
       "    <tr>\n",
       "      <th>4</th>\n",
       "      <td>5</td>\n",
       "      <td>Word(fact_id=5, question='buiten', answer=['ou...</td>\n",
       "      <td>30930.0</td>\n",
       "      <td>1234.0</td>\n",
       "      <td>True</td>\n",
       "      <td>5</td>\n",
       "      <td>buiten</td>\n",
       "      <td>['outside', 'out']</td>\n",
       "      <td>NaN</td>\n",
       "      <td>NaN</td>\n",
       "      <td>...</td>\n",
       "      <td>NaN</td>\n",
       "      <td>NaN</td>\n",
       "      <td>NaN</td>\n",
       "      <td>NaN</td>\n",
       "      <td>NaN</td>\n",
       "      <td>NaN</td>\n",
       "      <td>NaN</td>\n",
       "      <td>NaN</td>\n",
       "      <td>NaN</td>\n",
       "      <td>NaN</td>\n",
       "    </tr>\n",
       "  </tbody>\n",
       "</table>\n",
       "<p>5 rows × 211 columns</p>\n",
       "</div>"
      ],
      "text/plain": [
       "   trial                                               fact  start_time  \\\n",
       "0      1  Word(fact_id=1, question='winkel', answer=['sh...     15847.0   \n",
       "1      2  Word(fact_id=2, question='lepel', answer=['spo...     19426.0   \n",
       "2      3  Word(fact_id=3, question='jas', answer=['coat'...     23019.0   \n",
       "3      4  Word(fact_id=4, question='raam', answer=['wind...     27146.0   \n",
       "4      5  Word(fact_id=5, question='buiten', answer=['ou...     30930.0   \n",
       "\n",
       "       rt  correct  fact_id question                                   answer  \\\n",
       "0  1116.0     True        1   winkel                        ['shop', 'store']   \n",
       "1   923.0     True        2    lepel                                ['spoon']   \n",
       "2  1250.0     True        3      jas  ['coat', 'jacket', 'overcoat', 'cloak']   \n",
       "3  1188.0     True        4     raam                      ['window', 'frame']   \n",
       "4  1234.0     True        5   buiten                       ['outside', 'out']   \n",
       "\n",
       "   Unnamed: 8  Unnamed: 9  ...  Unnamed: 201  Unnamed: 202  Unnamed: 203  \\\n",
       "0         NaN         NaN  ...           NaN           NaN           NaN   \n",
       "1         NaN         NaN  ...           NaN           NaN           NaN   \n",
       "2         NaN         NaN  ...           NaN           NaN           NaN   \n",
       "3         NaN         NaN  ...           NaN           NaN           NaN   \n",
       "4         NaN         NaN  ...           NaN           NaN           NaN   \n",
       "\n",
       "   Unnamed: 204  Unnamed: 205  Unnamed: 206  Unnamed: 207  Unnamed: 208  \\\n",
       "0           NaN           NaN           NaN           NaN           NaN   \n",
       "1           NaN           NaN           NaN           NaN           NaN   \n",
       "2           NaN           NaN           NaN           NaN           NaN   \n",
       "3           NaN           NaN           NaN           NaN           NaN   \n",
       "4           NaN           NaN           NaN           NaN           NaN   \n",
       "\n",
       "   Unnamed: 209  Unnamed: 210  \n",
       "0           NaN           NaN  \n",
       "1           NaN           NaN  \n",
       "2           NaN           NaN  \n",
       "3           NaN           NaN  \n",
       "4           NaN           NaN  \n",
       "\n",
       "[5 rows x 211 columns]"
      ]
     },
     "execution_count": 256,
     "metadata": {},
     "output_type": "execute_result"
    }
   ],
   "source": [
    "pre.head()"
   ]
  },
  {
   "cell_type": "code",
   "execution_count": 257,
   "metadata": {},
   "outputs": [
    {
     "data": {
      "text/plain": [
       "False    13\n",
       "True      6\n",
       "Name: correct, dtype: int64"
      ]
     },
     "execution_count": 257,
     "metadata": {},
     "output_type": "execute_result"
    }
   ],
   "source": [
    "# No of correct/wrong\n",
    "pre[\"correct\"].value_counts()"
   ]
  },
  {
   "cell_type": "code",
   "execution_count": 258,
   "metadata": {},
   "outputs": [
    {
     "data": {
      "text/plain": [
       "2760.0"
      ]
     },
     "execution_count": 258,
     "metadata": {},
     "output_type": "execute_result"
    }
   ],
   "source": [
    "# Avergae RT\n",
    "np.average([x for x in pre[\"rt\"].values if x!=np.Inf])"
   ]
  },
  {
   "cell_type": "markdown",
   "metadata": {},
   "source": [
    "## Part 1"
   ]
  },
  {
   "cell_type": "code",
   "execution_count": 259,
   "metadata": {},
   "outputs": [
    {
     "data": {
      "text/html": [
       "<div>\n",
       "<style scoped>\n",
       "    .dataframe tbody tr th:only-of-type {\n",
       "        vertical-align: middle;\n",
       "    }\n",
       "\n",
       "    .dataframe tbody tr th {\n",
       "        vertical-align: top;\n",
       "    }\n",
       "\n",
       "    .dataframe thead th {\n",
       "        text-align: right;\n",
       "    }\n",
       "</style>\n",
       "<table border=\"1\" class=\"dataframe\">\n",
       "  <thead>\n",
       "    <tr style=\"text-align: right;\">\n",
       "      <th></th>\n",
       "      <th>trial</th>\n",
       "      <th>start_time</th>\n",
       "      <th>rt</th>\n",
       "      <th>correct</th>\n",
       "      <th>fact_id</th>\n",
       "      <th>question</th>\n",
       "      <th>context_1</th>\n",
       "      <th>context_2</th>\n",
       "      <th>answer</th>\n",
       "      <th>chosen_context</th>\n",
       "      <th>...</th>\n",
       "      <th>Unnamed: 201</th>\n",
       "      <th>Unnamed: 202</th>\n",
       "      <th>Unnamed: 203</th>\n",
       "      <th>Unnamed: 204</th>\n",
       "      <th>Unnamed: 205</th>\n",
       "      <th>Unnamed: 206</th>\n",
       "      <th>Unnamed: 207</th>\n",
       "      <th>Unnamed: 208</th>\n",
       "      <th>Unnamed: 209</th>\n",
       "      <th>Unnamed: 210</th>\n",
       "    </tr>\n",
       "  </thead>\n",
       "  <tbody>\n",
       "    <tr>\n",
       "      <th>0</th>\n",
       "      <td>1</td>\n",
       "      <td>1083550.0</td>\n",
       "      <td>3613.0</td>\n",
       "      <td>True</td>\n",
       "      <td>1</td>\n",
       "      <td>verschrikkelijk</td>\n",
       "      <td>Ik vind het &lt;b&gt;verschrikkelijk&lt;/b&gt; om voor een...</td>\n",
       "      <td>Het was een &lt;b&gt;verschrikkelijke&lt;/b&gt; dag.</td>\n",
       "      <td>terrible</td>\n",
       "      <td>awful</td>\n",
       "      <td>...</td>\n",
       "      <td>NaN</td>\n",
       "      <td>NaN</td>\n",
       "      <td>NaN</td>\n",
       "      <td>NaN</td>\n",
       "      <td>NaN</td>\n",
       "      <td>NaN</td>\n",
       "      <td>NaN</td>\n",
       "      <td>NaN</td>\n",
       "      <td>NaN</td>\n",
       "      <td>NaN</td>\n",
       "    </tr>\n",
       "    <tr>\n",
       "      <th>1</th>\n",
       "      <td>2</td>\n",
       "      <td>1090939.0</td>\n",
       "      <td>1100.0</td>\n",
       "      <td>True</td>\n",
       "      <td>1</td>\n",
       "      <td>verschrikkelijk</td>\n",
       "      <td>Ik vind het &lt;b&gt;verschrikkelijk&lt;/b&gt; om voor een...</td>\n",
       "      <td>Het was een &lt;b&gt;verschrikkelijke&lt;/b&gt; dag.</td>\n",
       "      <td>terrible</td>\n",
       "      <td>awful</td>\n",
       "      <td>...</td>\n",
       "      <td>NaN</td>\n",
       "      <td>NaN</td>\n",
       "      <td>NaN</td>\n",
       "      <td>NaN</td>\n",
       "      <td>NaN</td>\n",
       "      <td>NaN</td>\n",
       "      <td>NaN</td>\n",
       "      <td>NaN</td>\n",
       "      <td>NaN</td>\n",
       "      <td>NaN</td>\n",
       "    </tr>\n",
       "    <tr>\n",
       "      <th>2</th>\n",
       "      <td>3</td>\n",
       "      <td>1094630.0</td>\n",
       "      <td>1409.0</td>\n",
       "      <td>True</td>\n",
       "      <td>2</td>\n",
       "      <td>zelfstandig</td>\n",
       "      <td>Het is prettig als werknemers &lt;b&gt;zelfstandig&lt;/...</td>\n",
       "      <td>Ik vond het in het begin moeilijk om &lt;b&gt;zelfst...</td>\n",
       "      <td>independent</td>\n",
       "      <td>independently</td>\n",
       "      <td>...</td>\n",
       "      <td>NaN</td>\n",
       "      <td>NaN</td>\n",
       "      <td>NaN</td>\n",
       "      <td>NaN</td>\n",
       "      <td>NaN</td>\n",
       "      <td>NaN</td>\n",
       "      <td>NaN</td>\n",
       "      <td>NaN</td>\n",
       "      <td>NaN</td>\n",
       "      <td>NaN</td>\n",
       "    </tr>\n",
       "    <tr>\n",
       "      <th>3</th>\n",
       "      <td>4</td>\n",
       "      <td>1098925.0</td>\n",
       "      <td>3561.0</td>\n",
       "      <td>True</td>\n",
       "      <td>3</td>\n",
       "      <td>gewoonte</td>\n",
       "      <td>Ik heb de slechte &lt;b&gt;gewoonte&lt;/b&gt; om te laat t...</td>\n",
       "      <td>Het is een goede &lt;b&gt;gewoonte&lt;/b&gt; om je handen ...</td>\n",
       "      <td>habit</td>\n",
       "      <td>Ik heb de slechte &lt;b&gt;gewoonte&lt;/b&gt; om te laat t...</td>\n",
       "      <td>...</td>\n",
       "      <td>NaN</td>\n",
       "      <td>NaN</td>\n",
       "      <td>NaN</td>\n",
       "      <td>NaN</td>\n",
       "      <td>NaN</td>\n",
       "      <td>NaN</td>\n",
       "      <td>NaN</td>\n",
       "      <td>NaN</td>\n",
       "      <td>NaN</td>\n",
       "      <td>NaN</td>\n",
       "    </tr>\n",
       "    <tr>\n",
       "      <th>4</th>\n",
       "      <td>5</td>\n",
       "      <td>1105388.0</td>\n",
       "      <td>946.0</td>\n",
       "      <td>True</td>\n",
       "      <td>2</td>\n",
       "      <td>zelfstandig</td>\n",
       "      <td>Het is prettig als werknemers &lt;b&gt;zelfstandig&lt;/...</td>\n",
       "      <td>Ik vond het in het begin moeilijk om &lt;b&gt;zelfst...</td>\n",
       "      <td>independent</td>\n",
       "      <td>independently</td>\n",
       "      <td>...</td>\n",
       "      <td>NaN</td>\n",
       "      <td>NaN</td>\n",
       "      <td>NaN</td>\n",
       "      <td>NaN</td>\n",
       "      <td>NaN</td>\n",
       "      <td>NaN</td>\n",
       "      <td>NaN</td>\n",
       "      <td>NaN</td>\n",
       "      <td>NaN</td>\n",
       "      <td>NaN</td>\n",
       "    </tr>\n",
       "  </tbody>\n",
       "</table>\n",
       "<p>5 rows × 211 columns</p>\n",
       "</div>"
      ],
      "text/plain": [
       "   trial  start_time      rt  correct  fact_id         question  \\\n",
       "0      1   1083550.0  3613.0     True        1  verschrikkelijk   \n",
       "1      2   1090939.0  1100.0     True        1  verschrikkelijk   \n",
       "2      3   1094630.0  1409.0     True        2      zelfstandig   \n",
       "3      4   1098925.0  3561.0     True        3         gewoonte   \n",
       "4      5   1105388.0   946.0     True        2      zelfstandig   \n",
       "\n",
       "                                           context_1  \\\n",
       "0  Ik vind het <b>verschrikkelijk</b> om voor een...   \n",
       "1  Ik vind het <b>verschrikkelijk</b> om voor een...   \n",
       "2  Het is prettig als werknemers <b>zelfstandig</...   \n",
       "3  Ik heb de slechte <b>gewoonte</b> om te laat t...   \n",
       "4  Het is prettig als werknemers <b>zelfstandig</...   \n",
       "\n",
       "                                           context_2       answer  \\\n",
       "0           Het was een <b>verschrikkelijke</b> dag.     terrible   \n",
       "1           Het was een <b>verschrikkelijke</b> dag.     terrible   \n",
       "2  Ik vond het in het begin moeilijk om <b>zelfst...  independent   \n",
       "3  Het is een goede <b>gewoonte</b> om je handen ...        habit   \n",
       "4  Ik vond het in het begin moeilijk om <b>zelfst...  independent   \n",
       "\n",
       "                                      chosen_context  ... Unnamed: 201  \\\n",
       "0                                              awful  ...          NaN   \n",
       "1                                              awful  ...          NaN   \n",
       "2                                      independently  ...          NaN   \n",
       "3  Ik heb de slechte <b>gewoonte</b> om te laat t...  ...          NaN   \n",
       "4                                      independently  ...          NaN   \n",
       "\n",
       "  Unnamed: 202 Unnamed: 203 Unnamed: 204  Unnamed: 205  Unnamed: 206  \\\n",
       "0          NaN          NaN          NaN           NaN           NaN   \n",
       "1          NaN          NaN          NaN           NaN           NaN   \n",
       "2          NaN          NaN          NaN           NaN           NaN   \n",
       "3          NaN          NaN          NaN           NaN           NaN   \n",
       "4          NaN          NaN          NaN           NaN           NaN   \n",
       "\n",
       "   Unnamed: 207  Unnamed: 208  Unnamed: 209  Unnamed: 210  \n",
       "0           NaN           NaN           NaN           NaN  \n",
       "1           NaN           NaN           NaN           NaN  \n",
       "2           NaN           NaN           NaN           NaN  \n",
       "3           NaN           NaN           NaN           NaN  \n",
       "4           NaN           NaN           NaN           NaN  \n",
       "\n",
       "[5 rows x 211 columns]"
      ]
     },
     "execution_count": 259,
     "metadata": {},
     "output_type": "execute_result"
    }
   ],
   "source": [
    "p1.head()"
   ]
  },
  {
   "cell_type": "code",
   "execution_count": 260,
   "metadata": {},
   "outputs": [
    {
     "data": {
      "text/plain": [
       "2580.268965517241"
      ]
     },
     "execution_count": 260,
     "metadata": {},
     "output_type": "execute_result"
    }
   ],
   "source": [
    "# Avergae RT\n",
    "np.mean([x for x in p1[\"rt\"].values if x!=np.Inf and x<30000])"
   ]
  },
  {
   "cell_type": "code",
   "execution_count": 261,
   "metadata": {},
   "outputs": [
    {
     "data": {
      "text/plain": [
       "2288.9053648058193"
      ]
     },
     "execution_count": 261,
     "metadata": {},
     "output_type": "execute_result"
    }
   ],
   "source": [
    "np.std([x for x in p1[\"rt\"].values if x!=np.Inf and x<30000])"
   ]
  },
  {
   "cell_type": "code",
   "execution_count": 262,
   "metadata": {},
   "outputs": [
    {
     "data": {
      "text/plain": [
       "True     140\n",
       "False     10\n",
       "Name: correct, dtype: int64"
      ]
     },
     "execution_count": 262,
     "metadata": {},
     "output_type": "execute_result"
    }
   ],
   "source": [
    "# No of correct/wrong in encounter 1\n",
    "p1[\"correct\"].value_counts()"
   ]
  },
  {
   "cell_type": "code",
   "execution_count": 263,
   "metadata": {},
   "outputs": [
    {
     "data": {
      "text/plain": [
       "FALSE                                                                              71\n",
       "TRUE                                                                               23\n",
       "horrible                                                                           13\n",
       "Nieuwe munten <b>blinken</b> nog.                                                   3\n",
       "blinken                                                                             3\n",
       "scheren                                                                             3\n",
       "Ik moet iedere morgen opnieuw de stoppels van mijn gezicht <b>scheren</b>.          2\n",
       "Kinderen zitten vol <b>verwondering</b>.                                            2\n",
       "begroeten                                                                           2\n",
       "overdrijven                                                                         2\n",
       "beschrijven                                                                         2\n",
       "Ik heb het haar <b>vergeven</b>,maar ik vergeet het niet.                           2\n",
       "Sommige mensen vinden het leuk om te <b>overdrijven</b>,ik vind het verwarrend.     2\n",
       "Wij <b>begroeten</b> elkaar altijd als we thuis komen.                              2\n",
       "Het is lastig om de smaak van een gerecht te <b>beschrijven</b>.                    2\n",
       "Tijdens de pandemie hadden veel studenten last van <b>eenzaamheid</b>.              2\n",
       "eenzaamheid                                                                         2\n",
       "SNIC is een <b>bijeenkomst</b> met studenten van verschillende opleidingen.         2\n",
       "Het is prettig als werknemers <b>zelfstandig</b> kunnen werken.                     2\n",
       "verwondering                                                                        2\n",
       "bijeenkomst                                                                         2\n",
       "zelfstandig                                                                         2\n",
       "vergeven                                                                            2\n",
       "Name: encounter_2, dtype: int64"
      ]
     },
     "execution_count": 263,
     "metadata": {},
     "output_type": "execute_result"
    }
   ],
   "source": [
    "# No of correct/wrong in encounter 2\n",
    "p1[\"encounter_2\"].value_counts()"
   ]
  },
  {
   "cell_type": "code",
   "execution_count": 264,
   "metadata": {},
   "outputs": [
    {
     "data": {
      "text/plain": [
       "150"
      ]
     },
     "execution_count": 264,
     "metadata": {},
     "output_type": "execute_result"
    }
   ],
   "source": [
    "len(p1)"
   ]
  },
  {
   "cell_type": "code",
   "execution_count": 265,
   "metadata": {},
   "outputs": [
    {
     "data": {
      "text/plain": [
       "0"
      ]
     },
     "execution_count": 265,
     "metadata": {},
     "output_type": "execute_result"
    }
   ],
   "source": [
    "# No of wrong in both encounter 1 and 2\n",
    "len(p1[(p1.encounter_2 ==False) & (p1.correct == False)])"
   ]
  },
  {
   "cell_type": "code",
   "execution_count": 266,
   "metadata": {},
   "outputs": [
    {
     "data": {
      "text/plain": [
       "0"
      ]
     },
     "execution_count": 266,
     "metadata": {},
     "output_type": "execute_result"
    }
   ],
   "source": [
    "# No of correct in both encounter 1 and 2\n",
    "len(p1[(p1.encounter_2 ==True) & (p1.correct == True)])"
   ]
  },
  {
   "cell_type": "code",
   "execution_count": 267,
   "metadata": {},
   "outputs": [
    {
     "ename": "UFuncTypeError",
     "evalue": "ufunc 'add' did not contain a loop with signature matching types (dtype('<U64'), dtype('<U64')) -> None",
     "output_type": "error",
     "traceback": [
      "\u001b[0;31m---------------------------------------------------------------------------\u001b[0m",
      "\u001b[0;31mUFuncTypeError\u001b[0m                            Traceback (most recent call last)",
      "Cell \u001b[0;32mIn [267], line 2\u001b[0m\n\u001b[1;32m      1\u001b[0m \u001b[39m# Avergae forgetting rate\u001b[39;00m\n\u001b[0;32m----> 2\u001b[0m np\u001b[39m.\u001b[39;49maverage([x \u001b[39mfor\u001b[39;49;00m x \u001b[39min\u001b[39;49;00m p1[\u001b[39m\"\u001b[39;49m\u001b[39mfogetting_rate\u001b[39;49m\u001b[39m\"\u001b[39;49m]\u001b[39m.\u001b[39;49mvalues \u001b[39mif\u001b[39;49;00m x\u001b[39m!=\u001b[39;49mnp\u001b[39m.\u001b[39;49mInf])\n",
      "File \u001b[0;32m<__array_function__ internals>:180\u001b[0m, in \u001b[0;36maverage\u001b[0;34m(*args, **kwargs)\u001b[0m\n",
      "File \u001b[0;32m/opt/homebrew/lib/python3.10/site-packages/numpy/lib/function_base.py:518\u001b[0m, in \u001b[0;36maverage\u001b[0;34m(a, axis, weights, returned, keepdims)\u001b[0m\n\u001b[1;32m    515\u001b[0m     keepdims_kw \u001b[39m=\u001b[39m {\u001b[39m'\u001b[39m\u001b[39mkeepdims\u001b[39m\u001b[39m'\u001b[39m: keepdims}\n\u001b[1;32m    517\u001b[0m \u001b[39mif\u001b[39;00m weights \u001b[39mis\u001b[39;00m \u001b[39mNone\u001b[39;00m:\n\u001b[0;32m--> 518\u001b[0m     avg \u001b[39m=\u001b[39m a\u001b[39m.\u001b[39;49mmean(axis, \u001b[39m*\u001b[39;49m\u001b[39m*\u001b[39;49mkeepdims_kw)\n\u001b[1;32m    519\u001b[0m     scl \u001b[39m=\u001b[39m avg\u001b[39m.\u001b[39mdtype\u001b[39m.\u001b[39mtype(a\u001b[39m.\u001b[39msize\u001b[39m/\u001b[39mavg\u001b[39m.\u001b[39msize)\n\u001b[1;32m    520\u001b[0m \u001b[39melse\u001b[39;00m:\n",
      "File \u001b[0;32m/opt/homebrew/lib/python3.10/site-packages/numpy/core/_methods.py:180\u001b[0m, in \u001b[0;36m_mean\u001b[0;34m(a, axis, dtype, out, keepdims, where)\u001b[0m\n\u001b[1;32m    177\u001b[0m         dtype \u001b[39m=\u001b[39m mu\u001b[39m.\u001b[39mdtype(\u001b[39m'\u001b[39m\u001b[39mf4\u001b[39m\u001b[39m'\u001b[39m)\n\u001b[1;32m    178\u001b[0m         is_float16_result \u001b[39m=\u001b[39m \u001b[39mTrue\u001b[39;00m\n\u001b[0;32m--> 180\u001b[0m ret \u001b[39m=\u001b[39m umr_sum(arr, axis, dtype, out, keepdims, where\u001b[39m=\u001b[39;49mwhere)\n\u001b[1;32m    181\u001b[0m \u001b[39mif\u001b[39;00m \u001b[39misinstance\u001b[39m(ret, mu\u001b[39m.\u001b[39mndarray):\n\u001b[1;32m    182\u001b[0m     ret \u001b[39m=\u001b[39m um\u001b[39m.\u001b[39mtrue_divide(\n\u001b[1;32m    183\u001b[0m             ret, rcount, out\u001b[39m=\u001b[39mret, casting\u001b[39m=\u001b[39m\u001b[39m'\u001b[39m\u001b[39munsafe\u001b[39m\u001b[39m'\u001b[39m, subok\u001b[39m=\u001b[39m\u001b[39mFalse\u001b[39;00m)\n",
      "\u001b[0;31mUFuncTypeError\u001b[0m: ufunc 'add' did not contain a loop with signature matching types (dtype('<U64'), dtype('<U64')) -> None"
     ]
    }
   ],
   "source": [
    "# Avergae forgetting rate\n",
    "np.average([x for x in p1[\"fogetting_rate\"].values if x!=np.Inf])"
   ]
  },
  {
   "cell_type": "markdown",
   "metadata": {},
   "source": [
    "## Part 2"
   ]
  },
  {
   "cell_type": "code",
   "execution_count": 268,
   "metadata": {},
   "outputs": [
    {
     "data": {
      "text/html": [
       "<div>\n",
       "<style scoped>\n",
       "    .dataframe tbody tr th:only-of-type {\n",
       "        vertical-align: middle;\n",
       "    }\n",
       "\n",
       "    .dataframe tbody tr th {\n",
       "        vertical-align: top;\n",
       "    }\n",
       "\n",
       "    .dataframe thead th {\n",
       "        text-align: right;\n",
       "    }\n",
       "</style>\n",
       "<table border=\"1\" class=\"dataframe\">\n",
       "  <thead>\n",
       "    <tr style=\"text-align: right;\">\n",
       "      <th></th>\n",
       "      <th>trial</th>\n",
       "      <th>start_time</th>\n",
       "      <th>rt</th>\n",
       "      <th>correct</th>\n",
       "      <th>fact_id</th>\n",
       "      <th>question</th>\n",
       "      <th>context_1</th>\n",
       "      <th>context_ 0</th>\n",
       "      <th>2</th>\n",
       "      <th>answer</th>\n",
       "      <th>...</th>\n",
       "      <th>Unnamed: 201</th>\n",
       "      <th>Unnamed: 202</th>\n",
       "      <th>Unnamed: 203</th>\n",
       "      <th>Unnamed: 204</th>\n",
       "      <th>Unnamed: 205</th>\n",
       "      <th>Unnamed: 206</th>\n",
       "      <th>Unnamed: 207</th>\n",
       "      <th>Unnamed: 208</th>\n",
       "      <th>Unnamed: 209</th>\n",
       "      <th>Unnamed: 210</th>\n",
       "    </tr>\n",
       "  </thead>\n",
       "  <tbody>\n",
       "    <tr>\n",
       "      <th>0</th>\n",
       "      <td>1</td>\n",
       "      <td>116523.0</td>\n",
       "      <td>2650.0</td>\n",
       "      <td>True</td>\n",
       "      <td>1</td>\n",
       "      <td>vergeten</td>\n",
       "      <td>Ben je nou alweer je sleutel &lt;b&gt;vergeten&lt;/b&gt;?</td>\n",
       "      <td>Sorry,we waren &lt;b&gt;vergeten&lt;/b&gt; de wiki aan te ...</td>\n",
       "      <td>forget</td>\n",
       "      <td>to forget</td>\n",
       "      <td>...</td>\n",
       "      <td>NaN</td>\n",
       "      <td>NaN</td>\n",
       "      <td>NaN</td>\n",
       "      <td>NaN</td>\n",
       "      <td>NaN</td>\n",
       "      <td>NaN</td>\n",
       "      <td>NaN</td>\n",
       "      <td>NaN</td>\n",
       "      <td>NaN</td>\n",
       "      <td>NaN</td>\n",
       "    </tr>\n",
       "    <tr>\n",
       "      <th>1</th>\n",
       "      <td>2</td>\n",
       "      <td>121704.0</td>\n",
       "      <td>1167.0</td>\n",
       "      <td>True</td>\n",
       "      <td>1</td>\n",
       "      <td>vergeten</td>\n",
       "      <td>Ben je nou alweer je sleutel &lt;b&gt;vergeten&lt;/b&gt;?</td>\n",
       "      <td>Sorry,we waren &lt;b&gt;vergeten&lt;/b&gt; de wiki aan te ...</td>\n",
       "      <td>forget</td>\n",
       "      <td>to forget</td>\n",
       "      <td>...</td>\n",
       "      <td>NaN</td>\n",
       "      <td>NaN</td>\n",
       "      <td>NaN</td>\n",
       "      <td>NaN</td>\n",
       "      <td>NaN</td>\n",
       "      <td>NaN</td>\n",
       "      <td>NaN</td>\n",
       "      <td>NaN</td>\n",
       "      <td>NaN</td>\n",
       "      <td>NaN</td>\n",
       "    </tr>\n",
       "    <tr>\n",
       "      <th>2</th>\n",
       "      <td>3</td>\n",
       "      <td>125172.0</td>\n",
       "      <td>6240.0</td>\n",
       "      <td>False</td>\n",
       "      <td>2</td>\n",
       "      <td>onderdeel</td>\n",
       "      <td>Ik mis een &lt;b&gt;onderdeel&lt;/b&gt; van mijn IKEA kast.</td>\n",
       "      <td>Deze opleiding is een &lt;b&gt;onderdeel&lt;/b&gt; van de ...</td>\n",
       "      <td>part</td>\n",
       "      <td>part of</td>\n",
       "      <td>...</td>\n",
       "      <td>NaN</td>\n",
       "      <td>NaN</td>\n",
       "      <td>NaN</td>\n",
       "      <td>NaN</td>\n",
       "      <td>NaN</td>\n",
       "      <td>NaN</td>\n",
       "      <td>NaN</td>\n",
       "      <td>NaN</td>\n",
       "      <td>NaN</td>\n",
       "      <td>NaN</td>\n",
       "    </tr>\n",
       "    <tr>\n",
       "      <th>3</th>\n",
       "      <td>4</td>\n",
       "      <td>133536.0</td>\n",
       "      <td>1239.0</td>\n",
       "      <td>False</td>\n",
       "      <td>3</td>\n",
       "      <td>kerel</td>\n",
       "      <td>Ik ben een gezonde &lt;b&gt;kerel&lt;/b&gt;.</td>\n",
       "      <td>Die &lt;b&gt;kerel&lt;/b&gt; blokkeert steeds mijn zicht.</td>\n",
       "      <td>guy</td>\n",
       "      <td>dude</td>\n",
       "      <td>...</td>\n",
       "      <td>NaN</td>\n",
       "      <td>NaN</td>\n",
       "      <td>NaN</td>\n",
       "      <td>NaN</td>\n",
       "      <td>NaN</td>\n",
       "      <td>NaN</td>\n",
       "      <td>NaN</td>\n",
       "      <td>NaN</td>\n",
       "      <td>NaN</td>\n",
       "      <td>NaN</td>\n",
       "    </tr>\n",
       "    <tr>\n",
       "      <th>4</th>\n",
       "      <td>5</td>\n",
       "      <td>136834.0</td>\n",
       "      <td>1201.0</td>\n",
       "      <td>True</td>\n",
       "      <td>2</td>\n",
       "      <td>onderdeel</td>\n",
       "      <td>Ik mis een &lt;b&gt;onderdeel&lt;/b&gt; van mijn IKEA kast.</td>\n",
       "      <td>Deze opleiding is een &lt;b&gt;onderdeel&lt;/b&gt; van de ...</td>\n",
       "      <td>part</td>\n",
       "      <td>part of</td>\n",
       "      <td>...</td>\n",
       "      <td>NaN</td>\n",
       "      <td>NaN</td>\n",
       "      <td>NaN</td>\n",
       "      <td>NaN</td>\n",
       "      <td>NaN</td>\n",
       "      <td>NaN</td>\n",
       "      <td>NaN</td>\n",
       "      <td>NaN</td>\n",
       "      <td>NaN</td>\n",
       "      <td>NaN</td>\n",
       "    </tr>\n",
       "  </tbody>\n",
       "</table>\n",
       "<p>5 rows × 211 columns</p>\n",
       "</div>"
      ],
      "text/plain": [
       "   trial  start_time      rt  correct  fact_id   question  \\\n",
       "0      1    116523.0  2650.0     True        1   vergeten   \n",
       "1      2    121704.0  1167.0     True        1   vergeten   \n",
       "2      3    125172.0  6240.0    False        2  onderdeel   \n",
       "3      4    133536.0  1239.0    False        3      kerel   \n",
       "4      5    136834.0  1201.0     True        2  onderdeel   \n",
       "\n",
       "                                         context_1  \\\n",
       "0    Ben je nou alweer je sleutel <b>vergeten</b>?   \n",
       "1    Ben je nou alweer je sleutel <b>vergeten</b>?   \n",
       "2  Ik mis een <b>onderdeel</b> van mijn IKEA kast.   \n",
       "3                 Ik ben een gezonde <b>kerel</b>.   \n",
       "4  Ik mis een <b>onderdeel</b> van mijn IKEA kast.   \n",
       "\n",
       "                                          context_ 0       2     answer  ...  \\\n",
       "0  Sorry,we waren <b>vergeten</b> de wiki aan te ...  forget  to forget  ...   \n",
       "1  Sorry,we waren <b>vergeten</b> de wiki aan te ...  forget  to forget  ...   \n",
       "2  Deze opleiding is een <b>onderdeel</b> van de ...    part    part of  ...   \n",
       "3      Die <b>kerel</b> blokkeert steeds mijn zicht.     guy       dude  ...   \n",
       "4  Deze opleiding is een <b>onderdeel</b> van de ...    part    part of  ...   \n",
       "\n",
       "  Unnamed: 201 Unnamed: 202 Unnamed: 203  Unnamed: 204  Unnamed: 205  \\\n",
       "0          NaN          NaN          NaN           NaN           NaN   \n",
       "1          NaN          NaN          NaN           NaN           NaN   \n",
       "2          NaN          NaN          NaN           NaN           NaN   \n",
       "3          NaN          NaN          NaN           NaN           NaN   \n",
       "4          NaN          NaN          NaN           NaN           NaN   \n",
       "\n",
       "   Unnamed: 206  Unnamed: 207  Unnamed: 208  Unnamed: 209  Unnamed: 210  \n",
       "0           NaN           NaN           NaN           NaN           NaN  \n",
       "1           NaN           NaN           NaN           NaN           NaN  \n",
       "2           NaN           NaN           NaN           NaN           NaN  \n",
       "3           NaN           NaN           NaN           NaN           NaN  \n",
       "4           NaN           NaN           NaN           NaN           NaN  \n",
       "\n",
       "[5 rows x 211 columns]"
      ]
     },
     "execution_count": 268,
     "metadata": {},
     "output_type": "execute_result"
    }
   ],
   "source": [
    "p2.head()"
   ]
  },
  {
   "cell_type": "code",
   "execution_count": 269,
   "metadata": {},
   "outputs": [
    {
     "data": {
      "text/plain": [
       "7807.165413533835"
      ]
     },
     "execution_count": 269,
     "metadata": {},
     "output_type": "execute_result"
    }
   ],
   "source": [
    "# Avergae RT\n",
    "np.average([x for x in p2[\"rt\"].values if x!=np.Inf])"
   ]
  },
  {
   "cell_type": "code",
   "execution_count": 270,
   "metadata": {},
   "outputs": [
    {
     "data": {
      "text/plain": [
       "nan"
      ]
     },
     "execution_count": 270,
     "metadata": {},
     "output_type": "execute_result"
    }
   ],
   "source": [
    "# Avergae forgetting rate\n",
    "np.average([x for x in p2[\"fogetting_rate\"].values if x!=np.Inf])"
   ]
  },
  {
   "cell_type": "code",
   "execution_count": 271,
   "metadata": {},
   "outputs": [
    {
     "data": {
      "text/plain": [
       "2353.1068702290077"
      ]
     },
     "execution_count": 271,
     "metadata": {},
     "output_type": "execute_result"
    }
   ],
   "source": [
    "# Avergae RT\n",
    "np.mean([x for x in p2[\"rt\"].values if x!=np.Inf and x<30000])"
   ]
  },
  {
   "cell_type": "code",
   "execution_count": 272,
   "metadata": {},
   "outputs": [
    {
     "data": {
      "text/plain": [
       "2510.1586679325824"
      ]
     },
     "execution_count": 272,
     "metadata": {},
     "output_type": "execute_result"
    }
   ],
   "source": [
    "np.std([x for x in p2[\"rt\"].values if x!=np.Inf and x<30000])"
   ]
  },
  {
   "cell_type": "code",
   "execution_count": 273,
   "metadata": {},
   "outputs": [
    {
     "data": {
      "text/plain": [
       "True     123\n",
       "False     27\n",
       "Name: correct, dtype: int64"
      ]
     },
     "execution_count": 273,
     "metadata": {},
     "output_type": "execute_result"
    }
   ],
   "source": [
    "# No of correct/wrong in encounter 1\n",
    "p2[\"correct\"].value_counts()"
   ]
  },
  {
   "cell_type": "code",
   "execution_count": 274,
   "metadata": {},
   "outputs": [
    {
     "data": {
      "text/plain": [
       "FALSE          87\n",
       "betreffen      13\n",
       "563.6          10\n",
       "661.1           7\n",
       "vergeten        5\n",
       "895.1           5\n",
       "700.1           5\n",
       "1148.6          5\n",
       "waarschuwen     5\n",
       "797.6           4\n",
       "524.6           4\n",
       "Name: encounter_2, dtype: int64"
      ]
     },
     "execution_count": 274,
     "metadata": {},
     "output_type": "execute_result"
    }
   ],
   "source": [
    "# No of correct/wrong in encounter 2\n",
    "p2[\"encounter_2\"].value_counts()"
   ]
  },
  {
   "cell_type": "code",
   "execution_count": 275,
   "metadata": {},
   "outputs": [
    {
     "data": {
      "text/plain": [
       "150"
      ]
     },
     "execution_count": 275,
     "metadata": {},
     "output_type": "execute_result"
    }
   ],
   "source": [
    "len(p2)"
   ]
  },
  {
   "cell_type": "code",
   "execution_count": 276,
   "metadata": {},
   "outputs": [
    {
     "data": {
      "text/plain": [
       "0"
      ]
     },
     "execution_count": 276,
     "metadata": {},
     "output_type": "execute_result"
    }
   ],
   "source": [
    "# No of wrong in both encounter 1 and 2\n",
    "len(p2[(p2.encounter_2 ==False) & (p2.correct == False)])"
   ]
  },
  {
   "cell_type": "code",
   "execution_count": 277,
   "metadata": {},
   "outputs": [
    {
     "data": {
      "text/plain": [
       "0"
      ]
     },
     "execution_count": 277,
     "metadata": {},
     "output_type": "execute_result"
    }
   ],
   "source": [
    "# No of correct in both encounter 1 and 2\n",
    "len(p2[(p2.encounter_2 ==True) & (p2.correct == True)])"
   ]
  },
  {
   "cell_type": "markdown",
   "metadata": {},
   "source": [
    "## Final test"
   ]
  },
  {
   "cell_type": "code",
   "execution_count": 278,
   "metadata": {},
   "outputs": [
    {
     "data": {
      "text/html": [
       "<div>\n",
       "<style scoped>\n",
       "    .dataframe tbody tr th:only-of-type {\n",
       "        vertical-align: middle;\n",
       "    }\n",
       "\n",
       "    .dataframe tbody tr th {\n",
       "        vertical-align: top;\n",
       "    }\n",
       "\n",
       "    .dataframe thead th {\n",
       "        text-align: right;\n",
       "    }\n",
       "</style>\n",
       "<table border=\"1\" class=\"dataframe\">\n",
       "  <thead>\n",
       "    <tr style=\"text-align: right;\">\n",
       "      <th></th>\n",
       "      <th>trial</th>\n",
       "      <th>fact</th>\n",
       "      <th>start_time</th>\n",
       "      <th>rt</th>\n",
       "      <th>correct</th>\n",
       "      <th>fact_id</th>\n",
       "      <th>question</th>\n",
       "      <th>answer</th>\n",
       "      <th>Unnamed: 8</th>\n",
       "      <th>Unnamed: 9</th>\n",
       "      <th>...</th>\n",
       "      <th>Unnamed: 201</th>\n",
       "      <th>Unnamed: 202</th>\n",
       "      <th>Unnamed: 203</th>\n",
       "      <th>Unnamed: 204</th>\n",
       "      <th>Unnamed: 205</th>\n",
       "      <th>Unnamed: 206</th>\n",
       "      <th>Unnamed: 207</th>\n",
       "      <th>Unnamed: 208</th>\n",
       "      <th>Unnamed: 209</th>\n",
       "      <th>Unnamed: 210</th>\n",
       "    </tr>\n",
       "  </thead>\n",
       "  <tbody>\n",
       "    <tr>\n",
       "      <th>0</th>\n",
       "      <td>1</td>\n",
       "      <td>Word(fact_id=1, question='alternatief', answer...</td>\n",
       "      <td>980571.0</td>\n",
       "      <td>1006.0</td>\n",
       "      <td>True</td>\n",
       "      <td>1</td>\n",
       "      <td>alternatief</td>\n",
       "      <td>['alternative']</td>\n",
       "      <td>NaN</td>\n",
       "      <td>NaN</td>\n",
       "      <td>...</td>\n",
       "      <td>NaN</td>\n",
       "      <td>NaN</td>\n",
       "      <td>NaN</td>\n",
       "      <td>NaN</td>\n",
       "      <td>NaN</td>\n",
       "      <td>NaN</td>\n",
       "      <td>NaN</td>\n",
       "      <td>NaN</td>\n",
       "      <td>NaN</td>\n",
       "      <td>NaN</td>\n",
       "    </tr>\n",
       "    <tr>\n",
       "      <th>1</th>\n",
       "      <td>2</td>\n",
       "      <td>Word(fact_id=2, question='voldoende', answer=[...</td>\n",
       "      <td>984638.0</td>\n",
       "      <td>3352.0</td>\n",
       "      <td>True</td>\n",
       "      <td>2</td>\n",
       "      <td>voldoende</td>\n",
       "      <td>['sufficient', 'enough']</td>\n",
       "      <td>NaN</td>\n",
       "      <td>NaN</td>\n",
       "      <td>...</td>\n",
       "      <td>NaN</td>\n",
       "      <td>NaN</td>\n",
       "      <td>NaN</td>\n",
       "      <td>NaN</td>\n",
       "      <td>NaN</td>\n",
       "      <td>NaN</td>\n",
       "      <td>NaN</td>\n",
       "      <td>NaN</td>\n",
       "      <td>NaN</td>\n",
       "      <td>NaN</td>\n",
       "    </tr>\n",
       "    <tr>\n",
       "      <th>2</th>\n",
       "      <td>3</td>\n",
       "      <td>Word(fact_id=3, question='bewaren', answer=['k...</td>\n",
       "      <td>991068.0</td>\n",
       "      <td>985.0</td>\n",
       "      <td>True</td>\n",
       "      <td>3</td>\n",
       "      <td>bewaren</td>\n",
       "      <td>['keep', 'to keep']</td>\n",
       "      <td>NaN</td>\n",
       "      <td>NaN</td>\n",
       "      <td>...</td>\n",
       "      <td>NaN</td>\n",
       "      <td>NaN</td>\n",
       "      <td>NaN</td>\n",
       "      <td>NaN</td>\n",
       "      <td>NaN</td>\n",
       "      <td>NaN</td>\n",
       "      <td>NaN</td>\n",
       "      <td>NaN</td>\n",
       "      <td>NaN</td>\n",
       "      <td>NaN</td>\n",
       "    </tr>\n",
       "    <tr>\n",
       "      <th>3</th>\n",
       "      <td>4</td>\n",
       "      <td>Word(fact_id=4, question='algemeen', answer=['...</td>\n",
       "      <td>994090.0</td>\n",
       "      <td>916.0</td>\n",
       "      <td>True</td>\n",
       "      <td>4</td>\n",
       "      <td>algemeen</td>\n",
       "      <td>['general']</td>\n",
       "      <td>NaN</td>\n",
       "      <td>NaN</td>\n",
       "      <td>...</td>\n",
       "      <td>NaN</td>\n",
       "      <td>NaN</td>\n",
       "      <td>NaN</td>\n",
       "      <td>NaN</td>\n",
       "      <td>NaN</td>\n",
       "      <td>NaN</td>\n",
       "      <td>NaN</td>\n",
       "      <td>NaN</td>\n",
       "      <td>NaN</td>\n",
       "      <td>NaN</td>\n",
       "    </tr>\n",
       "    <tr>\n",
       "      <th>4</th>\n",
       "      <td>5</td>\n",
       "      <td>Word(fact_id=5, question='matig', answer=['med...</td>\n",
       "      <td>997779.0</td>\n",
       "      <td>969.0</td>\n",
       "      <td>True</td>\n",
       "      <td>5</td>\n",
       "      <td>matig</td>\n",
       "      <td>['mediocre']</td>\n",
       "      <td>NaN</td>\n",
       "      <td>NaN</td>\n",
       "      <td>...</td>\n",
       "      <td>NaN</td>\n",
       "      <td>NaN</td>\n",
       "      <td>NaN</td>\n",
       "      <td>NaN</td>\n",
       "      <td>NaN</td>\n",
       "      <td>NaN</td>\n",
       "      <td>NaN</td>\n",
       "      <td>NaN</td>\n",
       "      <td>NaN</td>\n",
       "      <td>NaN</td>\n",
       "    </tr>\n",
       "  </tbody>\n",
       "</table>\n",
       "<p>5 rows × 211 columns</p>\n",
       "</div>"
      ],
      "text/plain": [
       "   trial                                               fact  start_time  \\\n",
       "0      1  Word(fact_id=1, question='alternatief', answer...    980571.0   \n",
       "1      2  Word(fact_id=2, question='voldoende', answer=[...    984638.0   \n",
       "2      3  Word(fact_id=3, question='bewaren', answer=['k...    991068.0   \n",
       "3      4  Word(fact_id=4, question='algemeen', answer=['...    994090.0   \n",
       "4      5  Word(fact_id=5, question='matig', answer=['med...    997779.0   \n",
       "\n",
       "       rt  correct  fact_id     question                    answer  \\\n",
       "0  1006.0     True        1  alternatief           ['alternative']   \n",
       "1  3352.0     True        2    voldoende  ['sufficient', 'enough']   \n",
       "2   985.0     True        3      bewaren       ['keep', 'to keep']   \n",
       "3   916.0     True        4     algemeen               ['general']   \n",
       "4   969.0     True        5        matig              ['mediocre']   \n",
       "\n",
       "   Unnamed: 8  Unnamed: 9  ...  Unnamed: 201  Unnamed: 202  Unnamed: 203  \\\n",
       "0         NaN         NaN  ...           NaN           NaN           NaN   \n",
       "1         NaN         NaN  ...           NaN           NaN           NaN   \n",
       "2         NaN         NaN  ...           NaN           NaN           NaN   \n",
       "3         NaN         NaN  ...           NaN           NaN           NaN   \n",
       "4         NaN         NaN  ...           NaN           NaN           NaN   \n",
       "\n",
       "   Unnamed: 204  Unnamed: 205  Unnamed: 206  Unnamed: 207  Unnamed: 208  \\\n",
       "0           NaN           NaN           NaN           NaN           NaN   \n",
       "1           NaN           NaN           NaN           NaN           NaN   \n",
       "2           NaN           NaN           NaN           NaN           NaN   \n",
       "3           NaN           NaN           NaN           NaN           NaN   \n",
       "4           NaN           NaN           NaN           NaN           NaN   \n",
       "\n",
       "   Unnamed: 209  Unnamed: 210  \n",
       "0           NaN           NaN  \n",
       "1           NaN           NaN  \n",
       "2           NaN           NaN  \n",
       "3           NaN           NaN  \n",
       "4           NaN           NaN  \n",
       "\n",
       "[5 rows x 211 columns]"
      ]
     },
     "execution_count": 278,
     "metadata": {},
     "output_type": "execute_result"
    }
   ],
   "source": [
    "tes.head()"
   ]
  },
  {
   "cell_type": "code",
   "execution_count": 279,
   "metadata": {},
   "outputs": [
    {
     "data": {
      "text/plain": [
       "49493.23809523809"
      ]
     },
     "execution_count": 279,
     "metadata": {},
     "output_type": "execute_result"
    }
   ],
   "source": [
    "# Avergae RT\n",
    "np.average([x for x in tes[\"rt\"].values if x!=np.Inf])"
   ]
  },
  {
   "cell_type": "code",
   "execution_count": 280,
   "metadata": {},
   "outputs": [
    {
     "data": {
      "text/plain": [
       "True    44\n",
       "Name: correct, dtype: int64"
      ]
     },
     "execution_count": 280,
     "metadata": {},
     "output_type": "execute_result"
    }
   ],
   "source": [
    "# No of correct/wrong in encounter 1\n",
    "tes[\"correct\"].value_counts()"
   ]
  },
  {
   "cell_type": "code",
   "execution_count": 281,
   "metadata": {},
   "outputs": [
    {
     "data": {
      "text/plain": [
       "44"
      ]
     },
     "execution_count": 281,
     "metadata": {},
     "output_type": "execute_result"
    }
   ],
   "source": [
    "len(tes)"
   ]
  },
  {
   "cell_type": "markdown",
   "metadata": {},
   "source": [
    "## Comparing Test and training/Contest"
   ]
  },
  {
   "cell_type": "code",
   "execution_count": 282,
   "metadata": {},
   "outputs": [
    {
     "name": "stderr",
     "output_type": "stream",
     "text": [
      "/var/folders/s2/psn1kzxd2_972xy94t5fr4cr0000gn/T/ipykernel_51267/3378082505.py:1: FutureWarning: The default value of numeric_only in DataFrameGroupBy.mean is deprecated. In a future version, numeric_only will default to False. Either specify numeric_only or select only columns which should be valid for the function.\n",
      "  tes_grouped = tes.groupby('fact_id').agg('mean')\n"
     ]
    },
    {
     "data": {
      "text/html": [
       "<div>\n",
       "<style scoped>\n",
       "    .dataframe tbody tr th:only-of-type {\n",
       "        vertical-align: middle;\n",
       "    }\n",
       "\n",
       "    .dataframe tbody tr th {\n",
       "        vertical-align: top;\n",
       "    }\n",
       "\n",
       "    .dataframe thead th {\n",
       "        text-align: right;\n",
       "    }\n",
       "</style>\n",
       "<table border=\"1\" class=\"dataframe\">\n",
       "  <thead>\n",
       "    <tr style=\"text-align: right;\">\n",
       "      <th></th>\n",
       "      <th>trial</th>\n",
       "      <th>start_time</th>\n",
       "      <th>rt</th>\n",
       "      <th>correct</th>\n",
       "      <th>Unnamed: 8</th>\n",
       "      <th>Unnamed: 9</th>\n",
       "      <th>Unnamed: 10</th>\n",
       "      <th>Unnamed: 11</th>\n",
       "      <th>Unnamed: 12</th>\n",
       "      <th>Unnamed: 13</th>\n",
       "      <th>...</th>\n",
       "      <th>Unnamed: 201</th>\n",
       "      <th>Unnamed: 202</th>\n",
       "      <th>Unnamed: 203</th>\n",
       "      <th>Unnamed: 204</th>\n",
       "      <th>Unnamed: 205</th>\n",
       "      <th>Unnamed: 206</th>\n",
       "      <th>Unnamed: 207</th>\n",
       "      <th>Unnamed: 208</th>\n",
       "      <th>Unnamed: 209</th>\n",
       "      <th>Unnamed: 210</th>\n",
       "    </tr>\n",
       "    <tr>\n",
       "      <th>fact_id</th>\n",
       "      <th></th>\n",
       "      <th></th>\n",
       "      <th></th>\n",
       "      <th></th>\n",
       "      <th></th>\n",
       "      <th></th>\n",
       "      <th></th>\n",
       "      <th></th>\n",
       "      <th></th>\n",
       "      <th></th>\n",
       "      <th></th>\n",
       "      <th></th>\n",
       "      <th></th>\n",
       "      <th></th>\n",
       "      <th></th>\n",
       "      <th></th>\n",
       "      <th></th>\n",
       "      <th></th>\n",
       "      <th></th>\n",
       "      <th></th>\n",
       "      <th></th>\n",
       "    </tr>\n",
       "  </thead>\n",
       "  <tbody>\n",
       "    <tr>\n",
       "      <th>1</th>\n",
       "      <td>12.0</td>\n",
       "      <td>1481926.0</td>\n",
       "      <td>1059.0</td>\n",
       "      <td>1.0</td>\n",
       "      <td>NaN</td>\n",
       "      <td>NaN</td>\n",
       "      <td>NaN</td>\n",
       "      <td>NaN</td>\n",
       "      <td>NaN</td>\n",
       "      <td>NaN</td>\n",
       "      <td>...</td>\n",
       "      <td>NaN</td>\n",
       "      <td>NaN</td>\n",
       "      <td>NaN</td>\n",
       "      <td>NaN</td>\n",
       "      <td>NaN</td>\n",
       "      <td>NaN</td>\n",
       "      <td>NaN</td>\n",
       "      <td>NaN</td>\n",
       "      <td>NaN</td>\n",
       "      <td>NaN</td>\n",
       "    </tr>\n",
       "    <tr>\n",
       "      <th>2</th>\n",
       "      <td>13.0</td>\n",
       "      <td>1487063.0</td>\n",
       "      <td>2235.0</td>\n",
       "      <td>1.0</td>\n",
       "      <td>NaN</td>\n",
       "      <td>NaN</td>\n",
       "      <td>NaN</td>\n",
       "      <td>NaN</td>\n",
       "      <td>NaN</td>\n",
       "      <td>NaN</td>\n",
       "      <td>...</td>\n",
       "      <td>NaN</td>\n",
       "      <td>NaN</td>\n",
       "      <td>NaN</td>\n",
       "      <td>NaN</td>\n",
       "      <td>NaN</td>\n",
       "      <td>NaN</td>\n",
       "      <td>NaN</td>\n",
       "      <td>NaN</td>\n",
       "      <td>NaN</td>\n",
       "      <td>NaN</td>\n",
       "    </tr>\n",
       "    <tr>\n",
       "      <th>3</th>\n",
       "      <td>14.0</td>\n",
       "      <td>1492333.5</td>\n",
       "      <td>953.0</td>\n",
       "      <td>1.0</td>\n",
       "      <td>NaN</td>\n",
       "      <td>NaN</td>\n",
       "      <td>NaN</td>\n",
       "      <td>NaN</td>\n",
       "      <td>NaN</td>\n",
       "      <td>NaN</td>\n",
       "      <td>...</td>\n",
       "      <td>NaN</td>\n",
       "      <td>NaN</td>\n",
       "      <td>NaN</td>\n",
       "      <td>NaN</td>\n",
       "      <td>NaN</td>\n",
       "      <td>NaN</td>\n",
       "      <td>NaN</td>\n",
       "      <td>NaN</td>\n",
       "      <td>NaN</td>\n",
       "      <td>NaN</td>\n",
       "    </tr>\n",
       "    <tr>\n",
       "      <th>4</th>\n",
       "      <td>15.0</td>\n",
       "      <td>1495403.0</td>\n",
       "      <td>980.0</td>\n",
       "      <td>1.0</td>\n",
       "      <td>NaN</td>\n",
       "      <td>NaN</td>\n",
       "      <td>NaN</td>\n",
       "      <td>NaN</td>\n",
       "      <td>NaN</td>\n",
       "      <td>NaN</td>\n",
       "      <td>...</td>\n",
       "      <td>NaN</td>\n",
       "      <td>NaN</td>\n",
       "      <td>NaN</td>\n",
       "      <td>NaN</td>\n",
       "      <td>NaN</td>\n",
       "      <td>NaN</td>\n",
       "      <td>NaN</td>\n",
       "      <td>NaN</td>\n",
       "      <td>NaN</td>\n",
       "      <td>NaN</td>\n",
       "    </tr>\n",
       "    <tr>\n",
       "      <th>5</th>\n",
       "      <td>16.0</td>\n",
       "      <td>1499158.5</td>\n",
       "      <td>951.0</td>\n",
       "      <td>1.0</td>\n",
       "      <td>NaN</td>\n",
       "      <td>NaN</td>\n",
       "      <td>NaN</td>\n",
       "      <td>NaN</td>\n",
       "      <td>NaN</td>\n",
       "      <td>NaN</td>\n",
       "      <td>...</td>\n",
       "      <td>NaN</td>\n",
       "      <td>NaN</td>\n",
       "      <td>NaN</td>\n",
       "      <td>NaN</td>\n",
       "      <td>NaN</td>\n",
       "      <td>NaN</td>\n",
       "      <td>NaN</td>\n",
       "      <td>NaN</td>\n",
       "      <td>NaN</td>\n",
       "      <td>NaN</td>\n",
       "    </tr>\n",
       "  </tbody>\n",
       "</table>\n",
       "<p>5 rows × 207 columns</p>\n",
       "</div>"
      ],
      "text/plain": [
       "         trial  start_time      rt  correct  Unnamed: 8  Unnamed: 9  \\\n",
       "fact_id                                                               \n",
       "1         12.0   1481926.0  1059.0      1.0         NaN         NaN   \n",
       "2         13.0   1487063.0  2235.0      1.0         NaN         NaN   \n",
       "3         14.0   1492333.5   953.0      1.0         NaN         NaN   \n",
       "4         15.0   1495403.0   980.0      1.0         NaN         NaN   \n",
       "5         16.0   1499158.5   951.0      1.0         NaN         NaN   \n",
       "\n",
       "         Unnamed: 10  Unnamed: 11  Unnamed: 12  Unnamed: 13  ...  \\\n",
       "fact_id                                                      ...   \n",
       "1                NaN          NaN          NaN          NaN  ...   \n",
       "2                NaN          NaN          NaN          NaN  ...   \n",
       "3                NaN          NaN          NaN          NaN  ...   \n",
       "4                NaN          NaN          NaN          NaN  ...   \n",
       "5                NaN          NaN          NaN          NaN  ...   \n",
       "\n",
       "         Unnamed: 201  Unnamed: 202  Unnamed: 203  Unnamed: 204  Unnamed: 205  \\\n",
       "fact_id                                                                         \n",
       "1                 NaN           NaN           NaN           NaN           NaN   \n",
       "2                 NaN           NaN           NaN           NaN           NaN   \n",
       "3                 NaN           NaN           NaN           NaN           NaN   \n",
       "4                 NaN           NaN           NaN           NaN           NaN   \n",
       "5                 NaN           NaN           NaN           NaN           NaN   \n",
       "\n",
       "         Unnamed: 206  Unnamed: 207  Unnamed: 208  Unnamed: 209  Unnamed: 210  \n",
       "fact_id                                                                        \n",
       "1                 NaN           NaN           NaN           NaN           NaN  \n",
       "2                 NaN           NaN           NaN           NaN           NaN  \n",
       "3                 NaN           NaN           NaN           NaN           NaN  \n",
       "4                 NaN           NaN           NaN           NaN           NaN  \n",
       "5                 NaN           NaN           NaN           NaN           NaN  \n",
       "\n",
       "[5 rows x 207 columns]"
      ]
     },
     "execution_count": 282,
     "metadata": {},
     "output_type": "execute_result"
    }
   ],
   "source": [
    "\n",
    "tes_grouped = tes.groupby('fact_id').agg('mean')\n",
    "tes_grouped.head(5)"
   ]
  },
  {
   "cell_type": "markdown",
   "metadata": {},
   "source": [
    "## Comparing P1 and tes"
   ]
  },
  {
   "cell_type": "code",
   "execution_count": 283,
   "metadata": {},
   "outputs": [
    {
     "name": "stderr",
     "output_type": "stream",
     "text": [
      "/var/folders/s2/psn1kzxd2_972xy94t5fr4cr0000gn/T/ipykernel_51267/486987055.py:1: FutureWarning: The default value of numeric_only in DataFrameGroupBy.mean is deprecated. In a future version, numeric_only will default to False. Either specify numeric_only or select only columns which should be valid for the function.\n",
      "  p1_grouped = p1.groupby('fact_id').agg('mean')\n"
     ]
    },
    {
     "data": {
      "text/html": [
       "<div>\n",
       "<style scoped>\n",
       "    .dataframe tbody tr th:only-of-type {\n",
       "        vertical-align: middle;\n",
       "    }\n",
       "\n",
       "    .dataframe tbody tr th {\n",
       "        vertical-align: top;\n",
       "    }\n",
       "\n",
       "    .dataframe thead th {\n",
       "        text-align: right;\n",
       "    }\n",
       "</style>\n",
       "<table border=\"1\" class=\"dataframe\">\n",
       "  <thead>\n",
       "    <tr style=\"text-align: right;\">\n",
       "      <th></th>\n",
       "      <th>trial</th>\n",
       "      <th>start_time</th>\n",
       "      <th>rt</th>\n",
       "      <th>correct</th>\n",
       "      <th>Unnamed: 14</th>\n",
       "      <th>Unnamed: 15</th>\n",
       "      <th>Unnamed: 16</th>\n",
       "      <th>Unnamed: 17</th>\n",
       "      <th>Unnamed: 18</th>\n",
       "      <th>Unnamed: 19</th>\n",
       "      <th>...</th>\n",
       "      <th>Unnamed: 201</th>\n",
       "      <th>Unnamed: 202</th>\n",
       "      <th>Unnamed: 203</th>\n",
       "      <th>Unnamed: 204</th>\n",
       "      <th>Unnamed: 205</th>\n",
       "      <th>Unnamed: 206</th>\n",
       "      <th>Unnamed: 207</th>\n",
       "      <th>Unnamed: 208</th>\n",
       "      <th>Unnamed: 209</th>\n",
       "      <th>Unnamed: 210</th>\n",
       "    </tr>\n",
       "    <tr>\n",
       "      <th>fact_id</th>\n",
       "      <th></th>\n",
       "      <th></th>\n",
       "      <th></th>\n",
       "      <th></th>\n",
       "      <th></th>\n",
       "      <th></th>\n",
       "      <th></th>\n",
       "      <th></th>\n",
       "      <th></th>\n",
       "      <th></th>\n",
       "      <th></th>\n",
       "      <th></th>\n",
       "      <th></th>\n",
       "      <th></th>\n",
       "      <th></th>\n",
       "      <th></th>\n",
       "      <th></th>\n",
       "      <th></th>\n",
       "      <th></th>\n",
       "      <th></th>\n",
       "      <th></th>\n",
       "    </tr>\n",
       "  </thead>\n",
       "  <tbody>\n",
       "    <tr>\n",
       "      <th>1</th>\n",
       "      <td>70.153846</td>\n",
       "      <td>1.397901e+06</td>\n",
       "      <td>103924.615385</td>\n",
       "      <td>0.923077</td>\n",
       "      <td>1090.1</td>\n",
       "      <td>0.351202</td>\n",
       "      <td>NaN</td>\n",
       "      <td>NaN</td>\n",
       "      <td>NaN</td>\n",
       "      <td>NaN</td>\n",
       "      <td>...</td>\n",
       "      <td>NaN</td>\n",
       "      <td>NaN</td>\n",
       "      <td>NaN</td>\n",
       "      <td>NaN</td>\n",
       "      <td>NaN</td>\n",
       "      <td>NaN</td>\n",
       "      <td>NaN</td>\n",
       "      <td>NaN</td>\n",
       "      <td>NaN</td>\n",
       "      <td>NaN</td>\n",
       "    </tr>\n",
       "    <tr>\n",
       "      <th>2</th>\n",
       "      <td>29.000000</td>\n",
       "      <td>1.252792e+06</td>\n",
       "      <td>1164.000000</td>\n",
       "      <td>1.000000</td>\n",
       "      <td>NaN</td>\n",
       "      <td>NaN</td>\n",
       "      <td>NaN</td>\n",
       "      <td>NaN</td>\n",
       "      <td>NaN</td>\n",
       "      <td>NaN</td>\n",
       "      <td>...</td>\n",
       "      <td>NaN</td>\n",
       "      <td>NaN</td>\n",
       "      <td>NaN</td>\n",
       "      <td>NaN</td>\n",
       "      <td>NaN</td>\n",
       "      <td>NaN</td>\n",
       "      <td>NaN</td>\n",
       "      <td>NaN</td>\n",
       "      <td>NaN</td>\n",
       "      <td>NaN</td>\n",
       "    </tr>\n",
       "    <tr>\n",
       "      <th>3</th>\n",
       "      <td>30.250000</td>\n",
       "      <td>1.258242e+06</td>\n",
       "      <td>1758.500000</td>\n",
       "      <td>1.000000</td>\n",
       "      <td>NaN</td>\n",
       "      <td>NaN</td>\n",
       "      <td>NaN</td>\n",
       "      <td>NaN</td>\n",
       "      <td>NaN</td>\n",
       "      <td>NaN</td>\n",
       "      <td>...</td>\n",
       "      <td>NaN</td>\n",
       "      <td>NaN</td>\n",
       "      <td>NaN</td>\n",
       "      <td>NaN</td>\n",
       "      <td>NaN</td>\n",
       "      <td>NaN</td>\n",
       "      <td>NaN</td>\n",
       "      <td>NaN</td>\n",
       "      <td>NaN</td>\n",
       "      <td>NaN</td>\n",
       "    </tr>\n",
       "    <tr>\n",
       "      <th>4</th>\n",
       "      <td>34.750000</td>\n",
       "      <td>1.287905e+06</td>\n",
       "      <td>1442.250000</td>\n",
       "      <td>1.000000</td>\n",
       "      <td>NaN</td>\n",
       "      <td>NaN</td>\n",
       "      <td>NaN</td>\n",
       "      <td>NaN</td>\n",
       "      <td>NaN</td>\n",
       "      <td>NaN</td>\n",
       "      <td>...</td>\n",
       "      <td>NaN</td>\n",
       "      <td>NaN</td>\n",
       "      <td>NaN</td>\n",
       "      <td>NaN</td>\n",
       "      <td>NaN</td>\n",
       "      <td>NaN</td>\n",
       "      <td>NaN</td>\n",
       "      <td>NaN</td>\n",
       "      <td>NaN</td>\n",
       "      <td>NaN</td>\n",
       "    </tr>\n",
       "    <tr>\n",
       "      <th>5</th>\n",
       "      <td>33.750000</td>\n",
       "      <td>1.285990e+06</td>\n",
       "      <td>1576.750000</td>\n",
       "      <td>1.000000</td>\n",
       "      <td>NaN</td>\n",
       "      <td>NaN</td>\n",
       "      <td>NaN</td>\n",
       "      <td>NaN</td>\n",
       "      <td>NaN</td>\n",
       "      <td>NaN</td>\n",
       "      <td>...</td>\n",
       "      <td>NaN</td>\n",
       "      <td>NaN</td>\n",
       "      <td>NaN</td>\n",
       "      <td>NaN</td>\n",
       "      <td>NaN</td>\n",
       "      <td>NaN</td>\n",
       "      <td>NaN</td>\n",
       "      <td>NaN</td>\n",
       "      <td>NaN</td>\n",
       "      <td>NaN</td>\n",
       "    </tr>\n",
       "  </tbody>\n",
       "</table>\n",
       "<p>5 rows × 201 columns</p>\n",
       "</div>"
      ],
      "text/plain": [
       "             trial    start_time             rt   correct  Unnamed: 14  \\\n",
       "fact_id                                                                  \n",
       "1        70.153846  1.397901e+06  103924.615385  0.923077       1090.1   \n",
       "2        29.000000  1.252792e+06    1164.000000  1.000000          NaN   \n",
       "3        30.250000  1.258242e+06    1758.500000  1.000000          NaN   \n",
       "4        34.750000  1.287905e+06    1442.250000  1.000000          NaN   \n",
       "5        33.750000  1.285990e+06    1576.750000  1.000000          NaN   \n",
       "\n",
       "         Unnamed: 15  Unnamed: 16  Unnamed: 17  Unnamed: 18  Unnamed: 19  ...  \\\n",
       "fact_id                                                                   ...   \n",
       "1           0.351202          NaN          NaN          NaN          NaN  ...   \n",
       "2                NaN          NaN          NaN          NaN          NaN  ...   \n",
       "3                NaN          NaN          NaN          NaN          NaN  ...   \n",
       "4                NaN          NaN          NaN          NaN          NaN  ...   \n",
       "5                NaN          NaN          NaN          NaN          NaN  ...   \n",
       "\n",
       "         Unnamed: 201  Unnamed: 202  Unnamed: 203  Unnamed: 204  Unnamed: 205  \\\n",
       "fact_id                                                                         \n",
       "1                 NaN           NaN           NaN           NaN           NaN   \n",
       "2                 NaN           NaN           NaN           NaN           NaN   \n",
       "3                 NaN           NaN           NaN           NaN           NaN   \n",
       "4                 NaN           NaN           NaN           NaN           NaN   \n",
       "5                 NaN           NaN           NaN           NaN           NaN   \n",
       "\n",
       "         Unnamed: 206  Unnamed: 207  Unnamed: 208  Unnamed: 209  Unnamed: 210  \n",
       "fact_id                                                                        \n",
       "1                 NaN           NaN           NaN           NaN           NaN  \n",
       "2                 NaN           NaN           NaN           NaN           NaN  \n",
       "3                 NaN           NaN           NaN           NaN           NaN  \n",
       "4                 NaN           NaN           NaN           NaN           NaN  \n",
       "5                 NaN           NaN           NaN           NaN           NaN  \n",
       "\n",
       "[5 rows x 201 columns]"
      ]
     },
     "execution_count": 283,
     "metadata": {},
     "output_type": "execute_result"
    }
   ],
   "source": [
    "p1_grouped = p1.groupby('fact_id').agg('mean')\n",
    "p1_grouped.head(5)"
   ]
  },
  {
   "cell_type": "code",
   "execution_count": 284,
   "metadata": {},
   "outputs": [
    {
     "data": {
      "text/html": [
       "<div>\n",
       "<style scoped>\n",
       "    .dataframe tbody tr th:only-of-type {\n",
       "        vertical-align: middle;\n",
       "    }\n",
       "\n",
       "    .dataframe tbody tr th {\n",
       "        vertical-align: top;\n",
       "    }\n",
       "\n",
       "    .dataframe thead th {\n",
       "        text-align: right;\n",
       "    }\n",
       "</style>\n",
       "<table border=\"1\" class=\"dataframe\">\n",
       "  <thead>\n",
       "    <tr style=\"text-align: right;\">\n",
       "      <th></th>\n",
       "      <th>trial_x</th>\n",
       "      <th>start_time_x</th>\n",
       "      <th>rt_x</th>\n",
       "      <th>correct_x</th>\n",
       "      <th>Unnamed: 8</th>\n",
       "      <th>Unnamed: 9</th>\n",
       "      <th>Unnamed: 10</th>\n",
       "      <th>Unnamed: 11</th>\n",
       "      <th>Unnamed: 12</th>\n",
       "      <th>Unnamed: 13</th>\n",
       "      <th>...</th>\n",
       "      <th>Unnamed: 201_y</th>\n",
       "      <th>Unnamed: 202_y</th>\n",
       "      <th>Unnamed: 203_y</th>\n",
       "      <th>Unnamed: 204_y</th>\n",
       "      <th>Unnamed: 205_y</th>\n",
       "      <th>Unnamed: 206_y</th>\n",
       "      <th>Unnamed: 207_y</th>\n",
       "      <th>Unnamed: 208_y</th>\n",
       "      <th>Unnamed: 209_y</th>\n",
       "      <th>Unnamed: 210_y</th>\n",
       "    </tr>\n",
       "    <tr>\n",
       "      <th>fact_id</th>\n",
       "      <th></th>\n",
       "      <th></th>\n",
       "      <th></th>\n",
       "      <th></th>\n",
       "      <th></th>\n",
       "      <th></th>\n",
       "      <th></th>\n",
       "      <th></th>\n",
       "      <th></th>\n",
       "      <th></th>\n",
       "      <th></th>\n",
       "      <th></th>\n",
       "      <th></th>\n",
       "      <th></th>\n",
       "      <th></th>\n",
       "      <th></th>\n",
       "      <th></th>\n",
       "      <th></th>\n",
       "      <th></th>\n",
       "      <th></th>\n",
       "      <th></th>\n",
       "    </tr>\n",
       "  </thead>\n",
       "  <tbody>\n",
       "    <tr>\n",
       "      <th>1</th>\n",
       "      <td>12.0</td>\n",
       "      <td>1481926.0</td>\n",
       "      <td>1059.0</td>\n",
       "      <td>1.0</td>\n",
       "      <td>NaN</td>\n",
       "      <td>NaN</td>\n",
       "      <td>NaN</td>\n",
       "      <td>NaN</td>\n",
       "      <td>NaN</td>\n",
       "      <td>NaN</td>\n",
       "      <td>...</td>\n",
       "      <td>NaN</td>\n",
       "      <td>NaN</td>\n",
       "      <td>NaN</td>\n",
       "      <td>NaN</td>\n",
       "      <td>NaN</td>\n",
       "      <td>NaN</td>\n",
       "      <td>NaN</td>\n",
       "      <td>NaN</td>\n",
       "      <td>NaN</td>\n",
       "      <td>NaN</td>\n",
       "    </tr>\n",
       "    <tr>\n",
       "      <th>2</th>\n",
       "      <td>13.0</td>\n",
       "      <td>1487063.0</td>\n",
       "      <td>2235.0</td>\n",
       "      <td>1.0</td>\n",
       "      <td>NaN</td>\n",
       "      <td>NaN</td>\n",
       "      <td>NaN</td>\n",
       "      <td>NaN</td>\n",
       "      <td>NaN</td>\n",
       "      <td>NaN</td>\n",
       "      <td>...</td>\n",
       "      <td>NaN</td>\n",
       "      <td>NaN</td>\n",
       "      <td>NaN</td>\n",
       "      <td>NaN</td>\n",
       "      <td>NaN</td>\n",
       "      <td>NaN</td>\n",
       "      <td>NaN</td>\n",
       "      <td>NaN</td>\n",
       "      <td>NaN</td>\n",
       "      <td>NaN</td>\n",
       "    </tr>\n",
       "    <tr>\n",
       "      <th>3</th>\n",
       "      <td>14.0</td>\n",
       "      <td>1492333.5</td>\n",
       "      <td>953.0</td>\n",
       "      <td>1.0</td>\n",
       "      <td>NaN</td>\n",
       "      <td>NaN</td>\n",
       "      <td>NaN</td>\n",
       "      <td>NaN</td>\n",
       "      <td>NaN</td>\n",
       "      <td>NaN</td>\n",
       "      <td>...</td>\n",
       "      <td>NaN</td>\n",
       "      <td>NaN</td>\n",
       "      <td>NaN</td>\n",
       "      <td>NaN</td>\n",
       "      <td>NaN</td>\n",
       "      <td>NaN</td>\n",
       "      <td>NaN</td>\n",
       "      <td>NaN</td>\n",
       "      <td>NaN</td>\n",
       "      <td>NaN</td>\n",
       "    </tr>\n",
       "    <tr>\n",
       "      <th>4</th>\n",
       "      <td>15.0</td>\n",
       "      <td>1495403.0</td>\n",
       "      <td>980.0</td>\n",
       "      <td>1.0</td>\n",
       "      <td>NaN</td>\n",
       "      <td>NaN</td>\n",
       "      <td>NaN</td>\n",
       "      <td>NaN</td>\n",
       "      <td>NaN</td>\n",
       "      <td>NaN</td>\n",
       "      <td>...</td>\n",
       "      <td>NaN</td>\n",
       "      <td>NaN</td>\n",
       "      <td>NaN</td>\n",
       "      <td>NaN</td>\n",
       "      <td>NaN</td>\n",
       "      <td>NaN</td>\n",
       "      <td>NaN</td>\n",
       "      <td>NaN</td>\n",
       "      <td>NaN</td>\n",
       "      <td>NaN</td>\n",
       "    </tr>\n",
       "    <tr>\n",
       "      <th>5</th>\n",
       "      <td>16.0</td>\n",
       "      <td>1499158.5</td>\n",
       "      <td>951.0</td>\n",
       "      <td>1.0</td>\n",
       "      <td>NaN</td>\n",
       "      <td>NaN</td>\n",
       "      <td>NaN</td>\n",
       "      <td>NaN</td>\n",
       "      <td>NaN</td>\n",
       "      <td>NaN</td>\n",
       "      <td>...</td>\n",
       "      <td>NaN</td>\n",
       "      <td>NaN</td>\n",
       "      <td>NaN</td>\n",
       "      <td>NaN</td>\n",
       "      <td>NaN</td>\n",
       "      <td>NaN</td>\n",
       "      <td>NaN</td>\n",
       "      <td>NaN</td>\n",
       "      <td>NaN</td>\n",
       "      <td>NaN</td>\n",
       "    </tr>\n",
       "  </tbody>\n",
       "</table>\n",
       "<p>5 rows × 408 columns</p>\n",
       "</div>"
      ],
      "text/plain": [
       "         trial_x  start_time_x    rt_x  correct_x  Unnamed: 8  Unnamed: 9  \\\n",
       "fact_id                                                                     \n",
       "1           12.0     1481926.0  1059.0        1.0         NaN         NaN   \n",
       "2           13.0     1487063.0  2235.0        1.0         NaN         NaN   \n",
       "3           14.0     1492333.5   953.0        1.0         NaN         NaN   \n",
       "4           15.0     1495403.0   980.0        1.0         NaN         NaN   \n",
       "5           16.0     1499158.5   951.0        1.0         NaN         NaN   \n",
       "\n",
       "         Unnamed: 10  Unnamed: 11  Unnamed: 12  Unnamed: 13  ...  \\\n",
       "fact_id                                                      ...   \n",
       "1                NaN          NaN          NaN          NaN  ...   \n",
       "2                NaN          NaN          NaN          NaN  ...   \n",
       "3                NaN          NaN          NaN          NaN  ...   \n",
       "4                NaN          NaN          NaN          NaN  ...   \n",
       "5                NaN          NaN          NaN          NaN  ...   \n",
       "\n",
       "         Unnamed: 201_y  Unnamed: 202_y  Unnamed: 203_y  Unnamed: 204_y  \\\n",
       "fact_id                                                                   \n",
       "1                   NaN             NaN             NaN             NaN   \n",
       "2                   NaN             NaN             NaN             NaN   \n",
       "3                   NaN             NaN             NaN             NaN   \n",
       "4                   NaN             NaN             NaN             NaN   \n",
       "5                   NaN             NaN             NaN             NaN   \n",
       "\n",
       "         Unnamed: 205_y  Unnamed: 206_y  Unnamed: 207_y  Unnamed: 208_y  \\\n",
       "fact_id                                                                   \n",
       "1                   NaN             NaN             NaN             NaN   \n",
       "2                   NaN             NaN             NaN             NaN   \n",
       "3                   NaN             NaN             NaN             NaN   \n",
       "4                   NaN             NaN             NaN             NaN   \n",
       "5                   NaN             NaN             NaN             NaN   \n",
       "\n",
       "         Unnamed: 209_y  Unnamed: 210_y  \n",
       "fact_id                                  \n",
       "1                   NaN             NaN  \n",
       "2                   NaN             NaN  \n",
       "3                   NaN             NaN  \n",
       "4                   NaN             NaN  \n",
       "5                   NaN             NaN  \n",
       "\n",
       "[5 rows x 408 columns]"
      ]
     },
     "execution_count": 284,
     "metadata": {},
     "output_type": "execute_result"
    }
   ],
   "source": [
    "merge_tes_p1_groups = pd.merge(tes_grouped, p1_grouped, how = \"left\", on = \"fact_id\")\n",
    "merge_tes_p1_groups.head(5)"
   ]
  },
  {
   "cell_type": "code",
   "execution_count": 285,
   "metadata": {},
   "outputs": [
    {
     "data": {
      "text/plain": [
       "22"
      ]
     },
     "execution_count": 285,
     "metadata": {},
     "output_type": "execute_result"
    }
   ],
   "source": [
    "len(merge_tes_p1_groups)"
   ]
  },
  {
   "cell_type": "code",
   "execution_count": 286,
   "metadata": {},
   "outputs": [
    {
     "data": {
      "text/plain": [
       "7"
      ]
     },
     "execution_count": 286,
     "metadata": {},
     "output_type": "execute_result"
    }
   ],
   "source": [
    "# Count how many times the avg correctness is greater in the grouped P1 than the grouped P2\n",
    "len(merge_tes_p1_groups[merge_tes_p1_groups.correct_x > merge_tes_p1_groups.correct_y])"
   ]
  },
  {
   "cell_type": "code",
   "execution_count": null,
   "metadata": {},
   "outputs": [],
   "source": []
  },
  {
   "cell_type": "markdown",
   "metadata": {},
   "source": [
    "## Comparing P2 and tes"
   ]
  },
  {
   "cell_type": "code",
   "execution_count": 287,
   "metadata": {},
   "outputs": [
    {
     "name": "stderr",
     "output_type": "stream",
     "text": [
      "/var/folders/s2/psn1kzxd2_972xy94t5fr4cr0000gn/T/ipykernel_51267/581003624.py:1: FutureWarning: The default value of numeric_only in DataFrameGroupBy.mean is deprecated. In a future version, numeric_only will default to False. Either specify numeric_only or select only columns which should be valid for the function.\n",
      "  p2_grouped = p2.groupby('fact_id').agg('mean')\n"
     ]
    },
    {
     "data": {
      "text/html": [
       "<div>\n",
       "<style scoped>\n",
       "    .dataframe tbody tr th:only-of-type {\n",
       "        vertical-align: middle;\n",
       "    }\n",
       "\n",
       "    .dataframe tbody tr th {\n",
       "        vertical-align: top;\n",
       "    }\n",
       "\n",
       "    .dataframe thead th {\n",
       "        text-align: right;\n",
       "    }\n",
       "</style>\n",
       "<table border=\"1\" class=\"dataframe\">\n",
       "  <thead>\n",
       "    <tr style=\"text-align: right;\">\n",
       "      <th></th>\n",
       "      <th>trial</th>\n",
       "      <th>start_time</th>\n",
       "      <th>rt</th>\n",
       "      <th>correct</th>\n",
       "      <th>fogetting_rate</th>\n",
       "      <th>Unnamed: 14</th>\n",
       "      <th>Unnamed: 15</th>\n",
       "      <th>Unnamed: 16</th>\n",
       "      <th>Unnamed: 17</th>\n",
       "      <th>Unnamed: 18</th>\n",
       "      <th>...</th>\n",
       "      <th>Unnamed: 201</th>\n",
       "      <th>Unnamed: 202</th>\n",
       "      <th>Unnamed: 203</th>\n",
       "      <th>Unnamed: 204</th>\n",
       "      <th>Unnamed: 205</th>\n",
       "      <th>Unnamed: 206</th>\n",
       "      <th>Unnamed: 207</th>\n",
       "      <th>Unnamed: 208</th>\n",
       "      <th>Unnamed: 209</th>\n",
       "      <th>Unnamed: 210</th>\n",
       "    </tr>\n",
       "    <tr>\n",
       "      <th>fact_id</th>\n",
       "      <th></th>\n",
       "      <th></th>\n",
       "      <th></th>\n",
       "      <th></th>\n",
       "      <th></th>\n",
       "      <th></th>\n",
       "      <th></th>\n",
       "      <th></th>\n",
       "      <th></th>\n",
       "      <th></th>\n",
       "      <th></th>\n",
       "      <th></th>\n",
       "      <th></th>\n",
       "      <th></th>\n",
       "      <th></th>\n",
       "      <th></th>\n",
       "      <th></th>\n",
       "      <th></th>\n",
       "      <th></th>\n",
       "      <th></th>\n",
       "      <th></th>\n",
       "    </tr>\n",
       "  </thead>\n",
       "  <tbody>\n",
       "    <tr>\n",
       "      <th>1</th>\n",
       "      <td>41.800000</td>\n",
       "      <td>219627.200000</td>\n",
       "      <td>140903.2</td>\n",
       "      <td>1.000000</td>\n",
       "      <td>719.600000</td>\n",
       "      <td>0.240156</td>\n",
       "      <td>NaN</td>\n",
       "      <td>NaN</td>\n",
       "      <td>NaN</td>\n",
       "      <td>NaN</td>\n",
       "      <td>...</td>\n",
       "      <td>NaN</td>\n",
       "      <td>NaN</td>\n",
       "      <td>NaN</td>\n",
       "      <td>NaN</td>\n",
       "      <td>NaN</td>\n",
       "      <td>NaN</td>\n",
       "      <td>NaN</td>\n",
       "      <td>NaN</td>\n",
       "      <td>NaN</td>\n",
       "      <td>NaN</td>\n",
       "    </tr>\n",
       "    <tr>\n",
       "      <th>2</th>\n",
       "      <td>32.000000</td>\n",
       "      <td>306919.000000</td>\n",
       "      <td>8386.6</td>\n",
       "      <td>0.600000</td>\n",
       "      <td>0.260312</td>\n",
       "      <td>NaN</td>\n",
       "      <td>NaN</td>\n",
       "      <td>NaN</td>\n",
       "      <td>NaN</td>\n",
       "      <td>NaN</td>\n",
       "      <td>...</td>\n",
       "      <td>NaN</td>\n",
       "      <td>NaN</td>\n",
       "      <td>NaN</td>\n",
       "      <td>NaN</td>\n",
       "      <td>NaN</td>\n",
       "      <td>NaN</td>\n",
       "      <td>NaN</td>\n",
       "      <td>NaN</td>\n",
       "      <td>NaN</td>\n",
       "      <td>NaN</td>\n",
       "    </tr>\n",
       "    <tr>\n",
       "      <th>3</th>\n",
       "      <td>32.250000</td>\n",
       "      <td>299606.000000</td>\n",
       "      <td>1521.5</td>\n",
       "      <td>0.750000</td>\n",
       "      <td>0.225586</td>\n",
       "      <td>NaN</td>\n",
       "      <td>NaN</td>\n",
       "      <td>NaN</td>\n",
       "      <td>NaN</td>\n",
       "      <td>NaN</td>\n",
       "      <td>...</td>\n",
       "      <td>NaN</td>\n",
       "      <td>NaN</td>\n",
       "      <td>NaN</td>\n",
       "      <td>NaN</td>\n",
       "      <td>NaN</td>\n",
       "      <td>NaN</td>\n",
       "      <td>NaN</td>\n",
       "      <td>NaN</td>\n",
       "      <td>NaN</td>\n",
       "      <td>NaN</td>\n",
       "    </tr>\n",
       "    <tr>\n",
       "      <th>4</th>\n",
       "      <td>36.600000</td>\n",
       "      <td>332713.000000</td>\n",
       "      <td>1373.2</td>\n",
       "      <td>1.000000</td>\n",
       "      <td>NaN</td>\n",
       "      <td>NaN</td>\n",
       "      <td>NaN</td>\n",
       "      <td>NaN</td>\n",
       "      <td>NaN</td>\n",
       "      <td>NaN</td>\n",
       "      <td>...</td>\n",
       "      <td>NaN</td>\n",
       "      <td>NaN</td>\n",
       "      <td>NaN</td>\n",
       "      <td>NaN</td>\n",
       "      <td>NaN</td>\n",
       "      <td>NaN</td>\n",
       "      <td>NaN</td>\n",
       "      <td>NaN</td>\n",
       "      <td>NaN</td>\n",
       "      <td>NaN</td>\n",
       "    </tr>\n",
       "    <tr>\n",
       "      <th>5</th>\n",
       "      <td>54.363636</td>\n",
       "      <td>425532.545455</td>\n",
       "      <td>NaN</td>\n",
       "      <td>0.818182</td>\n",
       "      <td>0.356499</td>\n",
       "      <td>NaN</td>\n",
       "      <td>NaN</td>\n",
       "      <td>NaN</td>\n",
       "      <td>NaN</td>\n",
       "      <td>NaN</td>\n",
       "      <td>...</td>\n",
       "      <td>NaN</td>\n",
       "      <td>NaN</td>\n",
       "      <td>NaN</td>\n",
       "      <td>NaN</td>\n",
       "      <td>NaN</td>\n",
       "      <td>NaN</td>\n",
       "      <td>NaN</td>\n",
       "      <td>NaN</td>\n",
       "      <td>NaN</td>\n",
       "      <td>NaN</td>\n",
       "    </tr>\n",
       "  </tbody>\n",
       "</table>\n",
       "<p>5 rows × 202 columns</p>\n",
       "</div>"
      ],
      "text/plain": [
       "             trial     start_time        rt   correct  fogetting_rate  \\\n",
       "fact_id                                                                 \n",
       "1        41.800000  219627.200000  140903.2  1.000000      719.600000   \n",
       "2        32.000000  306919.000000    8386.6  0.600000        0.260312   \n",
       "3        32.250000  299606.000000    1521.5  0.750000        0.225586   \n",
       "4        36.600000  332713.000000    1373.2  1.000000             NaN   \n",
       "5        54.363636  425532.545455       NaN  0.818182        0.356499   \n",
       "\n",
       "         Unnamed: 14  Unnamed: 15  Unnamed: 16  Unnamed: 17  Unnamed: 18  ...  \\\n",
       "fact_id                                                                   ...   \n",
       "1           0.240156          NaN          NaN          NaN          NaN  ...   \n",
       "2                NaN          NaN          NaN          NaN          NaN  ...   \n",
       "3                NaN          NaN          NaN          NaN          NaN  ...   \n",
       "4                NaN          NaN          NaN          NaN          NaN  ...   \n",
       "5                NaN          NaN          NaN          NaN          NaN  ...   \n",
       "\n",
       "         Unnamed: 201  Unnamed: 202  Unnamed: 203  Unnamed: 204  Unnamed: 205  \\\n",
       "fact_id                                                                         \n",
       "1                 NaN           NaN           NaN           NaN           NaN   \n",
       "2                 NaN           NaN           NaN           NaN           NaN   \n",
       "3                 NaN           NaN           NaN           NaN           NaN   \n",
       "4                 NaN           NaN           NaN           NaN           NaN   \n",
       "5                 NaN           NaN           NaN           NaN           NaN   \n",
       "\n",
       "         Unnamed: 206  Unnamed: 207  Unnamed: 208  Unnamed: 209  Unnamed: 210  \n",
       "fact_id                                                                        \n",
       "1                 NaN           NaN           NaN           NaN           NaN  \n",
       "2                 NaN           NaN           NaN           NaN           NaN  \n",
       "3                 NaN           NaN           NaN           NaN           NaN  \n",
       "4                 NaN           NaN           NaN           NaN           NaN  \n",
       "5                 NaN           NaN           NaN           NaN           NaN  \n",
       "\n",
       "[5 rows x 202 columns]"
      ]
     },
     "execution_count": 287,
     "metadata": {},
     "output_type": "execute_result"
    }
   ],
   "source": [
    "p2_grouped = p2.groupby('fact_id').agg('mean')\n",
    "p2_grouped.head(5)"
   ]
  },
  {
   "cell_type": "code",
   "execution_count": 288,
   "metadata": {},
   "outputs": [
    {
     "data": {
      "text/html": [
       "<div>\n",
       "<style scoped>\n",
       "    .dataframe tbody tr th:only-of-type {\n",
       "        vertical-align: middle;\n",
       "    }\n",
       "\n",
       "    .dataframe tbody tr th {\n",
       "        vertical-align: top;\n",
       "    }\n",
       "\n",
       "    .dataframe thead th {\n",
       "        text-align: right;\n",
       "    }\n",
       "</style>\n",
       "<table border=\"1\" class=\"dataframe\">\n",
       "  <thead>\n",
       "    <tr style=\"text-align: right;\">\n",
       "      <th></th>\n",
       "      <th>trial_x</th>\n",
       "      <th>start_time_x</th>\n",
       "      <th>rt_x</th>\n",
       "      <th>correct_x</th>\n",
       "      <th>Unnamed: 8</th>\n",
       "      <th>Unnamed: 9</th>\n",
       "      <th>Unnamed: 10</th>\n",
       "      <th>Unnamed: 11</th>\n",
       "      <th>Unnamed: 12</th>\n",
       "      <th>Unnamed: 13</th>\n",
       "      <th>...</th>\n",
       "      <th>Unnamed: 201_y</th>\n",
       "      <th>Unnamed: 202_y</th>\n",
       "      <th>Unnamed: 203_y</th>\n",
       "      <th>Unnamed: 204_y</th>\n",
       "      <th>Unnamed: 205_y</th>\n",
       "      <th>Unnamed: 206_y</th>\n",
       "      <th>Unnamed: 207_y</th>\n",
       "      <th>Unnamed: 208_y</th>\n",
       "      <th>Unnamed: 209_y</th>\n",
       "      <th>Unnamed: 210_y</th>\n",
       "    </tr>\n",
       "    <tr>\n",
       "      <th>fact_id</th>\n",
       "      <th></th>\n",
       "      <th></th>\n",
       "      <th></th>\n",
       "      <th></th>\n",
       "      <th></th>\n",
       "      <th></th>\n",
       "      <th></th>\n",
       "      <th></th>\n",
       "      <th></th>\n",
       "      <th></th>\n",
       "      <th></th>\n",
       "      <th></th>\n",
       "      <th></th>\n",
       "      <th></th>\n",
       "      <th></th>\n",
       "      <th></th>\n",
       "      <th></th>\n",
       "      <th></th>\n",
       "      <th></th>\n",
       "      <th></th>\n",
       "      <th></th>\n",
       "    </tr>\n",
       "  </thead>\n",
       "  <tbody>\n",
       "    <tr>\n",
       "      <th>1</th>\n",
       "      <td>12.0</td>\n",
       "      <td>1481926.0</td>\n",
       "      <td>1059.0</td>\n",
       "      <td>1.0</td>\n",
       "      <td>NaN</td>\n",
       "      <td>NaN</td>\n",
       "      <td>NaN</td>\n",
       "      <td>NaN</td>\n",
       "      <td>NaN</td>\n",
       "      <td>NaN</td>\n",
       "      <td>...</td>\n",
       "      <td>NaN</td>\n",
       "      <td>NaN</td>\n",
       "      <td>NaN</td>\n",
       "      <td>NaN</td>\n",
       "      <td>NaN</td>\n",
       "      <td>NaN</td>\n",
       "      <td>NaN</td>\n",
       "      <td>NaN</td>\n",
       "      <td>NaN</td>\n",
       "      <td>NaN</td>\n",
       "    </tr>\n",
       "    <tr>\n",
       "      <th>2</th>\n",
       "      <td>13.0</td>\n",
       "      <td>1487063.0</td>\n",
       "      <td>2235.0</td>\n",
       "      <td>1.0</td>\n",
       "      <td>NaN</td>\n",
       "      <td>NaN</td>\n",
       "      <td>NaN</td>\n",
       "      <td>NaN</td>\n",
       "      <td>NaN</td>\n",
       "      <td>NaN</td>\n",
       "      <td>...</td>\n",
       "      <td>NaN</td>\n",
       "      <td>NaN</td>\n",
       "      <td>NaN</td>\n",
       "      <td>NaN</td>\n",
       "      <td>NaN</td>\n",
       "      <td>NaN</td>\n",
       "      <td>NaN</td>\n",
       "      <td>NaN</td>\n",
       "      <td>NaN</td>\n",
       "      <td>NaN</td>\n",
       "    </tr>\n",
       "    <tr>\n",
       "      <th>3</th>\n",
       "      <td>14.0</td>\n",
       "      <td>1492333.5</td>\n",
       "      <td>953.0</td>\n",
       "      <td>1.0</td>\n",
       "      <td>NaN</td>\n",
       "      <td>NaN</td>\n",
       "      <td>NaN</td>\n",
       "      <td>NaN</td>\n",
       "      <td>NaN</td>\n",
       "      <td>NaN</td>\n",
       "      <td>...</td>\n",
       "      <td>NaN</td>\n",
       "      <td>NaN</td>\n",
       "      <td>NaN</td>\n",
       "      <td>NaN</td>\n",
       "      <td>NaN</td>\n",
       "      <td>NaN</td>\n",
       "      <td>NaN</td>\n",
       "      <td>NaN</td>\n",
       "      <td>NaN</td>\n",
       "      <td>NaN</td>\n",
       "    </tr>\n",
       "    <tr>\n",
       "      <th>4</th>\n",
       "      <td>15.0</td>\n",
       "      <td>1495403.0</td>\n",
       "      <td>980.0</td>\n",
       "      <td>1.0</td>\n",
       "      <td>NaN</td>\n",
       "      <td>NaN</td>\n",
       "      <td>NaN</td>\n",
       "      <td>NaN</td>\n",
       "      <td>NaN</td>\n",
       "      <td>NaN</td>\n",
       "      <td>...</td>\n",
       "      <td>NaN</td>\n",
       "      <td>NaN</td>\n",
       "      <td>NaN</td>\n",
       "      <td>NaN</td>\n",
       "      <td>NaN</td>\n",
       "      <td>NaN</td>\n",
       "      <td>NaN</td>\n",
       "      <td>NaN</td>\n",
       "      <td>NaN</td>\n",
       "      <td>NaN</td>\n",
       "    </tr>\n",
       "    <tr>\n",
       "      <th>5</th>\n",
       "      <td>16.0</td>\n",
       "      <td>1499158.5</td>\n",
       "      <td>951.0</td>\n",
       "      <td>1.0</td>\n",
       "      <td>NaN</td>\n",
       "      <td>NaN</td>\n",
       "      <td>NaN</td>\n",
       "      <td>NaN</td>\n",
       "      <td>NaN</td>\n",
       "      <td>NaN</td>\n",
       "      <td>...</td>\n",
       "      <td>NaN</td>\n",
       "      <td>NaN</td>\n",
       "      <td>NaN</td>\n",
       "      <td>NaN</td>\n",
       "      <td>NaN</td>\n",
       "      <td>NaN</td>\n",
       "      <td>NaN</td>\n",
       "      <td>NaN</td>\n",
       "      <td>NaN</td>\n",
       "      <td>NaN</td>\n",
       "    </tr>\n",
       "  </tbody>\n",
       "</table>\n",
       "<p>5 rows × 409 columns</p>\n",
       "</div>"
      ],
      "text/plain": [
       "         trial_x  start_time_x    rt_x  correct_x  Unnamed: 8  Unnamed: 9  \\\n",
       "fact_id                                                                     \n",
       "1           12.0     1481926.0  1059.0        1.0         NaN         NaN   \n",
       "2           13.0     1487063.0  2235.0        1.0         NaN         NaN   \n",
       "3           14.0     1492333.5   953.0        1.0         NaN         NaN   \n",
       "4           15.0     1495403.0   980.0        1.0         NaN         NaN   \n",
       "5           16.0     1499158.5   951.0        1.0         NaN         NaN   \n",
       "\n",
       "         Unnamed: 10  Unnamed: 11  Unnamed: 12  Unnamed: 13  ...  \\\n",
       "fact_id                                                      ...   \n",
       "1                NaN          NaN          NaN          NaN  ...   \n",
       "2                NaN          NaN          NaN          NaN  ...   \n",
       "3                NaN          NaN          NaN          NaN  ...   \n",
       "4                NaN          NaN          NaN          NaN  ...   \n",
       "5                NaN          NaN          NaN          NaN  ...   \n",
       "\n",
       "         Unnamed: 201_y  Unnamed: 202_y  Unnamed: 203_y  Unnamed: 204_y  \\\n",
       "fact_id                                                                   \n",
       "1                   NaN             NaN             NaN             NaN   \n",
       "2                   NaN             NaN             NaN             NaN   \n",
       "3                   NaN             NaN             NaN             NaN   \n",
       "4                   NaN             NaN             NaN             NaN   \n",
       "5                   NaN             NaN             NaN             NaN   \n",
       "\n",
       "         Unnamed: 205_y  Unnamed: 206_y  Unnamed: 207_y  Unnamed: 208_y  \\\n",
       "fact_id                                                                   \n",
       "1                   NaN             NaN             NaN             NaN   \n",
       "2                   NaN             NaN             NaN             NaN   \n",
       "3                   NaN             NaN             NaN             NaN   \n",
       "4                   NaN             NaN             NaN             NaN   \n",
       "5                   NaN             NaN             NaN             NaN   \n",
       "\n",
       "         Unnamed: 209_y  Unnamed: 210_y  \n",
       "fact_id                                  \n",
       "1                   NaN             NaN  \n",
       "2                   NaN             NaN  \n",
       "3                   NaN             NaN  \n",
       "4                   NaN             NaN  \n",
       "5                   NaN             NaN  \n",
       "\n",
       "[5 rows x 409 columns]"
      ]
     },
     "execution_count": 288,
     "metadata": {},
     "output_type": "execute_result"
    }
   ],
   "source": [
    "merge_tes_p2_groups = pd.merge(tes_grouped, p2_grouped, how = \"left\", on = \"fact_id\")\n",
    "merge_tes_p2_groups.head(5)"
   ]
  },
  {
   "cell_type": "code",
   "execution_count": 289,
   "metadata": {},
   "outputs": [
    {
     "data": {
      "text/plain": [
       "22"
      ]
     },
     "execution_count": 289,
     "metadata": {},
     "output_type": "execute_result"
    }
   ],
   "source": [
    "len(merge_tes_p2_groups)"
   ]
  },
  {
   "cell_type": "code",
   "execution_count": 290,
   "metadata": {},
   "outputs": [
    {
     "data": {
      "text/plain": [
       "19"
      ]
     },
     "execution_count": 290,
     "metadata": {},
     "output_type": "execute_result"
    }
   ],
   "source": [
    "# Count how many times the avg correctness is greater in the grouped P1 than the grouped P2\n",
    "len(merge_tes_p2_groups[merge_tes_p2_groups.correct_x > merge_tes_p2_groups.correct_y])"
   ]
  },
  {
   "cell_type": "markdown",
   "metadata": {},
   "source": [
    "# Subject 11"
   ]
  },
  {
   "cell_type": "code",
   "execution_count": 291,
   "metadata": {},
   "outputs": [],
   "source": [
    "all_files = Path(Path.cwd()/\"sub11\")\n",
    "info = pd.read_csv(all_files/\"info.csv\", delimiter=\";\")\n",
    "p1 = pd.read_csv(all_files/\"part1.csv\", delimiter=\";\")\n",
    "p2 = pd.read_csv(all_files/\"part2.csv\", delimiter=\";\")\n",
    "pre = pd.read_csv(all_files/\"pretest.csv\", delimiter=\";\")\n",
    "tes = pd.read_csv(all_files/\"test.csv\", delimiter=\";\")\n"
   ]
  },
  {
   "cell_type": "markdown",
   "metadata": {},
   "source": [
    "## Participant Info"
   ]
  },
  {
   "cell_type": "code",
   "execution_count": 292,
   "metadata": {},
   "outputs": [
    {
     "data": {
      "text/html": [
       "<div>\n",
       "<style scoped>\n",
       "    .dataframe tbody tr th:only-of-type {\n",
       "        vertical-align: middle;\n",
       "    }\n",
       "\n",
       "    .dataframe tbody tr th {\n",
       "        vertical-align: top;\n",
       "    }\n",
       "\n",
       "    .dataframe thead th {\n",
       "        text-align: right;\n",
       "    }\n",
       "</style>\n",
       "<table border=\"1\" class=\"dataframe\">\n",
       "  <thead>\n",
       "    <tr style=\"text-align: right;\">\n",
       "      <th></th>\n",
       "      <th>Language</th>\n",
       "      <th>Level</th>\n",
       "      <th>acc</th>\n",
       "      <th>accuracy</th>\n",
       "      <th>age</th>\n",
       "      <th>average_response_time</th>\n",
       "      <th>avg_rt</th>\n",
       "      <th>b0</th>\n",
       "      <th>b1</th>\n",
       "      <th>background</th>\n",
       "      <th>...</th>\n",
       "      <th>time_up2</th>\n",
       "      <th>time_welcome</th>\n",
       "      <th>title</th>\n",
       "      <th>total_correct</th>\n",
       "      <th>total_response_time</th>\n",
       "      <th>total_responses</th>\n",
       "      <th>trial_num</th>\n",
       "      <th>trial_num_baseline</th>\n",
       "      <th>uniform_coordinates</th>\n",
       "      <th>width</th>\n",
       "    </tr>\n",
       "  </thead>\n",
       "  <tbody>\n",
       "    <tr>\n",
       "      <th>0</th>\n",
       "      <td>Telugu</td>\n",
       "      <td>A1</td>\n",
       "      <td>undefined</td>\n",
       "      <td>undefined</td>\n",
       "      <td>23</td>\n",
       "      <td>undefined</td>\n",
       "      <td>undefined</td>\n",
       "      <td>NaN</td>\n",
       "      <td>NaN</td>\n",
       "      <td>#e8edf1</td>\n",
       "      <td>...</td>\n",
       "      <td>no</td>\n",
       "      <td>2842</td>\n",
       "      <td>SlimStampen example</td>\n",
       "      <td>0</td>\n",
       "      <td>0</td>\n",
       "      <td>0</td>\n",
       "      <td>1</td>\n",
       "      <td>1</td>\n",
       "      <td>yes</td>\n",
       "      <td>1024</td>\n",
       "    </tr>\n",
       "  </tbody>\n",
       "</table>\n",
       "<p>1 rows × 211 columns</p>\n",
       "</div>"
      ],
      "text/plain": [
       "  Language Level        acc   accuracy  age average_response_time     avg_rt  \\\n",
       "0   Telugu    A1  undefined  undefined   23             undefined  undefined   \n",
       "\n",
       "   b0  b1 background  ... time_up2 time_welcome                title  \\\n",
       "0 NaN NaN    #e8edf1  ...       no         2842  SlimStampen example   \n",
       "\n",
       "   total_correct  total_response_time total_responses trial_num  \\\n",
       "0              0                    0               0         1   \n",
       "\n",
       "  trial_num_baseline  uniform_coordinates  width  \n",
       "0                  1                  yes   1024  \n",
       "\n",
       "[1 rows x 211 columns]"
      ]
     },
     "execution_count": 292,
     "metadata": {},
     "output_type": "execute_result"
    }
   ],
   "source": [
    "info.head()"
   ]
  },
  {
   "cell_type": "markdown",
   "metadata": {},
   "source": [
    "## Pretest"
   ]
  },
  {
   "cell_type": "code",
   "execution_count": 293,
   "metadata": {},
   "outputs": [
    {
     "data": {
      "text/html": [
       "<div>\n",
       "<style scoped>\n",
       "    .dataframe tbody tr th:only-of-type {\n",
       "        vertical-align: middle;\n",
       "    }\n",
       "\n",
       "    .dataframe tbody tr th {\n",
       "        vertical-align: top;\n",
       "    }\n",
       "\n",
       "    .dataframe thead th {\n",
       "        text-align: right;\n",
       "    }\n",
       "</style>\n",
       "<table border=\"1\" class=\"dataframe\">\n",
       "  <thead>\n",
       "    <tr style=\"text-align: right;\">\n",
       "      <th></th>\n",
       "      <th>trial</th>\n",
       "      <th>fact</th>\n",
       "      <th>start_time</th>\n",
       "      <th>rt</th>\n",
       "      <th>correct</th>\n",
       "      <th>fact_id</th>\n",
       "      <th>question</th>\n",
       "      <th>answer</th>\n",
       "      <th>Unnamed: 8</th>\n",
       "      <th>Unnamed: 9</th>\n",
       "      <th>...</th>\n",
       "      <th>Unnamed: 201</th>\n",
       "      <th>Unnamed: 202</th>\n",
       "      <th>Unnamed: 203</th>\n",
       "      <th>Unnamed: 204</th>\n",
       "      <th>Unnamed: 205</th>\n",
       "      <th>Unnamed: 206</th>\n",
       "      <th>Unnamed: 207</th>\n",
       "      <th>Unnamed: 208</th>\n",
       "      <th>Unnamed: 209</th>\n",
       "      <th>Unnamed: 210</th>\n",
       "    </tr>\n",
       "  </thead>\n",
       "  <tbody>\n",
       "    <tr>\n",
       "      <th>0</th>\n",
       "      <td>1</td>\n",
       "      <td>Word(fact_id=1, question='winkel', answer=['sh...</td>\n",
       "      <td>15847.0</td>\n",
       "      <td>1116.0</td>\n",
       "      <td>True</td>\n",
       "      <td>1</td>\n",
       "      <td>winkel</td>\n",
       "      <td>['shop', 'store']</td>\n",
       "      <td>NaN</td>\n",
       "      <td>NaN</td>\n",
       "      <td>...</td>\n",
       "      <td>NaN</td>\n",
       "      <td>NaN</td>\n",
       "      <td>NaN</td>\n",
       "      <td>NaN</td>\n",
       "      <td>NaN</td>\n",
       "      <td>NaN</td>\n",
       "      <td>NaN</td>\n",
       "      <td>NaN</td>\n",
       "      <td>NaN</td>\n",
       "      <td>NaN</td>\n",
       "    </tr>\n",
       "    <tr>\n",
       "      <th>1</th>\n",
       "      <td>2</td>\n",
       "      <td>Word(fact_id=2, question='lepel', answer=['spo...</td>\n",
       "      <td>19426.0</td>\n",
       "      <td>923.0</td>\n",
       "      <td>True</td>\n",
       "      <td>2</td>\n",
       "      <td>lepel</td>\n",
       "      <td>['spoon']</td>\n",
       "      <td>NaN</td>\n",
       "      <td>NaN</td>\n",
       "      <td>...</td>\n",
       "      <td>NaN</td>\n",
       "      <td>NaN</td>\n",
       "      <td>NaN</td>\n",
       "      <td>NaN</td>\n",
       "      <td>NaN</td>\n",
       "      <td>NaN</td>\n",
       "      <td>NaN</td>\n",
       "      <td>NaN</td>\n",
       "      <td>NaN</td>\n",
       "      <td>NaN</td>\n",
       "    </tr>\n",
       "    <tr>\n",
       "      <th>2</th>\n",
       "      <td>3</td>\n",
       "      <td>Word(fact_id=3, question='jas', answer=['coat'...</td>\n",
       "      <td>23019.0</td>\n",
       "      <td>1250.0</td>\n",
       "      <td>True</td>\n",
       "      <td>3</td>\n",
       "      <td>jas</td>\n",
       "      <td>['coat', 'jacket', 'overcoat', 'cloak']</td>\n",
       "      <td>NaN</td>\n",
       "      <td>NaN</td>\n",
       "      <td>...</td>\n",
       "      <td>NaN</td>\n",
       "      <td>NaN</td>\n",
       "      <td>NaN</td>\n",
       "      <td>NaN</td>\n",
       "      <td>NaN</td>\n",
       "      <td>NaN</td>\n",
       "      <td>NaN</td>\n",
       "      <td>NaN</td>\n",
       "      <td>NaN</td>\n",
       "      <td>NaN</td>\n",
       "    </tr>\n",
       "    <tr>\n",
       "      <th>3</th>\n",
       "      <td>4</td>\n",
       "      <td>Word(fact_id=4, question='raam', answer=['wind...</td>\n",
       "      <td>27146.0</td>\n",
       "      <td>1188.0</td>\n",
       "      <td>True</td>\n",
       "      <td>4</td>\n",
       "      <td>raam</td>\n",
       "      <td>['window', 'frame']</td>\n",
       "      <td>NaN</td>\n",
       "      <td>NaN</td>\n",
       "      <td>...</td>\n",
       "      <td>NaN</td>\n",
       "      <td>NaN</td>\n",
       "      <td>NaN</td>\n",
       "      <td>NaN</td>\n",
       "      <td>NaN</td>\n",
       "      <td>NaN</td>\n",
       "      <td>NaN</td>\n",
       "      <td>NaN</td>\n",
       "      <td>NaN</td>\n",
       "      <td>NaN</td>\n",
       "    </tr>\n",
       "    <tr>\n",
       "      <th>4</th>\n",
       "      <td>5</td>\n",
       "      <td>Word(fact_id=5, question='buiten', answer=['ou...</td>\n",
       "      <td>30930.0</td>\n",
       "      <td>1234.0</td>\n",
       "      <td>True</td>\n",
       "      <td>5</td>\n",
       "      <td>buiten</td>\n",
       "      <td>['outside', 'out']</td>\n",
       "      <td>NaN</td>\n",
       "      <td>NaN</td>\n",
       "      <td>...</td>\n",
       "      <td>NaN</td>\n",
       "      <td>NaN</td>\n",
       "      <td>NaN</td>\n",
       "      <td>NaN</td>\n",
       "      <td>NaN</td>\n",
       "      <td>NaN</td>\n",
       "      <td>NaN</td>\n",
       "      <td>NaN</td>\n",
       "      <td>NaN</td>\n",
       "      <td>NaN</td>\n",
       "    </tr>\n",
       "  </tbody>\n",
       "</table>\n",
       "<p>5 rows × 211 columns</p>\n",
       "</div>"
      ],
      "text/plain": [
       "   trial                                               fact  start_time  \\\n",
       "0      1  Word(fact_id=1, question='winkel', answer=['sh...     15847.0   \n",
       "1      2  Word(fact_id=2, question='lepel', answer=['spo...     19426.0   \n",
       "2      3  Word(fact_id=3, question='jas', answer=['coat'...     23019.0   \n",
       "3      4  Word(fact_id=4, question='raam', answer=['wind...     27146.0   \n",
       "4      5  Word(fact_id=5, question='buiten', answer=['ou...     30930.0   \n",
       "\n",
       "       rt  correct  fact_id question                                   answer  \\\n",
       "0  1116.0     True        1   winkel                        ['shop', 'store']   \n",
       "1   923.0     True        2    lepel                                ['spoon']   \n",
       "2  1250.0     True        3      jas  ['coat', 'jacket', 'overcoat', 'cloak']   \n",
       "3  1188.0     True        4     raam                      ['window', 'frame']   \n",
       "4  1234.0     True        5   buiten                       ['outside', 'out']   \n",
       "\n",
       "   Unnamed: 8  Unnamed: 9  ...  Unnamed: 201  Unnamed: 202  Unnamed: 203  \\\n",
       "0         NaN         NaN  ...           NaN           NaN           NaN   \n",
       "1         NaN         NaN  ...           NaN           NaN           NaN   \n",
       "2         NaN         NaN  ...           NaN           NaN           NaN   \n",
       "3         NaN         NaN  ...           NaN           NaN           NaN   \n",
       "4         NaN         NaN  ...           NaN           NaN           NaN   \n",
       "\n",
       "   Unnamed: 204  Unnamed: 205  Unnamed: 206  Unnamed: 207  Unnamed: 208  \\\n",
       "0           NaN           NaN           NaN           NaN           NaN   \n",
       "1           NaN           NaN           NaN           NaN           NaN   \n",
       "2           NaN           NaN           NaN           NaN           NaN   \n",
       "3           NaN           NaN           NaN           NaN           NaN   \n",
       "4           NaN           NaN           NaN           NaN           NaN   \n",
       "\n",
       "   Unnamed: 209  Unnamed: 210  \n",
       "0           NaN           NaN  \n",
       "1           NaN           NaN  \n",
       "2           NaN           NaN  \n",
       "3           NaN           NaN  \n",
       "4           NaN           NaN  \n",
       "\n",
       "[5 rows x 211 columns]"
      ]
     },
     "execution_count": 293,
     "metadata": {},
     "output_type": "execute_result"
    }
   ],
   "source": [
    "pre.head()"
   ]
  },
  {
   "cell_type": "code",
   "execution_count": 294,
   "metadata": {},
   "outputs": [
    {
     "data": {
      "text/plain": [
       "False    13\n",
       "True      6\n",
       "Name: correct, dtype: int64"
      ]
     },
     "execution_count": 294,
     "metadata": {},
     "output_type": "execute_result"
    }
   ],
   "source": [
    "# No of correct/wrong\n",
    "pre[\"correct\"].value_counts()"
   ]
  },
  {
   "cell_type": "code",
   "execution_count": 295,
   "metadata": {},
   "outputs": [
    {
     "data": {
      "text/plain": [
       "2760.0"
      ]
     },
     "execution_count": 295,
     "metadata": {},
     "output_type": "execute_result"
    }
   ],
   "source": [
    "# Avergae RT\n",
    "np.average([x for x in pre[\"rt\"].values if x!=np.Inf])"
   ]
  },
  {
   "cell_type": "markdown",
   "metadata": {},
   "source": [
    "## Part 1"
   ]
  },
  {
   "cell_type": "code",
   "execution_count": 296,
   "metadata": {},
   "outputs": [
    {
     "data": {
      "text/html": [
       "<div>\n",
       "<style scoped>\n",
       "    .dataframe tbody tr th:only-of-type {\n",
       "        vertical-align: middle;\n",
       "    }\n",
       "\n",
       "    .dataframe tbody tr th {\n",
       "        vertical-align: top;\n",
       "    }\n",
       "\n",
       "    .dataframe thead th {\n",
       "        text-align: right;\n",
       "    }\n",
       "</style>\n",
       "<table border=\"1\" class=\"dataframe\">\n",
       "  <thead>\n",
       "    <tr style=\"text-align: right;\">\n",
       "      <th></th>\n",
       "      <th>trial</th>\n",
       "      <th>start_time</th>\n",
       "      <th>rt</th>\n",
       "      <th>correct</th>\n",
       "      <th>fact_id</th>\n",
       "      <th>question</th>\n",
       "      <th>context_1</th>\n",
       "      <th>context_2</th>\n",
       "      <th>answer</th>\n",
       "      <th>chosen_context</th>\n",
       "      <th>...</th>\n",
       "      <th>Unnamed: 201</th>\n",
       "      <th>Unnamed: 202</th>\n",
       "      <th>Unnamed: 203</th>\n",
       "      <th>Unnamed: 204</th>\n",
       "      <th>Unnamed: 205</th>\n",
       "      <th>Unnamed: 206</th>\n",
       "      <th>Unnamed: 207</th>\n",
       "      <th>Unnamed: 208</th>\n",
       "      <th>Unnamed: 209</th>\n",
       "      <th>Unnamed: 210</th>\n",
       "    </tr>\n",
       "  </thead>\n",
       "  <tbody>\n",
       "    <tr>\n",
       "      <th>0</th>\n",
       "      <td>1</td>\n",
       "      <td>1083550.0</td>\n",
       "      <td>3613.0</td>\n",
       "      <td>True</td>\n",
       "      <td>1</td>\n",
       "      <td>verschrikkelijk</td>\n",
       "      <td>Ik vind het &lt;b&gt;verschrikkelijk&lt;/b&gt; om voor een...</td>\n",
       "      <td>Het was een &lt;b&gt;verschrikkelijke&lt;/b&gt; dag.</td>\n",
       "      <td>terrible</td>\n",
       "      <td>awful</td>\n",
       "      <td>...</td>\n",
       "      <td>NaN</td>\n",
       "      <td>NaN</td>\n",
       "      <td>NaN</td>\n",
       "      <td>NaN</td>\n",
       "      <td>NaN</td>\n",
       "      <td>NaN</td>\n",
       "      <td>NaN</td>\n",
       "      <td>NaN</td>\n",
       "      <td>NaN</td>\n",
       "      <td>NaN</td>\n",
       "    </tr>\n",
       "    <tr>\n",
       "      <th>1</th>\n",
       "      <td>2</td>\n",
       "      <td>1090939.0</td>\n",
       "      <td>1100.0</td>\n",
       "      <td>True</td>\n",
       "      <td>1</td>\n",
       "      <td>verschrikkelijk</td>\n",
       "      <td>Ik vind het &lt;b&gt;verschrikkelijk&lt;/b&gt; om voor een...</td>\n",
       "      <td>Het was een &lt;b&gt;verschrikkelijke&lt;/b&gt; dag.</td>\n",
       "      <td>terrible</td>\n",
       "      <td>awful</td>\n",
       "      <td>...</td>\n",
       "      <td>NaN</td>\n",
       "      <td>NaN</td>\n",
       "      <td>NaN</td>\n",
       "      <td>NaN</td>\n",
       "      <td>NaN</td>\n",
       "      <td>NaN</td>\n",
       "      <td>NaN</td>\n",
       "      <td>NaN</td>\n",
       "      <td>NaN</td>\n",
       "      <td>NaN</td>\n",
       "    </tr>\n",
       "    <tr>\n",
       "      <th>2</th>\n",
       "      <td>3</td>\n",
       "      <td>1094630.0</td>\n",
       "      <td>1409.0</td>\n",
       "      <td>True</td>\n",
       "      <td>2</td>\n",
       "      <td>zelfstandig</td>\n",
       "      <td>Het is prettig als werknemers &lt;b&gt;zelfstandig&lt;/...</td>\n",
       "      <td>Ik vond het in het begin moeilijk om &lt;b&gt;zelfst...</td>\n",
       "      <td>independent</td>\n",
       "      <td>independently</td>\n",
       "      <td>...</td>\n",
       "      <td>NaN</td>\n",
       "      <td>NaN</td>\n",
       "      <td>NaN</td>\n",
       "      <td>NaN</td>\n",
       "      <td>NaN</td>\n",
       "      <td>NaN</td>\n",
       "      <td>NaN</td>\n",
       "      <td>NaN</td>\n",
       "      <td>NaN</td>\n",
       "      <td>NaN</td>\n",
       "    </tr>\n",
       "    <tr>\n",
       "      <th>3</th>\n",
       "      <td>4</td>\n",
       "      <td>1098925.0</td>\n",
       "      <td>3561.0</td>\n",
       "      <td>True</td>\n",
       "      <td>3</td>\n",
       "      <td>gewoonte</td>\n",
       "      <td>Ik heb de slechte &lt;b&gt;gewoonte&lt;/b&gt; om te laat t...</td>\n",
       "      <td>Het is een goede &lt;b&gt;gewoonte&lt;/b&gt; om je handen ...</td>\n",
       "      <td>habit</td>\n",
       "      <td>Ik heb de slechte &lt;b&gt;gewoonte&lt;/b&gt; om te laat t...</td>\n",
       "      <td>...</td>\n",
       "      <td>NaN</td>\n",
       "      <td>NaN</td>\n",
       "      <td>NaN</td>\n",
       "      <td>NaN</td>\n",
       "      <td>NaN</td>\n",
       "      <td>NaN</td>\n",
       "      <td>NaN</td>\n",
       "      <td>NaN</td>\n",
       "      <td>NaN</td>\n",
       "      <td>NaN</td>\n",
       "    </tr>\n",
       "    <tr>\n",
       "      <th>4</th>\n",
       "      <td>5</td>\n",
       "      <td>1105388.0</td>\n",
       "      <td>946.0</td>\n",
       "      <td>True</td>\n",
       "      <td>2</td>\n",
       "      <td>zelfstandig</td>\n",
       "      <td>Het is prettig als werknemers &lt;b&gt;zelfstandig&lt;/...</td>\n",
       "      <td>Ik vond het in het begin moeilijk om &lt;b&gt;zelfst...</td>\n",
       "      <td>independent</td>\n",
       "      <td>independently</td>\n",
       "      <td>...</td>\n",
       "      <td>NaN</td>\n",
       "      <td>NaN</td>\n",
       "      <td>NaN</td>\n",
       "      <td>NaN</td>\n",
       "      <td>NaN</td>\n",
       "      <td>NaN</td>\n",
       "      <td>NaN</td>\n",
       "      <td>NaN</td>\n",
       "      <td>NaN</td>\n",
       "      <td>NaN</td>\n",
       "    </tr>\n",
       "  </tbody>\n",
       "</table>\n",
       "<p>5 rows × 211 columns</p>\n",
       "</div>"
      ],
      "text/plain": [
       "   trial  start_time      rt  correct  fact_id         question  \\\n",
       "0      1   1083550.0  3613.0     True        1  verschrikkelijk   \n",
       "1      2   1090939.0  1100.0     True        1  verschrikkelijk   \n",
       "2      3   1094630.0  1409.0     True        2      zelfstandig   \n",
       "3      4   1098925.0  3561.0     True        3         gewoonte   \n",
       "4      5   1105388.0   946.0     True        2      zelfstandig   \n",
       "\n",
       "                                           context_1  \\\n",
       "0  Ik vind het <b>verschrikkelijk</b> om voor een...   \n",
       "1  Ik vind het <b>verschrikkelijk</b> om voor een...   \n",
       "2  Het is prettig als werknemers <b>zelfstandig</...   \n",
       "3  Ik heb de slechte <b>gewoonte</b> om te laat t...   \n",
       "4  Het is prettig als werknemers <b>zelfstandig</...   \n",
       "\n",
       "                                           context_2       answer  \\\n",
       "0           Het was een <b>verschrikkelijke</b> dag.     terrible   \n",
       "1           Het was een <b>verschrikkelijke</b> dag.     terrible   \n",
       "2  Ik vond het in het begin moeilijk om <b>zelfst...  independent   \n",
       "3  Het is een goede <b>gewoonte</b> om je handen ...        habit   \n",
       "4  Ik vond het in het begin moeilijk om <b>zelfst...  independent   \n",
       "\n",
       "                                      chosen_context  ... Unnamed: 201  \\\n",
       "0                                              awful  ...          NaN   \n",
       "1                                              awful  ...          NaN   \n",
       "2                                      independently  ...          NaN   \n",
       "3  Ik heb de slechte <b>gewoonte</b> om te laat t...  ...          NaN   \n",
       "4                                      independently  ...          NaN   \n",
       "\n",
       "  Unnamed: 202 Unnamed: 203 Unnamed: 204  Unnamed: 205  Unnamed: 206  \\\n",
       "0          NaN          NaN          NaN           NaN           NaN   \n",
       "1          NaN          NaN          NaN           NaN           NaN   \n",
       "2          NaN          NaN          NaN           NaN           NaN   \n",
       "3          NaN          NaN          NaN           NaN           NaN   \n",
       "4          NaN          NaN          NaN           NaN           NaN   \n",
       "\n",
       "   Unnamed: 207  Unnamed: 208  Unnamed: 209  Unnamed: 210  \n",
       "0           NaN           NaN           NaN           NaN  \n",
       "1           NaN           NaN           NaN           NaN  \n",
       "2           NaN           NaN           NaN           NaN  \n",
       "3           NaN           NaN           NaN           NaN  \n",
       "4           NaN           NaN           NaN           NaN  \n",
       "\n",
       "[5 rows x 211 columns]"
      ]
     },
     "execution_count": 296,
     "metadata": {},
     "output_type": "execute_result"
    }
   ],
   "source": [
    "p1.head()"
   ]
  },
  {
   "cell_type": "code",
   "execution_count": 297,
   "metadata": {},
   "outputs": [
    {
     "data": {
      "text/plain": [
       "2580.268965517241"
      ]
     },
     "execution_count": 297,
     "metadata": {},
     "output_type": "execute_result"
    }
   ],
   "source": [
    "# Avergae RT\n",
    "np.mean([x for x in p1[\"rt\"].values if x!=np.Inf and x<30000])"
   ]
  },
  {
   "cell_type": "code",
   "execution_count": 298,
   "metadata": {},
   "outputs": [
    {
     "data": {
      "text/plain": [
       "2288.9053648058193"
      ]
     },
     "execution_count": 298,
     "metadata": {},
     "output_type": "execute_result"
    }
   ],
   "source": [
    "np.std([x for x in p1[\"rt\"].values if x!=np.Inf and x<30000])"
   ]
  },
  {
   "cell_type": "code",
   "execution_count": 299,
   "metadata": {},
   "outputs": [
    {
     "data": {
      "text/plain": [
       "True     140\n",
       "False     10\n",
       "Name: correct, dtype: int64"
      ]
     },
     "execution_count": 299,
     "metadata": {},
     "output_type": "execute_result"
    }
   ],
   "source": [
    "# No of correct/wrong in encounter 1\n",
    "p1[\"correct\"].value_counts()"
   ]
  },
  {
   "cell_type": "code",
   "execution_count": 300,
   "metadata": {},
   "outputs": [
    {
     "data": {
      "text/plain": [
       "FALSE                                                                              71\n",
       "TRUE                                                                               23\n",
       "horrible                                                                           13\n",
       "Nieuwe munten <b>blinken</b> nog.                                                   3\n",
       "blinken                                                                             3\n",
       "scheren                                                                             3\n",
       "Ik moet iedere morgen opnieuw de stoppels van mijn gezicht <b>scheren</b>.          2\n",
       "Kinderen zitten vol <b>verwondering</b>.                                            2\n",
       "begroeten                                                                           2\n",
       "overdrijven                                                                         2\n",
       "beschrijven                                                                         2\n",
       "Ik heb het haar <b>vergeven</b>,maar ik vergeet het niet.                           2\n",
       "Sommige mensen vinden het leuk om te <b>overdrijven</b>,ik vind het verwarrend.     2\n",
       "Wij <b>begroeten</b> elkaar altijd als we thuis komen.                              2\n",
       "Het is lastig om de smaak van een gerecht te <b>beschrijven</b>.                    2\n",
       "Tijdens de pandemie hadden veel studenten last van <b>eenzaamheid</b>.              2\n",
       "eenzaamheid                                                                         2\n",
       "SNIC is een <b>bijeenkomst</b> met studenten van verschillende opleidingen.         2\n",
       "Het is prettig als werknemers <b>zelfstandig</b> kunnen werken.                     2\n",
       "verwondering                                                                        2\n",
       "bijeenkomst                                                                         2\n",
       "zelfstandig                                                                         2\n",
       "vergeven                                                                            2\n",
       "Name: encounter_2, dtype: int64"
      ]
     },
     "execution_count": 300,
     "metadata": {},
     "output_type": "execute_result"
    }
   ],
   "source": [
    "# No of correct/wrong in encounter 2\n",
    "p1[\"encounter_2\"].value_counts()"
   ]
  },
  {
   "cell_type": "code",
   "execution_count": 301,
   "metadata": {},
   "outputs": [
    {
     "data": {
      "text/plain": [
       "150"
      ]
     },
     "execution_count": 301,
     "metadata": {},
     "output_type": "execute_result"
    }
   ],
   "source": [
    "len(p1)"
   ]
  },
  {
   "cell_type": "code",
   "execution_count": 302,
   "metadata": {},
   "outputs": [
    {
     "data": {
      "text/plain": [
       "0"
      ]
     },
     "execution_count": 302,
     "metadata": {},
     "output_type": "execute_result"
    }
   ],
   "source": [
    "# No of wrong in both encounter 1 and 2\n",
    "len(p1[(p1.encounter_2 ==False) & (p1.correct == False)])"
   ]
  },
  {
   "cell_type": "code",
   "execution_count": 303,
   "metadata": {},
   "outputs": [
    {
     "data": {
      "text/plain": [
       "0"
      ]
     },
     "execution_count": 303,
     "metadata": {},
     "output_type": "execute_result"
    }
   ],
   "source": [
    "# No of correct in both encounter 1 and 2\n",
    "len(p1[(p1.encounter_2 ==True) & (p1.correct == True)])"
   ]
  },
  {
   "cell_type": "code",
   "execution_count": 304,
   "metadata": {},
   "outputs": [
    {
     "ename": "UFuncTypeError",
     "evalue": "ufunc 'add' did not contain a loop with signature matching types (dtype('<U64'), dtype('<U64')) -> None",
     "output_type": "error",
     "traceback": [
      "\u001b[0;31m---------------------------------------------------------------------------\u001b[0m",
      "\u001b[0;31mUFuncTypeError\u001b[0m                            Traceback (most recent call last)",
      "Cell \u001b[0;32mIn [304], line 2\u001b[0m\n\u001b[1;32m      1\u001b[0m \u001b[39m# Avergae forgetting rate\u001b[39;00m\n\u001b[0;32m----> 2\u001b[0m np\u001b[39m.\u001b[39;49maverage([x \u001b[39mfor\u001b[39;49;00m x \u001b[39min\u001b[39;49;00m p1[\u001b[39m\"\u001b[39;49m\u001b[39mfogetting_rate\u001b[39;49m\u001b[39m\"\u001b[39;49m]\u001b[39m.\u001b[39;49mvalues \u001b[39mif\u001b[39;49;00m x\u001b[39m!=\u001b[39;49mnp\u001b[39m.\u001b[39;49mInf])\n",
      "File \u001b[0;32m<__array_function__ internals>:180\u001b[0m, in \u001b[0;36maverage\u001b[0;34m(*args, **kwargs)\u001b[0m\n",
      "File \u001b[0;32m/opt/homebrew/lib/python3.10/site-packages/numpy/lib/function_base.py:518\u001b[0m, in \u001b[0;36maverage\u001b[0;34m(a, axis, weights, returned, keepdims)\u001b[0m\n\u001b[1;32m    515\u001b[0m     keepdims_kw \u001b[39m=\u001b[39m {\u001b[39m'\u001b[39m\u001b[39mkeepdims\u001b[39m\u001b[39m'\u001b[39m: keepdims}\n\u001b[1;32m    517\u001b[0m \u001b[39mif\u001b[39;00m weights \u001b[39mis\u001b[39;00m \u001b[39mNone\u001b[39;00m:\n\u001b[0;32m--> 518\u001b[0m     avg \u001b[39m=\u001b[39m a\u001b[39m.\u001b[39;49mmean(axis, \u001b[39m*\u001b[39;49m\u001b[39m*\u001b[39;49mkeepdims_kw)\n\u001b[1;32m    519\u001b[0m     scl \u001b[39m=\u001b[39m avg\u001b[39m.\u001b[39mdtype\u001b[39m.\u001b[39mtype(a\u001b[39m.\u001b[39msize\u001b[39m/\u001b[39mavg\u001b[39m.\u001b[39msize)\n\u001b[1;32m    520\u001b[0m \u001b[39melse\u001b[39;00m:\n",
      "File \u001b[0;32m/opt/homebrew/lib/python3.10/site-packages/numpy/core/_methods.py:180\u001b[0m, in \u001b[0;36m_mean\u001b[0;34m(a, axis, dtype, out, keepdims, where)\u001b[0m\n\u001b[1;32m    177\u001b[0m         dtype \u001b[39m=\u001b[39m mu\u001b[39m.\u001b[39mdtype(\u001b[39m'\u001b[39m\u001b[39mf4\u001b[39m\u001b[39m'\u001b[39m)\n\u001b[1;32m    178\u001b[0m         is_float16_result \u001b[39m=\u001b[39m \u001b[39mTrue\u001b[39;00m\n\u001b[0;32m--> 180\u001b[0m ret \u001b[39m=\u001b[39m umr_sum(arr, axis, dtype, out, keepdims, where\u001b[39m=\u001b[39;49mwhere)\n\u001b[1;32m    181\u001b[0m \u001b[39mif\u001b[39;00m \u001b[39misinstance\u001b[39m(ret, mu\u001b[39m.\u001b[39mndarray):\n\u001b[1;32m    182\u001b[0m     ret \u001b[39m=\u001b[39m um\u001b[39m.\u001b[39mtrue_divide(\n\u001b[1;32m    183\u001b[0m             ret, rcount, out\u001b[39m=\u001b[39mret, casting\u001b[39m=\u001b[39m\u001b[39m'\u001b[39m\u001b[39munsafe\u001b[39m\u001b[39m'\u001b[39m, subok\u001b[39m=\u001b[39m\u001b[39mFalse\u001b[39;00m)\n",
      "\u001b[0;31mUFuncTypeError\u001b[0m: ufunc 'add' did not contain a loop with signature matching types (dtype('<U64'), dtype('<U64')) -> None"
     ]
    }
   ],
   "source": [
    "# Avergae forgetting rate\n",
    "np.average([x for x in p1[\"fogetting_rate\"].values if x!=np.Inf])"
   ]
  },
  {
   "cell_type": "markdown",
   "metadata": {},
   "source": [
    "## Part 2"
   ]
  },
  {
   "cell_type": "code",
   "execution_count": 305,
   "metadata": {},
   "outputs": [
    {
     "data": {
      "text/html": [
       "<div>\n",
       "<style scoped>\n",
       "    .dataframe tbody tr th:only-of-type {\n",
       "        vertical-align: middle;\n",
       "    }\n",
       "\n",
       "    .dataframe tbody tr th {\n",
       "        vertical-align: top;\n",
       "    }\n",
       "\n",
       "    .dataframe thead th {\n",
       "        text-align: right;\n",
       "    }\n",
       "</style>\n",
       "<table border=\"1\" class=\"dataframe\">\n",
       "  <thead>\n",
       "    <tr style=\"text-align: right;\">\n",
       "      <th></th>\n",
       "      <th>trial</th>\n",
       "      <th>start_time</th>\n",
       "      <th>rt</th>\n",
       "      <th>correct</th>\n",
       "      <th>fact_id</th>\n",
       "      <th>question</th>\n",
       "      <th>context_1</th>\n",
       "      <th>context_ 0</th>\n",
       "      <th>2</th>\n",
       "      <th>answer</th>\n",
       "      <th>...</th>\n",
       "      <th>Unnamed: 201</th>\n",
       "      <th>Unnamed: 202</th>\n",
       "      <th>Unnamed: 203</th>\n",
       "      <th>Unnamed: 204</th>\n",
       "      <th>Unnamed: 205</th>\n",
       "      <th>Unnamed: 206</th>\n",
       "      <th>Unnamed: 207</th>\n",
       "      <th>Unnamed: 208</th>\n",
       "      <th>Unnamed: 209</th>\n",
       "      <th>Unnamed: 210</th>\n",
       "    </tr>\n",
       "  </thead>\n",
       "  <tbody>\n",
       "    <tr>\n",
       "      <th>0</th>\n",
       "      <td>1</td>\n",
       "      <td>116523.0</td>\n",
       "      <td>2650.0</td>\n",
       "      <td>True</td>\n",
       "      <td>1</td>\n",
       "      <td>vergeten</td>\n",
       "      <td>Ben je nou alweer je sleutel &lt;b&gt;vergeten&lt;/b&gt;?</td>\n",
       "      <td>Sorry,we waren &lt;b&gt;vergeten&lt;/b&gt; de wiki aan te ...</td>\n",
       "      <td>forget</td>\n",
       "      <td>to forget</td>\n",
       "      <td>...</td>\n",
       "      <td>NaN</td>\n",
       "      <td>NaN</td>\n",
       "      <td>NaN</td>\n",
       "      <td>NaN</td>\n",
       "      <td>NaN</td>\n",
       "      <td>NaN</td>\n",
       "      <td>NaN</td>\n",
       "      <td>NaN</td>\n",
       "      <td>NaN</td>\n",
       "      <td>NaN</td>\n",
       "    </tr>\n",
       "    <tr>\n",
       "      <th>1</th>\n",
       "      <td>2</td>\n",
       "      <td>121704.0</td>\n",
       "      <td>1167.0</td>\n",
       "      <td>True</td>\n",
       "      <td>1</td>\n",
       "      <td>vergeten</td>\n",
       "      <td>Ben je nou alweer je sleutel &lt;b&gt;vergeten&lt;/b&gt;?</td>\n",
       "      <td>Sorry,we waren &lt;b&gt;vergeten&lt;/b&gt; de wiki aan te ...</td>\n",
       "      <td>forget</td>\n",
       "      <td>to forget</td>\n",
       "      <td>...</td>\n",
       "      <td>NaN</td>\n",
       "      <td>NaN</td>\n",
       "      <td>NaN</td>\n",
       "      <td>NaN</td>\n",
       "      <td>NaN</td>\n",
       "      <td>NaN</td>\n",
       "      <td>NaN</td>\n",
       "      <td>NaN</td>\n",
       "      <td>NaN</td>\n",
       "      <td>NaN</td>\n",
       "    </tr>\n",
       "    <tr>\n",
       "      <th>2</th>\n",
       "      <td>3</td>\n",
       "      <td>125172.0</td>\n",
       "      <td>6240.0</td>\n",
       "      <td>False</td>\n",
       "      <td>2</td>\n",
       "      <td>onderdeel</td>\n",
       "      <td>Ik mis een &lt;b&gt;onderdeel&lt;/b&gt; van mijn IKEA kast.</td>\n",
       "      <td>Deze opleiding is een &lt;b&gt;onderdeel&lt;/b&gt; van de ...</td>\n",
       "      <td>part</td>\n",
       "      <td>part of</td>\n",
       "      <td>...</td>\n",
       "      <td>NaN</td>\n",
       "      <td>NaN</td>\n",
       "      <td>NaN</td>\n",
       "      <td>NaN</td>\n",
       "      <td>NaN</td>\n",
       "      <td>NaN</td>\n",
       "      <td>NaN</td>\n",
       "      <td>NaN</td>\n",
       "      <td>NaN</td>\n",
       "      <td>NaN</td>\n",
       "    </tr>\n",
       "    <tr>\n",
       "      <th>3</th>\n",
       "      <td>4</td>\n",
       "      <td>133536.0</td>\n",
       "      <td>1239.0</td>\n",
       "      <td>False</td>\n",
       "      <td>3</td>\n",
       "      <td>kerel</td>\n",
       "      <td>Ik ben een gezonde &lt;b&gt;kerel&lt;/b&gt;.</td>\n",
       "      <td>Die &lt;b&gt;kerel&lt;/b&gt; blokkeert steeds mijn zicht.</td>\n",
       "      <td>guy</td>\n",
       "      <td>dude</td>\n",
       "      <td>...</td>\n",
       "      <td>NaN</td>\n",
       "      <td>NaN</td>\n",
       "      <td>NaN</td>\n",
       "      <td>NaN</td>\n",
       "      <td>NaN</td>\n",
       "      <td>NaN</td>\n",
       "      <td>NaN</td>\n",
       "      <td>NaN</td>\n",
       "      <td>NaN</td>\n",
       "      <td>NaN</td>\n",
       "    </tr>\n",
       "    <tr>\n",
       "      <th>4</th>\n",
       "      <td>5</td>\n",
       "      <td>136834.0</td>\n",
       "      <td>1201.0</td>\n",
       "      <td>True</td>\n",
       "      <td>2</td>\n",
       "      <td>onderdeel</td>\n",
       "      <td>Ik mis een &lt;b&gt;onderdeel&lt;/b&gt; van mijn IKEA kast.</td>\n",
       "      <td>Deze opleiding is een &lt;b&gt;onderdeel&lt;/b&gt; van de ...</td>\n",
       "      <td>part</td>\n",
       "      <td>part of</td>\n",
       "      <td>...</td>\n",
       "      <td>NaN</td>\n",
       "      <td>NaN</td>\n",
       "      <td>NaN</td>\n",
       "      <td>NaN</td>\n",
       "      <td>NaN</td>\n",
       "      <td>NaN</td>\n",
       "      <td>NaN</td>\n",
       "      <td>NaN</td>\n",
       "      <td>NaN</td>\n",
       "      <td>NaN</td>\n",
       "    </tr>\n",
       "  </tbody>\n",
       "</table>\n",
       "<p>5 rows × 211 columns</p>\n",
       "</div>"
      ],
      "text/plain": [
       "   trial  start_time      rt  correct  fact_id   question  \\\n",
       "0      1    116523.0  2650.0     True        1   vergeten   \n",
       "1      2    121704.0  1167.0     True        1   vergeten   \n",
       "2      3    125172.0  6240.0    False        2  onderdeel   \n",
       "3      4    133536.0  1239.0    False        3      kerel   \n",
       "4      5    136834.0  1201.0     True        2  onderdeel   \n",
       "\n",
       "                                         context_1  \\\n",
       "0    Ben je nou alweer je sleutel <b>vergeten</b>?   \n",
       "1    Ben je nou alweer je sleutel <b>vergeten</b>?   \n",
       "2  Ik mis een <b>onderdeel</b> van mijn IKEA kast.   \n",
       "3                 Ik ben een gezonde <b>kerel</b>.   \n",
       "4  Ik mis een <b>onderdeel</b> van mijn IKEA kast.   \n",
       "\n",
       "                                          context_ 0       2     answer  ...  \\\n",
       "0  Sorry,we waren <b>vergeten</b> de wiki aan te ...  forget  to forget  ...   \n",
       "1  Sorry,we waren <b>vergeten</b> de wiki aan te ...  forget  to forget  ...   \n",
       "2  Deze opleiding is een <b>onderdeel</b> van de ...    part    part of  ...   \n",
       "3      Die <b>kerel</b> blokkeert steeds mijn zicht.     guy       dude  ...   \n",
       "4  Deze opleiding is een <b>onderdeel</b> van de ...    part    part of  ...   \n",
       "\n",
       "  Unnamed: 201 Unnamed: 202 Unnamed: 203  Unnamed: 204  Unnamed: 205  \\\n",
       "0          NaN          NaN          NaN           NaN           NaN   \n",
       "1          NaN          NaN          NaN           NaN           NaN   \n",
       "2          NaN          NaN          NaN           NaN           NaN   \n",
       "3          NaN          NaN          NaN           NaN           NaN   \n",
       "4          NaN          NaN          NaN           NaN           NaN   \n",
       "\n",
       "   Unnamed: 206  Unnamed: 207  Unnamed: 208  Unnamed: 209  Unnamed: 210  \n",
       "0           NaN           NaN           NaN           NaN           NaN  \n",
       "1           NaN           NaN           NaN           NaN           NaN  \n",
       "2           NaN           NaN           NaN           NaN           NaN  \n",
       "3           NaN           NaN           NaN           NaN           NaN  \n",
       "4           NaN           NaN           NaN           NaN           NaN  \n",
       "\n",
       "[5 rows x 211 columns]"
      ]
     },
     "execution_count": 305,
     "metadata": {},
     "output_type": "execute_result"
    }
   ],
   "source": [
    "p2.head()"
   ]
  },
  {
   "cell_type": "code",
   "execution_count": 306,
   "metadata": {},
   "outputs": [
    {
     "data": {
      "text/plain": [
       "7807.165413533835"
      ]
     },
     "execution_count": 306,
     "metadata": {},
     "output_type": "execute_result"
    }
   ],
   "source": [
    "# Avergae RT\n",
    "np.average([x for x in p2[\"rt\"].values if x!=np.Inf])"
   ]
  },
  {
   "cell_type": "code",
   "execution_count": 307,
   "metadata": {},
   "outputs": [
    {
     "data": {
      "text/plain": [
       "nan"
      ]
     },
     "execution_count": 307,
     "metadata": {},
     "output_type": "execute_result"
    }
   ],
   "source": [
    "# Avergae forgetting rate\n",
    "np.average([x for x in p2[\"fogetting_rate\"].values if x!=np.Inf])"
   ]
  },
  {
   "cell_type": "code",
   "execution_count": 308,
   "metadata": {},
   "outputs": [
    {
     "data": {
      "text/plain": [
       "2353.1068702290077"
      ]
     },
     "execution_count": 308,
     "metadata": {},
     "output_type": "execute_result"
    }
   ],
   "source": [
    "# Avergae RT\n",
    "np.mean([x for x in p2[\"rt\"].values if x!=np.Inf and x<30000])"
   ]
  },
  {
   "cell_type": "code",
   "execution_count": 309,
   "metadata": {},
   "outputs": [
    {
     "name": "stderr",
     "output_type": "stream",
     "text": [
      "/opt/homebrew/lib/python3.10/site-packages/numpy/core/_methods.py:233: RuntimeWarning: invalid value encountered in subtract\n",
      "  x = asanyarray(arr - arrmean)\n"
     ]
    },
    {
     "data": {
      "text/plain": [
       "nan"
      ]
     },
     "execution_count": 309,
     "metadata": {},
     "output_type": "execute_result"
    }
   ],
   "source": [
    "np.std(p2[\"rt\"].values)"
   ]
  },
  {
   "cell_type": "code",
   "execution_count": 310,
   "metadata": {},
   "outputs": [
    {
     "data": {
      "text/plain": [
       "2510.1586679325824"
      ]
     },
     "execution_count": 310,
     "metadata": {},
     "output_type": "execute_result"
    }
   ],
   "source": [
    "np.std([x for x in p2[\"rt\"].values if x!=np.Inf and x<30000])"
   ]
  },
  {
   "cell_type": "code",
   "execution_count": 311,
   "metadata": {},
   "outputs": [
    {
     "data": {
      "text/plain": [
       "True     123\n",
       "False     27\n",
       "Name: correct, dtype: int64"
      ]
     },
     "execution_count": 311,
     "metadata": {},
     "output_type": "execute_result"
    }
   ],
   "source": [
    "# No of correct/wrong in encounter 1\n",
    "p2[\"correct\"].value_counts()"
   ]
  },
  {
   "cell_type": "code",
   "execution_count": 312,
   "metadata": {},
   "outputs": [
    {
     "data": {
      "text/plain": [
       "FALSE          87\n",
       "betreffen      13\n",
       "563.6          10\n",
       "661.1           7\n",
       "vergeten        5\n",
       "895.1           5\n",
       "700.1           5\n",
       "1148.6          5\n",
       "waarschuwen     5\n",
       "797.6           4\n",
       "524.6           4\n",
       "Name: encounter_2, dtype: int64"
      ]
     },
     "execution_count": 312,
     "metadata": {},
     "output_type": "execute_result"
    }
   ],
   "source": [
    "# No of correct/wrong in encounter 2\n",
    "p2[\"encounter_2\"].value_counts()"
   ]
  },
  {
   "cell_type": "code",
   "execution_count": 313,
   "metadata": {},
   "outputs": [
    {
     "data": {
      "text/plain": [
       "150"
      ]
     },
     "execution_count": 313,
     "metadata": {},
     "output_type": "execute_result"
    }
   ],
   "source": [
    "len(p2)"
   ]
  },
  {
   "cell_type": "code",
   "execution_count": 314,
   "metadata": {},
   "outputs": [
    {
     "data": {
      "text/plain": [
       "0"
      ]
     },
     "execution_count": 314,
     "metadata": {},
     "output_type": "execute_result"
    }
   ],
   "source": [
    "# No of wrong in both encounter 1 and 2\n",
    "len(p2[(p2.encounter_2 ==False) & (p2.correct == False)])"
   ]
  },
  {
   "cell_type": "code",
   "execution_count": 315,
   "metadata": {},
   "outputs": [
    {
     "data": {
      "text/plain": [
       "0"
      ]
     },
     "execution_count": 315,
     "metadata": {},
     "output_type": "execute_result"
    }
   ],
   "source": [
    "# No of correct in both encounter 1 and 2\n",
    "len(p2[(p2.encounter_2 ==True) & (p2.correct == True)])"
   ]
  },
  {
   "cell_type": "markdown",
   "metadata": {},
   "source": [
    "## Final test"
   ]
  },
  {
   "cell_type": "code",
   "execution_count": 316,
   "metadata": {},
   "outputs": [
    {
     "data": {
      "text/html": [
       "<div>\n",
       "<style scoped>\n",
       "    .dataframe tbody tr th:only-of-type {\n",
       "        vertical-align: middle;\n",
       "    }\n",
       "\n",
       "    .dataframe tbody tr th {\n",
       "        vertical-align: top;\n",
       "    }\n",
       "\n",
       "    .dataframe thead th {\n",
       "        text-align: right;\n",
       "    }\n",
       "</style>\n",
       "<table border=\"1\" class=\"dataframe\">\n",
       "  <thead>\n",
       "    <tr style=\"text-align: right;\">\n",
       "      <th></th>\n",
       "      <th>trial</th>\n",
       "      <th>fact</th>\n",
       "      <th>start_time</th>\n",
       "      <th>rt</th>\n",
       "      <th>correct</th>\n",
       "      <th>fact_id</th>\n",
       "      <th>question</th>\n",
       "      <th>answer</th>\n",
       "      <th>Unnamed: 8</th>\n",
       "      <th>Unnamed: 9</th>\n",
       "      <th>...</th>\n",
       "      <th>Unnamed: 201</th>\n",
       "      <th>Unnamed: 202</th>\n",
       "      <th>Unnamed: 203</th>\n",
       "      <th>Unnamed: 204</th>\n",
       "      <th>Unnamed: 205</th>\n",
       "      <th>Unnamed: 206</th>\n",
       "      <th>Unnamed: 207</th>\n",
       "      <th>Unnamed: 208</th>\n",
       "      <th>Unnamed: 209</th>\n",
       "      <th>Unnamed: 210</th>\n",
       "    </tr>\n",
       "  </thead>\n",
       "  <tbody>\n",
       "    <tr>\n",
       "      <th>0</th>\n",
       "      <td>1</td>\n",
       "      <td>Word(fact_id=1, question='alternatief', answer...</td>\n",
       "      <td>980571.0</td>\n",
       "      <td>1006.0</td>\n",
       "      <td>True</td>\n",
       "      <td>1</td>\n",
       "      <td>alternatief</td>\n",
       "      <td>['alternative']</td>\n",
       "      <td>NaN</td>\n",
       "      <td>NaN</td>\n",
       "      <td>...</td>\n",
       "      <td>NaN</td>\n",
       "      <td>NaN</td>\n",
       "      <td>NaN</td>\n",
       "      <td>NaN</td>\n",
       "      <td>NaN</td>\n",
       "      <td>NaN</td>\n",
       "      <td>NaN</td>\n",
       "      <td>NaN</td>\n",
       "      <td>NaN</td>\n",
       "      <td>NaN</td>\n",
       "    </tr>\n",
       "    <tr>\n",
       "      <th>1</th>\n",
       "      <td>2</td>\n",
       "      <td>Word(fact_id=2, question='voldoende', answer=[...</td>\n",
       "      <td>984638.0</td>\n",
       "      <td>3352.0</td>\n",
       "      <td>True</td>\n",
       "      <td>2</td>\n",
       "      <td>voldoende</td>\n",
       "      <td>['sufficient', 'enough']</td>\n",
       "      <td>NaN</td>\n",
       "      <td>NaN</td>\n",
       "      <td>...</td>\n",
       "      <td>NaN</td>\n",
       "      <td>NaN</td>\n",
       "      <td>NaN</td>\n",
       "      <td>NaN</td>\n",
       "      <td>NaN</td>\n",
       "      <td>NaN</td>\n",
       "      <td>NaN</td>\n",
       "      <td>NaN</td>\n",
       "      <td>NaN</td>\n",
       "      <td>NaN</td>\n",
       "    </tr>\n",
       "    <tr>\n",
       "      <th>2</th>\n",
       "      <td>3</td>\n",
       "      <td>Word(fact_id=3, question='bewaren', answer=['k...</td>\n",
       "      <td>991068.0</td>\n",
       "      <td>985.0</td>\n",
       "      <td>True</td>\n",
       "      <td>3</td>\n",
       "      <td>bewaren</td>\n",
       "      <td>['keep', 'to keep']</td>\n",
       "      <td>NaN</td>\n",
       "      <td>NaN</td>\n",
       "      <td>...</td>\n",
       "      <td>NaN</td>\n",
       "      <td>NaN</td>\n",
       "      <td>NaN</td>\n",
       "      <td>NaN</td>\n",
       "      <td>NaN</td>\n",
       "      <td>NaN</td>\n",
       "      <td>NaN</td>\n",
       "      <td>NaN</td>\n",
       "      <td>NaN</td>\n",
       "      <td>NaN</td>\n",
       "    </tr>\n",
       "    <tr>\n",
       "      <th>3</th>\n",
       "      <td>4</td>\n",
       "      <td>Word(fact_id=4, question='algemeen', answer=['...</td>\n",
       "      <td>994090.0</td>\n",
       "      <td>916.0</td>\n",
       "      <td>True</td>\n",
       "      <td>4</td>\n",
       "      <td>algemeen</td>\n",
       "      <td>['general']</td>\n",
       "      <td>NaN</td>\n",
       "      <td>NaN</td>\n",
       "      <td>...</td>\n",
       "      <td>NaN</td>\n",
       "      <td>NaN</td>\n",
       "      <td>NaN</td>\n",
       "      <td>NaN</td>\n",
       "      <td>NaN</td>\n",
       "      <td>NaN</td>\n",
       "      <td>NaN</td>\n",
       "      <td>NaN</td>\n",
       "      <td>NaN</td>\n",
       "      <td>NaN</td>\n",
       "    </tr>\n",
       "    <tr>\n",
       "      <th>4</th>\n",
       "      <td>5</td>\n",
       "      <td>Word(fact_id=5, question='matig', answer=['med...</td>\n",
       "      <td>997779.0</td>\n",
       "      <td>969.0</td>\n",
       "      <td>True</td>\n",
       "      <td>5</td>\n",
       "      <td>matig</td>\n",
       "      <td>['mediocre']</td>\n",
       "      <td>NaN</td>\n",
       "      <td>NaN</td>\n",
       "      <td>...</td>\n",
       "      <td>NaN</td>\n",
       "      <td>NaN</td>\n",
       "      <td>NaN</td>\n",
       "      <td>NaN</td>\n",
       "      <td>NaN</td>\n",
       "      <td>NaN</td>\n",
       "      <td>NaN</td>\n",
       "      <td>NaN</td>\n",
       "      <td>NaN</td>\n",
       "      <td>NaN</td>\n",
       "    </tr>\n",
       "  </tbody>\n",
       "</table>\n",
       "<p>5 rows × 211 columns</p>\n",
       "</div>"
      ],
      "text/plain": [
       "   trial                                               fact  start_time  \\\n",
       "0      1  Word(fact_id=1, question='alternatief', answer...    980571.0   \n",
       "1      2  Word(fact_id=2, question='voldoende', answer=[...    984638.0   \n",
       "2      3  Word(fact_id=3, question='bewaren', answer=['k...    991068.0   \n",
       "3      4  Word(fact_id=4, question='algemeen', answer=['...    994090.0   \n",
       "4      5  Word(fact_id=5, question='matig', answer=['med...    997779.0   \n",
       "\n",
       "       rt  correct  fact_id     question                    answer  \\\n",
       "0  1006.0     True        1  alternatief           ['alternative']   \n",
       "1  3352.0     True        2    voldoende  ['sufficient', 'enough']   \n",
       "2   985.0     True        3      bewaren       ['keep', 'to keep']   \n",
       "3   916.0     True        4     algemeen               ['general']   \n",
       "4   969.0     True        5        matig              ['mediocre']   \n",
       "\n",
       "   Unnamed: 8  Unnamed: 9  ...  Unnamed: 201  Unnamed: 202  Unnamed: 203  \\\n",
       "0         NaN         NaN  ...           NaN           NaN           NaN   \n",
       "1         NaN         NaN  ...           NaN           NaN           NaN   \n",
       "2         NaN         NaN  ...           NaN           NaN           NaN   \n",
       "3         NaN         NaN  ...           NaN           NaN           NaN   \n",
       "4         NaN         NaN  ...           NaN           NaN           NaN   \n",
       "\n",
       "   Unnamed: 204  Unnamed: 205  Unnamed: 206  Unnamed: 207  Unnamed: 208  \\\n",
       "0           NaN           NaN           NaN           NaN           NaN   \n",
       "1           NaN           NaN           NaN           NaN           NaN   \n",
       "2           NaN           NaN           NaN           NaN           NaN   \n",
       "3           NaN           NaN           NaN           NaN           NaN   \n",
       "4           NaN           NaN           NaN           NaN           NaN   \n",
       "\n",
       "   Unnamed: 209  Unnamed: 210  \n",
       "0           NaN           NaN  \n",
       "1           NaN           NaN  \n",
       "2           NaN           NaN  \n",
       "3           NaN           NaN  \n",
       "4           NaN           NaN  \n",
       "\n",
       "[5 rows x 211 columns]"
      ]
     },
     "execution_count": 316,
     "metadata": {},
     "output_type": "execute_result"
    }
   ],
   "source": [
    "tes.head()"
   ]
  },
  {
   "cell_type": "code",
   "execution_count": 317,
   "metadata": {},
   "outputs": [
    {
     "data": {
      "text/plain": [
       "49493.23809523809"
      ]
     },
     "execution_count": 317,
     "metadata": {},
     "output_type": "execute_result"
    }
   ],
   "source": [
    "# Avergae RT\n",
    "np.average([x for x in tes[\"rt\"].values if x!=np.Inf])"
   ]
  },
  {
   "cell_type": "code",
   "execution_count": 318,
   "metadata": {},
   "outputs": [
    {
     "data": {
      "text/plain": [
       "True    44\n",
       "Name: correct, dtype: int64"
      ]
     },
     "execution_count": 318,
     "metadata": {},
     "output_type": "execute_result"
    }
   ],
   "source": [
    "# No of correct/wrong in encounter 1\n",
    "tes[\"correct\"].value_counts()"
   ]
  },
  {
   "cell_type": "code",
   "execution_count": 319,
   "metadata": {},
   "outputs": [
    {
     "data": {
      "text/plain": [
       "44"
      ]
     },
     "execution_count": 319,
     "metadata": {},
     "output_type": "execute_result"
    }
   ],
   "source": [
    "len(tes)"
   ]
  },
  {
   "cell_type": "markdown",
   "metadata": {},
   "source": [
    "## Comparing Test and training/Contest"
   ]
  },
  {
   "cell_type": "code",
   "execution_count": 320,
   "metadata": {},
   "outputs": [
    {
     "name": "stderr",
     "output_type": "stream",
     "text": [
      "/var/folders/s2/psn1kzxd2_972xy94t5fr4cr0000gn/T/ipykernel_51267/3378082505.py:1: FutureWarning: The default value of numeric_only in DataFrameGroupBy.mean is deprecated. In a future version, numeric_only will default to False. Either specify numeric_only or select only columns which should be valid for the function.\n",
      "  tes_grouped = tes.groupby('fact_id').agg('mean')\n"
     ]
    },
    {
     "data": {
      "text/html": [
       "<div>\n",
       "<style scoped>\n",
       "    .dataframe tbody tr th:only-of-type {\n",
       "        vertical-align: middle;\n",
       "    }\n",
       "\n",
       "    .dataframe tbody tr th {\n",
       "        vertical-align: top;\n",
       "    }\n",
       "\n",
       "    .dataframe thead th {\n",
       "        text-align: right;\n",
       "    }\n",
       "</style>\n",
       "<table border=\"1\" class=\"dataframe\">\n",
       "  <thead>\n",
       "    <tr style=\"text-align: right;\">\n",
       "      <th></th>\n",
       "      <th>trial</th>\n",
       "      <th>start_time</th>\n",
       "      <th>rt</th>\n",
       "      <th>correct</th>\n",
       "      <th>Unnamed: 8</th>\n",
       "      <th>Unnamed: 9</th>\n",
       "      <th>Unnamed: 10</th>\n",
       "      <th>Unnamed: 11</th>\n",
       "      <th>Unnamed: 12</th>\n",
       "      <th>Unnamed: 13</th>\n",
       "      <th>...</th>\n",
       "      <th>Unnamed: 201</th>\n",
       "      <th>Unnamed: 202</th>\n",
       "      <th>Unnamed: 203</th>\n",
       "      <th>Unnamed: 204</th>\n",
       "      <th>Unnamed: 205</th>\n",
       "      <th>Unnamed: 206</th>\n",
       "      <th>Unnamed: 207</th>\n",
       "      <th>Unnamed: 208</th>\n",
       "      <th>Unnamed: 209</th>\n",
       "      <th>Unnamed: 210</th>\n",
       "    </tr>\n",
       "    <tr>\n",
       "      <th>fact_id</th>\n",
       "      <th></th>\n",
       "      <th></th>\n",
       "      <th></th>\n",
       "      <th></th>\n",
       "      <th></th>\n",
       "      <th></th>\n",
       "      <th></th>\n",
       "      <th></th>\n",
       "      <th></th>\n",
       "      <th></th>\n",
       "      <th></th>\n",
       "      <th></th>\n",
       "      <th></th>\n",
       "      <th></th>\n",
       "      <th></th>\n",
       "      <th></th>\n",
       "      <th></th>\n",
       "      <th></th>\n",
       "      <th></th>\n",
       "      <th></th>\n",
       "      <th></th>\n",
       "    </tr>\n",
       "  </thead>\n",
       "  <tbody>\n",
       "    <tr>\n",
       "      <th>1</th>\n",
       "      <td>12.0</td>\n",
       "      <td>1481926.0</td>\n",
       "      <td>1059.0</td>\n",
       "      <td>1.0</td>\n",
       "      <td>NaN</td>\n",
       "      <td>NaN</td>\n",
       "      <td>NaN</td>\n",
       "      <td>NaN</td>\n",
       "      <td>NaN</td>\n",
       "      <td>NaN</td>\n",
       "      <td>...</td>\n",
       "      <td>NaN</td>\n",
       "      <td>NaN</td>\n",
       "      <td>NaN</td>\n",
       "      <td>NaN</td>\n",
       "      <td>NaN</td>\n",
       "      <td>NaN</td>\n",
       "      <td>NaN</td>\n",
       "      <td>NaN</td>\n",
       "      <td>NaN</td>\n",
       "      <td>NaN</td>\n",
       "    </tr>\n",
       "    <tr>\n",
       "      <th>2</th>\n",
       "      <td>13.0</td>\n",
       "      <td>1487063.0</td>\n",
       "      <td>2235.0</td>\n",
       "      <td>1.0</td>\n",
       "      <td>NaN</td>\n",
       "      <td>NaN</td>\n",
       "      <td>NaN</td>\n",
       "      <td>NaN</td>\n",
       "      <td>NaN</td>\n",
       "      <td>NaN</td>\n",
       "      <td>...</td>\n",
       "      <td>NaN</td>\n",
       "      <td>NaN</td>\n",
       "      <td>NaN</td>\n",
       "      <td>NaN</td>\n",
       "      <td>NaN</td>\n",
       "      <td>NaN</td>\n",
       "      <td>NaN</td>\n",
       "      <td>NaN</td>\n",
       "      <td>NaN</td>\n",
       "      <td>NaN</td>\n",
       "    </tr>\n",
       "    <tr>\n",
       "      <th>3</th>\n",
       "      <td>14.0</td>\n",
       "      <td>1492333.5</td>\n",
       "      <td>953.0</td>\n",
       "      <td>1.0</td>\n",
       "      <td>NaN</td>\n",
       "      <td>NaN</td>\n",
       "      <td>NaN</td>\n",
       "      <td>NaN</td>\n",
       "      <td>NaN</td>\n",
       "      <td>NaN</td>\n",
       "      <td>...</td>\n",
       "      <td>NaN</td>\n",
       "      <td>NaN</td>\n",
       "      <td>NaN</td>\n",
       "      <td>NaN</td>\n",
       "      <td>NaN</td>\n",
       "      <td>NaN</td>\n",
       "      <td>NaN</td>\n",
       "      <td>NaN</td>\n",
       "      <td>NaN</td>\n",
       "      <td>NaN</td>\n",
       "    </tr>\n",
       "    <tr>\n",
       "      <th>4</th>\n",
       "      <td>15.0</td>\n",
       "      <td>1495403.0</td>\n",
       "      <td>980.0</td>\n",
       "      <td>1.0</td>\n",
       "      <td>NaN</td>\n",
       "      <td>NaN</td>\n",
       "      <td>NaN</td>\n",
       "      <td>NaN</td>\n",
       "      <td>NaN</td>\n",
       "      <td>NaN</td>\n",
       "      <td>...</td>\n",
       "      <td>NaN</td>\n",
       "      <td>NaN</td>\n",
       "      <td>NaN</td>\n",
       "      <td>NaN</td>\n",
       "      <td>NaN</td>\n",
       "      <td>NaN</td>\n",
       "      <td>NaN</td>\n",
       "      <td>NaN</td>\n",
       "      <td>NaN</td>\n",
       "      <td>NaN</td>\n",
       "    </tr>\n",
       "    <tr>\n",
       "      <th>5</th>\n",
       "      <td>16.0</td>\n",
       "      <td>1499158.5</td>\n",
       "      <td>951.0</td>\n",
       "      <td>1.0</td>\n",
       "      <td>NaN</td>\n",
       "      <td>NaN</td>\n",
       "      <td>NaN</td>\n",
       "      <td>NaN</td>\n",
       "      <td>NaN</td>\n",
       "      <td>NaN</td>\n",
       "      <td>...</td>\n",
       "      <td>NaN</td>\n",
       "      <td>NaN</td>\n",
       "      <td>NaN</td>\n",
       "      <td>NaN</td>\n",
       "      <td>NaN</td>\n",
       "      <td>NaN</td>\n",
       "      <td>NaN</td>\n",
       "      <td>NaN</td>\n",
       "      <td>NaN</td>\n",
       "      <td>NaN</td>\n",
       "    </tr>\n",
       "  </tbody>\n",
       "</table>\n",
       "<p>5 rows × 207 columns</p>\n",
       "</div>"
      ],
      "text/plain": [
       "         trial  start_time      rt  correct  Unnamed: 8  Unnamed: 9  \\\n",
       "fact_id                                                               \n",
       "1         12.0   1481926.0  1059.0      1.0         NaN         NaN   \n",
       "2         13.0   1487063.0  2235.0      1.0         NaN         NaN   \n",
       "3         14.0   1492333.5   953.0      1.0         NaN         NaN   \n",
       "4         15.0   1495403.0   980.0      1.0         NaN         NaN   \n",
       "5         16.0   1499158.5   951.0      1.0         NaN         NaN   \n",
       "\n",
       "         Unnamed: 10  Unnamed: 11  Unnamed: 12  Unnamed: 13  ...  \\\n",
       "fact_id                                                      ...   \n",
       "1                NaN          NaN          NaN          NaN  ...   \n",
       "2                NaN          NaN          NaN          NaN  ...   \n",
       "3                NaN          NaN          NaN          NaN  ...   \n",
       "4                NaN          NaN          NaN          NaN  ...   \n",
       "5                NaN          NaN          NaN          NaN  ...   \n",
       "\n",
       "         Unnamed: 201  Unnamed: 202  Unnamed: 203  Unnamed: 204  Unnamed: 205  \\\n",
       "fact_id                                                                         \n",
       "1                 NaN           NaN           NaN           NaN           NaN   \n",
       "2                 NaN           NaN           NaN           NaN           NaN   \n",
       "3                 NaN           NaN           NaN           NaN           NaN   \n",
       "4                 NaN           NaN           NaN           NaN           NaN   \n",
       "5                 NaN           NaN           NaN           NaN           NaN   \n",
       "\n",
       "         Unnamed: 206  Unnamed: 207  Unnamed: 208  Unnamed: 209  Unnamed: 210  \n",
       "fact_id                                                                        \n",
       "1                 NaN           NaN           NaN           NaN           NaN  \n",
       "2                 NaN           NaN           NaN           NaN           NaN  \n",
       "3                 NaN           NaN           NaN           NaN           NaN  \n",
       "4                 NaN           NaN           NaN           NaN           NaN  \n",
       "5                 NaN           NaN           NaN           NaN           NaN  \n",
       "\n",
       "[5 rows x 207 columns]"
      ]
     },
     "execution_count": 320,
     "metadata": {},
     "output_type": "execute_result"
    }
   ],
   "source": [
    "\n",
    "tes_grouped = tes.groupby('fact_id').agg('mean')\n",
    "tes_grouped.head(5)"
   ]
  },
  {
   "cell_type": "markdown",
   "metadata": {},
   "source": [
    "## Comparing P1 and tes"
   ]
  },
  {
   "cell_type": "code",
   "execution_count": null,
   "metadata": {},
   "outputs": [
    {
     "name": "stderr",
     "output_type": "stream",
     "text": [
      "/var/folders/s2/psn1kzxd2_972xy94t5fr4cr0000gn/T/ipykernel_51267/486987055.py:1: FutureWarning: The default value of numeric_only in DataFrameGroupBy.mean is deprecated. In a future version, numeric_only will default to False. Either specify numeric_only or select only columns which should be valid for the function.\n",
      "  p1_grouped = p1.groupby('fact_id').agg('mean')\n"
     ]
    },
    {
     "data": {
      "text/html": [
       "<div>\n",
       "<style scoped>\n",
       "    .dataframe tbody tr th:only-of-type {\n",
       "        vertical-align: middle;\n",
       "    }\n",
       "\n",
       "    .dataframe tbody tr th {\n",
       "        vertical-align: top;\n",
       "    }\n",
       "\n",
       "    .dataframe thead th {\n",
       "        text-align: right;\n",
       "    }\n",
       "</style>\n",
       "<table border=\"1\" class=\"dataframe\">\n",
       "  <thead>\n",
       "    <tr style=\"text-align: right;\">\n",
       "      <th></th>\n",
       "      <th>trial</th>\n",
       "      <th>start_time</th>\n",
       "      <th>rt</th>\n",
       "      <th>correct</th>\n",
       "      <th>encounter_2</th>\n",
       "      <th>reading_time</th>\n",
       "      <th>fogetting_rate</th>\n",
       "    </tr>\n",
       "    <tr>\n",
       "      <th>fact_id</th>\n",
       "      <th></th>\n",
       "      <th></th>\n",
       "      <th></th>\n",
       "      <th></th>\n",
       "      <th></th>\n",
       "      <th></th>\n",
       "      <th></th>\n",
       "    </tr>\n",
       "  </thead>\n",
       "  <tbody>\n",
       "    <tr>\n",
       "      <th>1</th>\n",
       "      <td>31.250000</td>\n",
       "      <td>115043.000000</td>\n",
       "      <td>NaN</td>\n",
       "      <td>0.750000</td>\n",
       "      <td>0.000000</td>\n",
       "      <td>563.6</td>\n",
       "      <td>0.262500</td>\n",
       "    </tr>\n",
       "    <tr>\n",
       "      <th>2</th>\n",
       "      <td>62.500000</td>\n",
       "      <td>444667.090909</td>\n",
       "      <td>NaN</td>\n",
       "      <td>0.909091</td>\n",
       "      <td>0.818182</td>\n",
       "      <td>680.6</td>\n",
       "      <td>0.521964</td>\n",
       "    </tr>\n",
       "    <tr>\n",
       "      <th>3</th>\n",
       "      <td>49.166667</td>\n",
       "      <td>371327.166667</td>\n",
       "      <td>NaN</td>\n",
       "      <td>0.833333</td>\n",
       "      <td>0.000000</td>\n",
       "      <td>914.6</td>\n",
       "      <td>0.296810</td>\n",
       "    </tr>\n",
       "    <tr>\n",
       "      <th>4</th>\n",
       "      <td>41.750000</td>\n",
       "      <td>329523.333333</td>\n",
       "      <td>NaN</td>\n",
       "      <td>0.833333</td>\n",
       "      <td>0.666667</td>\n",
       "      <td>1012.1</td>\n",
       "      <td>0.436458</td>\n",
       "    </tr>\n",
       "    <tr>\n",
       "      <th>5</th>\n",
       "      <td>19.666667</td>\n",
       "      <td>212758.000000</td>\n",
       "      <td>1486.333333</td>\n",
       "      <td>0.666667</td>\n",
       "      <td>0.000000</td>\n",
       "      <td>758.6</td>\n",
       "      <td>0.250391</td>\n",
       "    </tr>\n",
       "  </tbody>\n",
       "</table>\n",
       "</div>"
      ],
      "text/plain": [
       "             trial     start_time           rt   correct  encounter_2  \\\n",
       "fact_id                                                                 \n",
       "1        31.250000  115043.000000          NaN  0.750000     0.000000   \n",
       "2        62.500000  444667.090909          NaN  0.909091     0.818182   \n",
       "3        49.166667  371327.166667          NaN  0.833333     0.000000   \n",
       "4        41.750000  329523.333333          NaN  0.833333     0.666667   \n",
       "5        19.666667  212758.000000  1486.333333  0.666667     0.000000   \n",
       "\n",
       "         reading_time  fogetting_rate  \n",
       "fact_id                                \n",
       "1               563.6        0.262500  \n",
       "2               680.6        0.521964  \n",
       "3               914.6        0.296810  \n",
       "4              1012.1        0.436458  \n",
       "5               758.6        0.250391  "
      ]
     },
     "metadata": {},
     "output_type": "display_data"
    }
   ],
   "source": [
    "p1_grouped = p1.groupby('fact_id').agg('mean')\n",
    "p1_grouped.head(5)"
   ]
  },
  {
   "cell_type": "code",
   "execution_count": null,
   "metadata": {},
   "outputs": [
    {
     "data": {
      "text/html": [
       "<div>\n",
       "<style scoped>\n",
       "    .dataframe tbody tr th:only-of-type {\n",
       "        vertical-align: middle;\n",
       "    }\n",
       "\n",
       "    .dataframe tbody tr th {\n",
       "        vertical-align: top;\n",
       "    }\n",
       "\n",
       "    .dataframe thead th {\n",
       "        text-align: right;\n",
       "    }\n",
       "</style>\n",
       "<table border=\"1\" class=\"dataframe\">\n",
       "  <thead>\n",
       "    <tr style=\"text-align: right;\">\n",
       "      <th></th>\n",
       "      <th>trial_x</th>\n",
       "      <th>start_time_x</th>\n",
       "      <th>rt_x</th>\n",
       "      <th>correct_x</th>\n",
       "      <th>Unnamed: 8</th>\n",
       "      <th>Unnamed: 9</th>\n",
       "      <th>Unnamed: 10</th>\n",
       "      <th>Unnamed: 11</th>\n",
       "      <th>Unnamed: 12</th>\n",
       "      <th>trial_y</th>\n",
       "      <th>start_time_y</th>\n",
       "      <th>rt_y</th>\n",
       "      <th>correct_y</th>\n",
       "      <th>encounter_2</th>\n",
       "      <th>reading_time</th>\n",
       "      <th>fogetting_rate</th>\n",
       "    </tr>\n",
       "    <tr>\n",
       "      <th>fact_id</th>\n",
       "      <th></th>\n",
       "      <th></th>\n",
       "      <th></th>\n",
       "      <th></th>\n",
       "      <th></th>\n",
       "      <th></th>\n",
       "      <th></th>\n",
       "      <th></th>\n",
       "      <th></th>\n",
       "      <th></th>\n",
       "      <th></th>\n",
       "      <th></th>\n",
       "      <th></th>\n",
       "      <th></th>\n",
       "      <th></th>\n",
       "      <th></th>\n",
       "    </tr>\n",
       "  </thead>\n",
       "  <tbody>\n",
       "    <tr>\n",
       "      <th>1</th>\n",
       "      <td>9.5</td>\n",
       "      <td>1731781.0</td>\n",
       "      <td>NaN</td>\n",
       "      <td>0.5</td>\n",
       "      <td>NaN</td>\n",
       "      <td>NaN</td>\n",
       "      <td>NaN</td>\n",
       "      <td>NaN</td>\n",
       "      <td>NaN</td>\n",
       "      <td>31.250000</td>\n",
       "      <td>115043.000000</td>\n",
       "      <td>NaN</td>\n",
       "      <td>0.750000</td>\n",
       "      <td>0.000000</td>\n",
       "      <td>563.6</td>\n",
       "      <td>0.262500</td>\n",
       "    </tr>\n",
       "    <tr>\n",
       "      <th>2</th>\n",
       "      <td>10.5</td>\n",
       "      <td>1737620.0</td>\n",
       "      <td>2565.5</td>\n",
       "      <td>0.0</td>\n",
       "      <td>NaN</td>\n",
       "      <td>NaN</td>\n",
       "      <td>NaN</td>\n",
       "      <td>NaN</td>\n",
       "      <td>NaN</td>\n",
       "      <td>62.500000</td>\n",
       "      <td>444667.090909</td>\n",
       "      <td>NaN</td>\n",
       "      <td>0.909091</td>\n",
       "      <td>0.818182</td>\n",
       "      <td>680.6</td>\n",
       "      <td>0.521964</td>\n",
       "    </tr>\n",
       "    <tr>\n",
       "      <th>3</th>\n",
       "      <td>11.5</td>\n",
       "      <td>1743222.5</td>\n",
       "      <td>NaN</td>\n",
       "      <td>1.0</td>\n",
       "      <td>NaN</td>\n",
       "      <td>NaN</td>\n",
       "      <td>NaN</td>\n",
       "      <td>NaN</td>\n",
       "      <td>NaN</td>\n",
       "      <td>49.166667</td>\n",
       "      <td>371327.166667</td>\n",
       "      <td>NaN</td>\n",
       "      <td>0.833333</td>\n",
       "      <td>0.000000</td>\n",
       "      <td>914.6</td>\n",
       "      <td>0.296810</td>\n",
       "    </tr>\n",
       "    <tr>\n",
       "      <th>4</th>\n",
       "      <td>12.5</td>\n",
       "      <td>1750729.0</td>\n",
       "      <td>NaN</td>\n",
       "      <td>1.0</td>\n",
       "      <td>NaN</td>\n",
       "      <td>NaN</td>\n",
       "      <td>NaN</td>\n",
       "      <td>NaN</td>\n",
       "      <td>NaN</td>\n",
       "      <td>41.750000</td>\n",
       "      <td>329523.333333</td>\n",
       "      <td>NaN</td>\n",
       "      <td>0.833333</td>\n",
       "      <td>0.666667</td>\n",
       "      <td>1012.1</td>\n",
       "      <td>0.436458</td>\n",
       "    </tr>\n",
       "    <tr>\n",
       "      <th>5</th>\n",
       "      <td>13.5</td>\n",
       "      <td>1754846.5</td>\n",
       "      <td>NaN</td>\n",
       "      <td>1.0</td>\n",
       "      <td>NaN</td>\n",
       "      <td>NaN</td>\n",
       "      <td>NaN</td>\n",
       "      <td>NaN</td>\n",
       "      <td>NaN</td>\n",
       "      <td>19.666667</td>\n",
       "      <td>212758.000000</td>\n",
       "      <td>1486.333333</td>\n",
       "      <td>0.666667</td>\n",
       "      <td>0.000000</td>\n",
       "      <td>758.6</td>\n",
       "      <td>0.250391</td>\n",
       "    </tr>\n",
       "  </tbody>\n",
       "</table>\n",
       "</div>"
      ],
      "text/plain": [
       "         trial_x  start_time_x    rt_x  correct_x  Unnamed: 8  Unnamed: 9  \\\n",
       "fact_id                                                                     \n",
       "1            9.5     1731781.0     NaN        0.5         NaN         NaN   \n",
       "2           10.5     1737620.0  2565.5        0.0         NaN         NaN   \n",
       "3           11.5     1743222.5     NaN        1.0         NaN         NaN   \n",
       "4           12.5     1750729.0     NaN        1.0         NaN         NaN   \n",
       "5           13.5     1754846.5     NaN        1.0         NaN         NaN   \n",
       "\n",
       "         Unnamed: 10  Unnamed: 11  Unnamed: 12    trial_y   start_time_y  \\\n",
       "fact_id                                                                    \n",
       "1                NaN          NaN          NaN  31.250000  115043.000000   \n",
       "2                NaN          NaN          NaN  62.500000  444667.090909   \n",
       "3                NaN          NaN          NaN  49.166667  371327.166667   \n",
       "4                NaN          NaN          NaN  41.750000  329523.333333   \n",
       "5                NaN          NaN          NaN  19.666667  212758.000000   \n",
       "\n",
       "                rt_y  correct_y  encounter_2  reading_time  fogetting_rate  \n",
       "fact_id                                                                     \n",
       "1                NaN   0.750000     0.000000         563.6        0.262500  \n",
       "2                NaN   0.909091     0.818182         680.6        0.521964  \n",
       "3                NaN   0.833333     0.000000         914.6        0.296810  \n",
       "4                NaN   0.833333     0.666667        1012.1        0.436458  \n",
       "5        1486.333333   0.666667     0.000000         758.6        0.250391  "
      ]
     },
     "metadata": {},
     "output_type": "display_data"
    }
   ],
   "source": [
    "merge_tes_p1_groups = pd.merge(tes_grouped, p1_grouped, how = \"left\", on = \"fact_id\")\n",
    "merge_tes_p1_groups.head(5)"
   ]
  },
  {
   "cell_type": "code",
   "execution_count": null,
   "metadata": {},
   "outputs": [
    {
     "data": {
      "text/plain": [
       "20"
      ]
     },
     "metadata": {},
     "output_type": "display_data"
    }
   ],
   "source": [
    "len(merge_tes_p1_groups)"
   ]
  },
  {
   "cell_type": "code",
   "execution_count": null,
   "metadata": {},
   "outputs": [
    {
     "data": {
      "text/plain": [
       "11"
      ]
     },
     "metadata": {},
     "output_type": "display_data"
    }
   ],
   "source": [
    "# Count how many times the avg correctness is greater in the grouped P1 than the grouped P2\n",
    "len(merge_tes_p1_groups[merge_tes_p1_groups.correct_x > merge_tes_p1_groups.correct_y])"
   ]
  },
  {
   "cell_type": "code",
   "execution_count": null,
   "metadata": {},
   "outputs": [],
   "source": []
  },
  {
   "cell_type": "markdown",
   "metadata": {},
   "source": [
    "## Comparing P2 and tes"
   ]
  },
  {
   "cell_type": "code",
   "execution_count": null,
   "metadata": {},
   "outputs": [
    {
     "name": "stderr",
     "output_type": "stream",
     "text": [
      "/var/folders/s2/psn1kzxd2_972xy94t5fr4cr0000gn/T/ipykernel_51267/581003624.py:1: FutureWarning: The default value of numeric_only in DataFrameGroupBy.mean is deprecated. In a future version, numeric_only will default to False. Either specify numeric_only or select only columns which should be valid for the function.\n",
      "  p2_grouped = p2.groupby('fact_id').agg('mean')\n"
     ]
    },
    {
     "data": {
      "text/html": [
       "<div>\n",
       "<style scoped>\n",
       "    .dataframe tbody tr th:only-of-type {\n",
       "        vertical-align: middle;\n",
       "    }\n",
       "\n",
       "    .dataframe tbody tr th {\n",
       "        vertical-align: top;\n",
       "    }\n",
       "\n",
       "    .dataframe thead th {\n",
       "        text-align: right;\n",
       "    }\n",
       "</style>\n",
       "<table border=\"1\" class=\"dataframe\">\n",
       "  <thead>\n",
       "    <tr style=\"text-align: right;\">\n",
       "      <th></th>\n",
       "      <th>trial</th>\n",
       "      <th>start_time</th>\n",
       "      <th>rt</th>\n",
       "      <th>correct</th>\n",
       "      <th>encounter_2</th>\n",
       "      <th>reading_time</th>\n",
       "      <th>fogetting_rate</th>\n",
       "    </tr>\n",
       "    <tr>\n",
       "      <th>fact_id</th>\n",
       "      <th></th>\n",
       "      <th></th>\n",
       "      <th></th>\n",
       "      <th></th>\n",
       "      <th></th>\n",
       "      <th></th>\n",
       "      <th></th>\n",
       "    </tr>\n",
       "  </thead>\n",
       "  <tbody>\n",
       "    <tr>\n",
       "      <th>1</th>\n",
       "      <td>16.800000</td>\n",
       "      <td>1.144845e+06</td>\n",
       "      <td>330421.6</td>\n",
       "      <td>0.800000</td>\n",
       "      <td>0.0</td>\n",
       "      <td>875.6</td>\n",
       "      <td>0.301406</td>\n",
       "    </tr>\n",
       "    <tr>\n",
       "      <th>2</th>\n",
       "      <td>62.500000</td>\n",
       "      <td>1.750866e+06</td>\n",
       "      <td>NaN</td>\n",
       "      <td>0.583333</td>\n",
       "      <td>0.0</td>\n",
       "      <td>622.1</td>\n",
       "      <td>0.391797</td>\n",
       "    </tr>\n",
       "    <tr>\n",
       "      <th>3</th>\n",
       "      <td>40.583333</td>\n",
       "      <td>1.616873e+06</td>\n",
       "      <td>NaN</td>\n",
       "      <td>0.916667</td>\n",
       "      <td>0.0</td>\n",
       "      <td>1304.6</td>\n",
       "      <td>0.427734</td>\n",
       "    </tr>\n",
       "    <tr>\n",
       "      <th>4</th>\n",
       "      <td>18.666667</td>\n",
       "      <td>1.482028e+06</td>\n",
       "      <td>1338.0</td>\n",
       "      <td>0.666667</td>\n",
       "      <td>0.0</td>\n",
       "      <td>1285.1</td>\n",
       "      <td>0.250391</td>\n",
       "    </tr>\n",
       "    <tr>\n",
       "      <th>5</th>\n",
       "      <td>56.322581</td>\n",
       "      <td>1.712316e+06</td>\n",
       "      <td>NaN</td>\n",
       "      <td>0.935484</td>\n",
       "      <td>0.0</td>\n",
       "      <td>797.6</td>\n",
       "      <td>0.668536</td>\n",
       "    </tr>\n",
       "  </tbody>\n",
       "</table>\n",
       "</div>"
      ],
      "text/plain": [
       "             trial    start_time        rt   correct  encounter_2  \\\n",
       "fact_id                                                             \n",
       "1        16.800000  1.144845e+06  330421.6  0.800000          0.0   \n",
       "2        62.500000  1.750866e+06       NaN  0.583333          0.0   \n",
       "3        40.583333  1.616873e+06       NaN  0.916667          0.0   \n",
       "4        18.666667  1.482028e+06    1338.0  0.666667          0.0   \n",
       "5        56.322581  1.712316e+06       NaN  0.935484          0.0   \n",
       "\n",
       "         reading_time  fogetting_rate  \n",
       "fact_id                                \n",
       "1               875.6        0.301406  \n",
       "2               622.1        0.391797  \n",
       "3              1304.6        0.427734  \n",
       "4              1285.1        0.250391  \n",
       "5               797.6        0.668536  "
      ]
     },
     "metadata": {},
     "output_type": "display_data"
    }
   ],
   "source": [
    "p2_grouped = p2.groupby('fact_id').agg('mean')\n",
    "p2_grouped.head(5)"
   ]
  },
  {
   "cell_type": "code",
   "execution_count": null,
   "metadata": {},
   "outputs": [
    {
     "data": {
      "text/html": [
       "<div>\n",
       "<style scoped>\n",
       "    .dataframe tbody tr th:only-of-type {\n",
       "        vertical-align: middle;\n",
       "    }\n",
       "\n",
       "    .dataframe tbody tr th {\n",
       "        vertical-align: top;\n",
       "    }\n",
       "\n",
       "    .dataframe thead th {\n",
       "        text-align: right;\n",
       "    }\n",
       "</style>\n",
       "<table border=\"1\" class=\"dataframe\">\n",
       "  <thead>\n",
       "    <tr style=\"text-align: right;\">\n",
       "      <th></th>\n",
       "      <th>trial_x</th>\n",
       "      <th>start_time_x</th>\n",
       "      <th>rt_x</th>\n",
       "      <th>correct_x</th>\n",
       "      <th>Unnamed: 8</th>\n",
       "      <th>Unnamed: 9</th>\n",
       "      <th>Unnamed: 10</th>\n",
       "      <th>Unnamed: 11</th>\n",
       "      <th>Unnamed: 12</th>\n",
       "      <th>trial_y</th>\n",
       "      <th>start_time_y</th>\n",
       "      <th>rt_y</th>\n",
       "      <th>correct_y</th>\n",
       "      <th>encounter_2</th>\n",
       "      <th>reading_time</th>\n",
       "      <th>fogetting_rate</th>\n",
       "    </tr>\n",
       "    <tr>\n",
       "      <th>fact_id</th>\n",
       "      <th></th>\n",
       "      <th></th>\n",
       "      <th></th>\n",
       "      <th></th>\n",
       "      <th></th>\n",
       "      <th></th>\n",
       "      <th></th>\n",
       "      <th></th>\n",
       "      <th></th>\n",
       "      <th></th>\n",
       "      <th></th>\n",
       "      <th></th>\n",
       "      <th></th>\n",
       "      <th></th>\n",
       "      <th></th>\n",
       "      <th></th>\n",
       "    </tr>\n",
       "  </thead>\n",
       "  <tbody>\n",
       "    <tr>\n",
       "      <th>1</th>\n",
       "      <td>9.5</td>\n",
       "      <td>1731781.0</td>\n",
       "      <td>NaN</td>\n",
       "      <td>0.5</td>\n",
       "      <td>NaN</td>\n",
       "      <td>NaN</td>\n",
       "      <td>NaN</td>\n",
       "      <td>NaN</td>\n",
       "      <td>NaN</td>\n",
       "      <td>16.800000</td>\n",
       "      <td>1.144845e+06</td>\n",
       "      <td>330421.6</td>\n",
       "      <td>0.800000</td>\n",
       "      <td>0.0</td>\n",
       "      <td>875.6</td>\n",
       "      <td>0.301406</td>\n",
       "    </tr>\n",
       "    <tr>\n",
       "      <th>2</th>\n",
       "      <td>10.5</td>\n",
       "      <td>1737620.0</td>\n",
       "      <td>2565.5</td>\n",
       "      <td>0.0</td>\n",
       "      <td>NaN</td>\n",
       "      <td>NaN</td>\n",
       "      <td>NaN</td>\n",
       "      <td>NaN</td>\n",
       "      <td>NaN</td>\n",
       "      <td>62.500000</td>\n",
       "      <td>1.750866e+06</td>\n",
       "      <td>NaN</td>\n",
       "      <td>0.583333</td>\n",
       "      <td>0.0</td>\n",
       "      <td>622.1</td>\n",
       "      <td>0.391797</td>\n",
       "    </tr>\n",
       "    <tr>\n",
       "      <th>3</th>\n",
       "      <td>11.5</td>\n",
       "      <td>1743222.5</td>\n",
       "      <td>NaN</td>\n",
       "      <td>1.0</td>\n",
       "      <td>NaN</td>\n",
       "      <td>NaN</td>\n",
       "      <td>NaN</td>\n",
       "      <td>NaN</td>\n",
       "      <td>NaN</td>\n",
       "      <td>40.583333</td>\n",
       "      <td>1.616873e+06</td>\n",
       "      <td>NaN</td>\n",
       "      <td>0.916667</td>\n",
       "      <td>0.0</td>\n",
       "      <td>1304.6</td>\n",
       "      <td>0.427734</td>\n",
       "    </tr>\n",
       "    <tr>\n",
       "      <th>4</th>\n",
       "      <td>12.5</td>\n",
       "      <td>1750729.0</td>\n",
       "      <td>NaN</td>\n",
       "      <td>1.0</td>\n",
       "      <td>NaN</td>\n",
       "      <td>NaN</td>\n",
       "      <td>NaN</td>\n",
       "      <td>NaN</td>\n",
       "      <td>NaN</td>\n",
       "      <td>18.666667</td>\n",
       "      <td>1.482028e+06</td>\n",
       "      <td>1338.0</td>\n",
       "      <td>0.666667</td>\n",
       "      <td>0.0</td>\n",
       "      <td>1285.1</td>\n",
       "      <td>0.250391</td>\n",
       "    </tr>\n",
       "    <tr>\n",
       "      <th>5</th>\n",
       "      <td>13.5</td>\n",
       "      <td>1754846.5</td>\n",
       "      <td>NaN</td>\n",
       "      <td>1.0</td>\n",
       "      <td>NaN</td>\n",
       "      <td>NaN</td>\n",
       "      <td>NaN</td>\n",
       "      <td>NaN</td>\n",
       "      <td>NaN</td>\n",
       "      <td>56.322581</td>\n",
       "      <td>1.712316e+06</td>\n",
       "      <td>NaN</td>\n",
       "      <td>0.935484</td>\n",
       "      <td>0.0</td>\n",
       "      <td>797.6</td>\n",
       "      <td>0.668536</td>\n",
       "    </tr>\n",
       "  </tbody>\n",
       "</table>\n",
       "</div>"
      ],
      "text/plain": [
       "         trial_x  start_time_x    rt_x  correct_x  Unnamed: 8  Unnamed: 9  \\\n",
       "fact_id                                                                     \n",
       "1            9.5     1731781.0     NaN        0.5         NaN         NaN   \n",
       "2           10.5     1737620.0  2565.5        0.0         NaN         NaN   \n",
       "3           11.5     1743222.5     NaN        1.0         NaN         NaN   \n",
       "4           12.5     1750729.0     NaN        1.0         NaN         NaN   \n",
       "5           13.5     1754846.5     NaN        1.0         NaN         NaN   \n",
       "\n",
       "         Unnamed: 10  Unnamed: 11  Unnamed: 12    trial_y  start_time_y  \\\n",
       "fact_id                                                                   \n",
       "1                NaN          NaN          NaN  16.800000  1.144845e+06   \n",
       "2                NaN          NaN          NaN  62.500000  1.750866e+06   \n",
       "3                NaN          NaN          NaN  40.583333  1.616873e+06   \n",
       "4                NaN          NaN          NaN  18.666667  1.482028e+06   \n",
       "5                NaN          NaN          NaN  56.322581  1.712316e+06   \n",
       "\n",
       "             rt_y  correct_y  encounter_2  reading_time  fogetting_rate  \n",
       "fact_id                                                                  \n",
       "1        330421.6   0.800000          0.0         875.6        0.301406  \n",
       "2             NaN   0.583333          0.0         622.1        0.391797  \n",
       "3             NaN   0.916667          0.0        1304.6        0.427734  \n",
       "4          1338.0   0.666667          0.0        1285.1        0.250391  \n",
       "5             NaN   0.935484          0.0         797.6        0.668536  "
      ]
     },
     "metadata": {},
     "output_type": "display_data"
    }
   ],
   "source": [
    "merge_tes_p2_groups = pd.merge(tes_grouped, p2_grouped, how = \"left\", on = \"fact_id\")\n",
    "merge_tes_p2_groups.head(5)"
   ]
  },
  {
   "cell_type": "code",
   "execution_count": null,
   "metadata": {},
   "outputs": [
    {
     "data": {
      "text/plain": [
       "20"
      ]
     },
     "metadata": {},
     "output_type": "display_data"
    }
   ],
   "source": [
    "len(merge_tes_p2_groups)"
   ]
  },
  {
   "cell_type": "code",
   "execution_count": null,
   "metadata": {},
   "outputs": [
    {
     "data": {
      "text/plain": [
       "13"
      ]
     },
     "metadata": {},
     "output_type": "display_data"
    }
   ],
   "source": [
    "# Count how many times the avg correctness is greater in the grouped P1 than the grouped P2\n",
    "len(merge_tes_p2_groups[merge_tes_p2_groups.correct_x > merge_tes_p2_groups.correct_y])"
   ]
  },
  {
   "cell_type": "code",
   "execution_count": 14,
   "metadata": {},
   "outputs": [],
   "source": [
    "all_files = Path(Path.cwd()/\"sub9\")\n",
    "info = pd.read_csv(all_files/\"info.csv\", delimiter=\";\")\n",
    "p1 = pd.read_csv(all_files/\"part1.csv\", delimiter=\";\")\n",
    "p2 = pd.read_csv(all_files/\"part2.csv\", delimiter=\";\")\n",
    "pre = pd.read_csv(all_files/\"pretest.csv\", delimiter=\";\")\n",
    "tes = pd.read_csv(all_files/\"test.csv\", delimiter=\";\")\n"
   ]
  },
  {
   "cell_type": "markdown",
   "metadata": {},
   "source": [
    "## Participant Info"
   ]
  },
  {
   "cell_type": "code",
   "execution_count": 15,
   "metadata": {},
   "outputs": [
    {
     "data": {
      "text/html": [
       "<div>\n",
       "<style scoped>\n",
       "    .dataframe tbody tr th:only-of-type {\n",
       "        vertical-align: middle;\n",
       "    }\n",
       "\n",
       "    .dataframe tbody tr th {\n",
       "        vertical-align: top;\n",
       "    }\n",
       "\n",
       "    .dataframe thead th {\n",
       "        text-align: right;\n",
       "    }\n",
       "</style>\n",
       "<table border=\"1\" class=\"dataframe\">\n",
       "  <thead>\n",
       "    <tr style=\"text-align: right;\">\n",
       "      <th></th>\n",
       "      <th>Language</th>\n",
       "      <th>Level</th>\n",
       "      <th>acc</th>\n",
       "      <th>accuracy</th>\n",
       "      <th>age</th>\n",
       "      <th>average_response_time</th>\n",
       "      <th>avg_rt</th>\n",
       "      <th>b0</th>\n",
       "      <th>b1</th>\n",
       "      <th>background</th>\n",
       "      <th>...</th>\n",
       "      <th>time_up2</th>\n",
       "      <th>time_welcome</th>\n",
       "      <th>title</th>\n",
       "      <th>total_correct</th>\n",
       "      <th>total_response_time</th>\n",
       "      <th>total_responses</th>\n",
       "      <th>trial_num</th>\n",
       "      <th>trial_num_baseline</th>\n",
       "      <th>uniform_coordinates</th>\n",
       "      <th>width</th>\n",
       "    </tr>\n",
       "  </thead>\n",
       "  <tbody>\n",
       "    <tr>\n",
       "      <th>0</th>\n",
       "      <td>Hindi</td>\n",
       "      <td>I haven't taken any courses</td>\n",
       "      <td>undefined</td>\n",
       "      <td>undefined</td>\n",
       "      <td>23</td>\n",
       "      <td>undefined</td>\n",
       "      <td>undefined</td>\n",
       "      <td>NaN</td>\n",
       "      <td>NaN</td>\n",
       "      <td>#e8edf1</td>\n",
       "      <td>...</td>\n",
       "      <td>no</td>\n",
       "      <td>3695</td>\n",
       "      <td>SlimStampen example</td>\n",
       "      <td>0</td>\n",
       "      <td>0</td>\n",
       "      <td>0</td>\n",
       "      <td>1</td>\n",
       "      <td>1</td>\n",
       "      <td>yes</td>\n",
       "      <td>1024</td>\n",
       "    </tr>\n",
       "  </tbody>\n",
       "</table>\n",
       "<p>1 rows × 211 columns</p>\n",
       "</div>"
      ],
      "text/plain": [
       "  Language                        Level        acc   accuracy  age  \\\n",
       "0    Hindi  I haven't taken any courses  undefined  undefined   23   \n",
       "\n",
       "  average_response_time     avg_rt  b0  b1 background  ... time_up2  \\\n",
       "0             undefined  undefined NaN NaN    #e8edf1  ...       no   \n",
       "\n",
       "  time_welcome                title  total_correct  total_response_time  \\\n",
       "0         3695  SlimStampen example              0                    0   \n",
       "\n",
       "  total_responses trial_num trial_num_baseline  uniform_coordinates  width  \n",
       "0               0         1                  1                  yes   1024  \n",
       "\n",
       "[1 rows x 211 columns]"
      ]
     },
     "execution_count": 15,
     "metadata": {},
     "output_type": "execute_result"
    }
   ],
   "source": [
    "info.head()"
   ]
  },
  {
   "cell_type": "markdown",
   "metadata": {},
   "source": [
    "## Pretest"
   ]
  },
  {
   "cell_type": "code",
   "execution_count": 16,
   "metadata": {},
   "outputs": [
    {
     "data": {
      "text/html": [
       "<div>\n",
       "<style scoped>\n",
       "    .dataframe tbody tr th:only-of-type {\n",
       "        vertical-align: middle;\n",
       "    }\n",
       "\n",
       "    .dataframe tbody tr th {\n",
       "        vertical-align: top;\n",
       "    }\n",
       "\n",
       "    .dataframe thead th {\n",
       "        text-align: right;\n",
       "    }\n",
       "</style>\n",
       "<table border=\"1\" class=\"dataframe\">\n",
       "  <thead>\n",
       "    <tr style=\"text-align: right;\">\n",
       "      <th></th>\n",
       "      <th>trial</th>\n",
       "      <th>fact</th>\n",
       "      <th>start_time</th>\n",
       "      <th>rt</th>\n",
       "      <th>correct</th>\n",
       "      <th>fact_id</th>\n",
       "      <th>question</th>\n",
       "      <th>answer</th>\n",
       "    </tr>\n",
       "  </thead>\n",
       "  <tbody>\n",
       "    <tr>\n",
       "      <th>0</th>\n",
       "      <td>1</td>\n",
       "      <td>Word(fact_id=1, question='winkel', answer=['sh...</td>\n",
       "      <td>10956.0</td>\n",
       "      <td>961.0</td>\n",
       "      <td>True</td>\n",
       "      <td>1</td>\n",
       "      <td>winkel</td>\n",
       "      <td>['shop', 'store']</td>\n",
       "    </tr>\n",
       "    <tr>\n",
       "      <th>1</th>\n",
       "      <td>2</td>\n",
       "      <td>Word(fact_id=2, question='lepel', answer=['spo...</td>\n",
       "      <td>13967.0</td>\n",
       "      <td>957.0</td>\n",
       "      <td>True</td>\n",
       "      <td>2</td>\n",
       "      <td>lepel</td>\n",
       "      <td>['spoon']</td>\n",
       "    </tr>\n",
       "    <tr>\n",
       "      <th>2</th>\n",
       "      <td>3</td>\n",
       "      <td>Word(fact_id=3, question='jas', answer=['coat'...</td>\n",
       "      <td>17227.0</td>\n",
       "      <td>inf</td>\n",
       "      <td>False</td>\n",
       "      <td>3</td>\n",
       "      <td>jas</td>\n",
       "      <td>['coat', 'jacket', 'overcoat', 'cloak']</td>\n",
       "    </tr>\n",
       "    <tr>\n",
       "      <th>3</th>\n",
       "      <td>4</td>\n",
       "      <td>Word(fact_id=4, question='raam', answer=['wind...</td>\n",
       "      <td>21104.0</td>\n",
       "      <td>inf</td>\n",
       "      <td>True</td>\n",
       "      <td>4</td>\n",
       "      <td>raam</td>\n",
       "      <td>['window', 'frame']</td>\n",
       "    </tr>\n",
       "    <tr>\n",
       "      <th>4</th>\n",
       "      <td>5</td>\n",
       "      <td>Word(fact_id=5, question='buiten', answer=['ou...</td>\n",
       "      <td>25836.0</td>\n",
       "      <td>inf</td>\n",
       "      <td>False</td>\n",
       "      <td>5</td>\n",
       "      <td>buiten</td>\n",
       "      <td>['outside', 'out']</td>\n",
       "    </tr>\n",
       "  </tbody>\n",
       "</table>\n",
       "</div>"
      ],
      "text/plain": [
       "   trial                                               fact  start_time  \\\n",
       "0      1  Word(fact_id=1, question='winkel', answer=['sh...     10956.0   \n",
       "1      2  Word(fact_id=2, question='lepel', answer=['spo...     13967.0   \n",
       "2      3  Word(fact_id=3, question='jas', answer=['coat'...     17227.0   \n",
       "3      4  Word(fact_id=4, question='raam', answer=['wind...     21104.0   \n",
       "4      5  Word(fact_id=5, question='buiten', answer=['ou...     25836.0   \n",
       "\n",
       "      rt  correct  fact_id question                                   answer  \n",
       "0  961.0     True        1   winkel                        ['shop', 'store']  \n",
       "1  957.0     True        2    lepel                                ['spoon']  \n",
       "2    inf    False        3      jas  ['coat', 'jacket', 'overcoat', 'cloak']  \n",
       "3    inf     True        4     raam                      ['window', 'frame']  \n",
       "4    inf    False        5   buiten                       ['outside', 'out']  "
      ]
     },
     "execution_count": 16,
     "metadata": {},
     "output_type": "execute_result"
    }
   ],
   "source": [
    "pre.head()"
   ]
  },
  {
   "cell_type": "code",
   "execution_count": 26,
   "metadata": {},
   "outputs": [
    {
     "data": {
      "text/plain": [
       "False    15\n",
       "True      4\n",
       "Name: correct, dtype: int64"
      ]
     },
     "execution_count": 26,
     "metadata": {},
     "output_type": "execute_result"
    }
   ],
   "source": [
    "# No of correct/wrong\n",
    "pre[\"correct\"].value_counts()"
   ]
  },
  {
   "cell_type": "code",
   "execution_count": 25,
   "metadata": {},
   "outputs": [
    {
     "data": {
      "text/plain": [
       "1757.9166666666667"
      ]
     },
     "execution_count": 25,
     "metadata": {},
     "output_type": "execute_result"
    }
   ],
   "source": [
    "# Avergae RT\n",
    "np.average([x for x in pre[\"rt\"].values if x!=np.Inf])"
   ]
  },
  {
   "cell_type": "markdown",
   "metadata": {},
   "source": [
    "## Part 1"
   ]
  },
  {
   "cell_type": "code",
   "execution_count": 27,
   "metadata": {},
   "outputs": [
    {
     "data": {
      "text/html": [
       "<div>\n",
       "<style scoped>\n",
       "    .dataframe tbody tr th:only-of-type {\n",
       "        vertical-align: middle;\n",
       "    }\n",
       "\n",
       "    .dataframe tbody tr th {\n",
       "        vertical-align: top;\n",
       "    }\n",
       "\n",
       "    .dataframe thead th {\n",
       "        text-align: right;\n",
       "    }\n",
       "</style>\n",
       "<table border=\"1\" class=\"dataframe\">\n",
       "  <thead>\n",
       "    <tr style=\"text-align: right;\">\n",
       "      <th></th>\n",
       "      <th>trial</th>\n",
       "      <th>start_time</th>\n",
       "      <th>rt</th>\n",
       "      <th>correct</th>\n",
       "      <th>fact_id</th>\n",
       "      <th>question</th>\n",
       "      <th>context_1</th>\n",
       "      <th>context_2</th>\n",
       "      <th>answer</th>\n",
       "      <th>chosen_context</th>\n",
       "      <th>encounter_2</th>\n",
       "      <th>reading_time</th>\n",
       "      <th>fogetting_rate</th>\n",
       "    </tr>\n",
       "  </thead>\n",
       "  <tbody>\n",
       "    <tr>\n",
       "      <th>0</th>\n",
       "      <td>1</td>\n",
       "      <td>106986.0</td>\n",
       "      <td>inf</td>\n",
       "      <td>False</td>\n",
       "      <td>1</td>\n",
       "      <td>woordenschat</td>\n",
       "      <td>Ik heb een goede &lt;b&gt;woordenschat&lt;/b&gt;.</td>\n",
       "      <td>Een boek lezen doet wonderen voor je &lt;b&gt;woorde...</td>\n",
       "      <td>vocabulary</td>\n",
       "      <td>Ik heb een goede &lt;b&gt;woordenschat&lt;/b&gt;.</td>\n",
       "      <td>False</td>\n",
       "      <td>563.6</td>\n",
       "      <td>0.299609</td>\n",
       "    </tr>\n",
       "    <tr>\n",
       "      <th>1</th>\n",
       "      <td>2</td>\n",
       "      <td>115785.0</td>\n",
       "      <td>643.0</td>\n",
       "      <td>True</td>\n",
       "      <td>1</td>\n",
       "      <td>woordenschat</td>\n",
       "      <td>Ik heb een goede &lt;b&gt;woordenschat&lt;/b&gt;.</td>\n",
       "      <td>Een boek lezen doet wonderen voor je &lt;b&gt;woorde...</td>\n",
       "      <td>vocabulary</td>\n",
       "      <td>Ik heb een goede &lt;b&gt;woordenschat&lt;/b&gt;.</td>\n",
       "      <td>False</td>\n",
       "      <td>563.6</td>\n",
       "      <td>0.250000</td>\n",
       "    </tr>\n",
       "    <tr>\n",
       "      <th>2</th>\n",
       "      <td>3</td>\n",
       "      <td>119716.0</td>\n",
       "      <td>1694.0</td>\n",
       "      <td>False</td>\n",
       "      <td>2</td>\n",
       "      <td>beseffen</td>\n",
       "      <td>Ik &lt;b&gt;besef&lt;/b&gt; dat ik het fout heb gedaan.</td>\n",
       "      <td>Ik heb niet &lt;b&gt;beseft&lt;/b&gt; dat het zo laat was.</td>\n",
       "      <td>realize;to realize</td>\n",
       "      <td>Ik &lt;b&gt;besef&lt;/b&gt; dat ik het fout heb gedaan.</td>\n",
       "      <td>False</td>\n",
       "      <td>680.6</td>\n",
       "      <td>0.300000</td>\n",
       "    </tr>\n",
       "    <tr>\n",
       "      <th>3</th>\n",
       "      <td>4</td>\n",
       "      <td>122886.0</td>\n",
       "      <td>1506.0</td>\n",
       "      <td>False</td>\n",
       "      <td>3</td>\n",
       "      <td>uitnodigen</td>\n",
       "      <td>Ik wil je graag &lt;b&gt;uitnodigen&lt;/b&gt; voor mijn ve...</td>\n",
       "      <td>Ze &lt;b&gt;nodigen&lt;/b&gt; elke kunstenaar uit voor de ...</td>\n",
       "      <td>invite;to invite</td>\n",
       "      <td>Ik wil je graag &lt;b&gt;uitnodigen&lt;/b&gt; voor mijn ve...</td>\n",
       "      <td>False</td>\n",
       "      <td>914.6</td>\n",
       "      <td>0.300000</td>\n",
       "    </tr>\n",
       "    <tr>\n",
       "      <th>4</th>\n",
       "      <td>5</td>\n",
       "      <td>125874.0</td>\n",
       "      <td>inf</td>\n",
       "      <td>True</td>\n",
       "      <td>2</td>\n",
       "      <td>beseffen</td>\n",
       "      <td>Ik &lt;b&gt;besef&lt;/b&gt; dat ik het fout heb gedaan.</td>\n",
       "      <td>Ik heb niet &lt;b&gt;beseft&lt;/b&gt; dat het zo laat was.</td>\n",
       "      <td>realize;to realize</td>\n",
       "      <td>Ik &lt;b&gt;besef&lt;/b&gt; dat ik het fout heb gedaan.</td>\n",
       "      <td>False</td>\n",
       "      <td>680.6</td>\n",
       "      <td>0.349609</td>\n",
       "    </tr>\n",
       "  </tbody>\n",
       "</table>\n",
       "</div>"
      ],
      "text/plain": [
       "   trial  start_time      rt  correct  fact_id      question  \\\n",
       "0      1    106986.0     inf    False        1  woordenschat   \n",
       "1      2    115785.0   643.0     True        1  woordenschat   \n",
       "2      3    119716.0  1694.0    False        2      beseffen   \n",
       "3      4    122886.0  1506.0    False        3    uitnodigen   \n",
       "4      5    125874.0     inf     True        2      beseffen   \n",
       "\n",
       "                                           context_1  \\\n",
       "0              Ik heb een goede <b>woordenschat</b>.   \n",
       "1              Ik heb een goede <b>woordenschat</b>.   \n",
       "2        Ik <b>besef</b> dat ik het fout heb gedaan.   \n",
       "3  Ik wil je graag <b>uitnodigen</b> voor mijn ve...   \n",
       "4        Ik <b>besef</b> dat ik het fout heb gedaan.   \n",
       "\n",
       "                                           context_2              answer  \\\n",
       "0  Een boek lezen doet wonderen voor je <b>woorde...          vocabulary   \n",
       "1  Een boek lezen doet wonderen voor je <b>woorde...          vocabulary   \n",
       "2     Ik heb niet <b>beseft</b> dat het zo laat was.  realize;to realize   \n",
       "3  Ze <b>nodigen</b> elke kunstenaar uit voor de ...    invite;to invite   \n",
       "4     Ik heb niet <b>beseft</b> dat het zo laat was.  realize;to realize   \n",
       "\n",
       "                                      chosen_context  encounter_2  \\\n",
       "0              Ik heb een goede <b>woordenschat</b>.        False   \n",
       "1              Ik heb een goede <b>woordenschat</b>.        False   \n",
       "2        Ik <b>besef</b> dat ik het fout heb gedaan.        False   \n",
       "3  Ik wil je graag <b>uitnodigen</b> voor mijn ve...        False   \n",
       "4        Ik <b>besef</b> dat ik het fout heb gedaan.        False   \n",
       "\n",
       "   reading_time  fogetting_rate  \n",
       "0         563.6        0.299609  \n",
       "1         563.6        0.250000  \n",
       "2         680.6        0.300000  \n",
       "3         914.6        0.300000  \n",
       "4         680.6        0.349609  "
      ]
     },
     "execution_count": 27,
     "metadata": {},
     "output_type": "execute_result"
    }
   ],
   "source": [
    "p1.head()"
   ]
  },
  {
   "cell_type": "code",
   "execution_count": 114,
   "metadata": {},
   "outputs": [
    {
     "data": {
      "text/plain": [
       "1959.4268292682927"
      ]
     },
     "execution_count": 114,
     "metadata": {},
     "output_type": "execute_result"
    }
   ],
   "source": [
    "# Avergae RT\n",
    "np.mean([x for x in p1[\"rt\"].values if x!=np.Inf and x<30000])"
   ]
  },
  {
   "cell_type": "code",
   "execution_count": 115,
   "metadata": {},
   "outputs": [
    {
     "data": {
      "text/plain": [
       "1654.191564617267"
      ]
     },
     "execution_count": 115,
     "metadata": {},
     "output_type": "execute_result"
    }
   ],
   "source": [
    "np.std([x for x in p1[\"rt\"].values if x!=np.Inf and x<30000])"
   ]
  },
  {
   "cell_type": "code",
   "execution_count": 31,
   "metadata": {},
   "outputs": [
    {
     "data": {
      "text/plain": [
       "True     121\n",
       "False     29\n",
       "Name: correct, dtype: int64"
      ]
     },
     "execution_count": 31,
     "metadata": {},
     "output_type": "execute_result"
    }
   ],
   "source": [
    "# No of correct/wrong in encounter 1\n",
    "p1[\"correct\"].value_counts()"
   ]
  },
  {
   "cell_type": "code",
   "execution_count": 33,
   "metadata": {},
   "outputs": [
    {
     "data": {
      "text/plain": [
       "True     80\n",
       "False    70\n",
       "Name: encounter_2, dtype: int64"
      ]
     },
     "execution_count": 33,
     "metadata": {},
     "output_type": "execute_result"
    }
   ],
   "source": [
    "# No of correct/wrong in encounter 2\n",
    "p1[\"encounter_2\"].value_counts()"
   ]
  },
  {
   "cell_type": "code",
   "execution_count": 48,
   "metadata": {},
   "outputs": [
    {
     "data": {
      "text/plain": [
       "150"
      ]
     },
     "execution_count": 48,
     "metadata": {},
     "output_type": "execute_result"
    }
   ],
   "source": [
    "len(p1)"
   ]
  },
  {
   "cell_type": "code",
   "execution_count": 47,
   "metadata": {},
   "outputs": [
    {
     "data": {
      "text/plain": [
       "23"
      ]
     },
     "execution_count": 47,
     "metadata": {},
     "output_type": "execute_result"
    }
   ],
   "source": [
    "# No of wrong in both encounter 1 and 2\n",
    "len(p1[(p1.encounter_2 ==False) & (p1.correct == False)])"
   ]
  },
  {
   "cell_type": "code",
   "execution_count": 49,
   "metadata": {},
   "outputs": [
    {
     "data": {
      "text/plain": [
       "74"
      ]
     },
     "execution_count": 49,
     "metadata": {},
     "output_type": "execute_result"
    }
   ],
   "source": [
    "# No of correct in both encounter 1 and 2\n",
    "len(p1[(p1.encounter_2 ==True) & (p1.correct == True)])"
   ]
  },
  {
   "cell_type": "code",
   "execution_count": 59,
   "metadata": {},
   "outputs": [
    {
     "data": {
      "text/plain": [
       "0.4525390625"
      ]
     },
     "execution_count": 59,
     "metadata": {},
     "output_type": "execute_result"
    }
   ],
   "source": [
    "# Avergae forgetting rate\n",
    "np.average([x for x in p1[\"fogetting_rate\"].values if x!=np.Inf])"
   ]
  },
  {
   "cell_type": "markdown",
   "metadata": {},
   "source": [
    "## Part 2"
   ]
  },
  {
   "cell_type": "code",
   "execution_count": 50,
   "metadata": {},
   "outputs": [
    {
     "data": {
      "text/html": [
       "<div>\n",
       "<style scoped>\n",
       "    .dataframe tbody tr th:only-of-type {\n",
       "        vertical-align: middle;\n",
       "    }\n",
       "\n",
       "    .dataframe tbody tr th {\n",
       "        vertical-align: top;\n",
       "    }\n",
       "\n",
       "    .dataframe thead th {\n",
       "        text-align: right;\n",
       "    }\n",
       "</style>\n",
       "<table border=\"1\" class=\"dataframe\">\n",
       "  <thead>\n",
       "    <tr style=\"text-align: right;\">\n",
       "      <th></th>\n",
       "      <th>trial</th>\n",
       "      <th>start_time</th>\n",
       "      <th>rt</th>\n",
       "      <th>correct</th>\n",
       "      <th>fact_id</th>\n",
       "      <th>question</th>\n",
       "      <th>context_1</th>\n",
       "      <th>context_2</th>\n",
       "      <th>answer</th>\n",
       "      <th>chosen_context</th>\n",
       "      <th>encounter_2</th>\n",
       "      <th>reading_time</th>\n",
       "      <th>fogetting_rate</th>\n",
       "    </tr>\n",
       "  </thead>\n",
       "  <tbody>\n",
       "    <tr>\n",
       "      <th>0</th>\n",
       "      <td>1</td>\n",
       "      <td>1374843.0</td>\n",
       "      <td>2269.0</td>\n",
       "      <td>False</td>\n",
       "      <td>1</td>\n",
       "      <td>tevreden</td>\n",
       "      <td>Mijn baas was erg &lt;b&gt;tevreden&lt;/b&gt; over het res...</td>\n",
       "      <td>Hij is niet snel &lt;b&gt;tevreden&lt;/b&gt;,hij is erg kr...</td>\n",
       "      <td>satisfied</td>\n",
       "      <td>tevreden</td>\n",
       "      <td>False</td>\n",
       "      <td>875.6</td>\n",
       "      <td>0.299609</td>\n",
       "    </tr>\n",
       "    <tr>\n",
       "      <th>1</th>\n",
       "      <td>2</td>\n",
       "      <td>1378601.0</td>\n",
       "      <td>6345.0</td>\n",
       "      <td>True</td>\n",
       "      <td>1</td>\n",
       "      <td>tevreden</td>\n",
       "      <td>Mijn baas was erg &lt;b&gt;tevreden&lt;/b&gt; over het res...</td>\n",
       "      <td>Hij is niet snel &lt;b&gt;tevreden&lt;/b&gt;,hij is erg kr...</td>\n",
       "      <td>satisfied</td>\n",
       "      <td>tevreden</td>\n",
       "      <td>False</td>\n",
       "      <td>875.6</td>\n",
       "      <td>0.349219</td>\n",
       "    </tr>\n",
       "    <tr>\n",
       "      <th>2</th>\n",
       "      <td>3</td>\n",
       "      <td>1387564.0</td>\n",
       "      <td>1614.0</td>\n",
       "      <td>False</td>\n",
       "      <td>2</td>\n",
       "      <td>verwondering</td>\n",
       "      <td>Kinderen zitten vol &lt;b&gt;verwondering&lt;/b&gt;.</td>\n",
       "      <td>Ik sta vol &lt;b&gt;verwondering&lt;/b&gt; naar de sterren...</td>\n",
       "      <td>wonder;surprise</td>\n",
       "      <td>verwondering</td>\n",
       "      <td>False</td>\n",
       "      <td>622.1</td>\n",
       "      <td>0.300000</td>\n",
       "    </tr>\n",
       "    <tr>\n",
       "      <th>3</th>\n",
       "      <td>4</td>\n",
       "      <td>1390691.0</td>\n",
       "      <td>4479.0</td>\n",
       "      <td>False</td>\n",
       "      <td>3</td>\n",
       "      <td>bijeenkomst</td>\n",
       "      <td>SNIC is een &lt;b&gt;bijeenkomst&lt;/b&gt; met studenten v...</td>\n",
       "      <td>De &lt;b&gt;bijeenkomst&lt;/b&gt; begint om 10 uur.</td>\n",
       "      <td>meeting;gathering</td>\n",
       "      <td>bijeenkomst</td>\n",
       "      <td>False</td>\n",
       "      <td>1304.6</td>\n",
       "      <td>0.300000</td>\n",
       "    </tr>\n",
       "    <tr>\n",
       "      <th>4</th>\n",
       "      <td>5</td>\n",
       "      <td>1396688.0</td>\n",
       "      <td>3439.0</td>\n",
       "      <td>False</td>\n",
       "      <td>2</td>\n",
       "      <td>verwondering</td>\n",
       "      <td>Kinderen zitten vol &lt;b&gt;verwondering&lt;/b&gt;.</td>\n",
       "      <td>Ik sta vol &lt;b&gt;verwondering&lt;/b&gt; naar de sterren...</td>\n",
       "      <td>wonder;surprise</td>\n",
       "      <td>verwondering</td>\n",
       "      <td>False</td>\n",
       "      <td>622.1</td>\n",
       "      <td>0.349609</td>\n",
       "    </tr>\n",
       "  </tbody>\n",
       "</table>\n",
       "</div>"
      ],
      "text/plain": [
       "   trial  start_time      rt  correct  fact_id      question  \\\n",
       "0      1   1374843.0  2269.0    False        1      tevreden   \n",
       "1      2   1378601.0  6345.0     True        1      tevreden   \n",
       "2      3   1387564.0  1614.0    False        2  verwondering   \n",
       "3      4   1390691.0  4479.0    False        3   bijeenkomst   \n",
       "4      5   1396688.0  3439.0    False        2  verwondering   \n",
       "\n",
       "                                           context_1  \\\n",
       "0  Mijn baas was erg <b>tevreden</b> over het res...   \n",
       "1  Mijn baas was erg <b>tevreden</b> over het res...   \n",
       "2           Kinderen zitten vol <b>verwondering</b>.   \n",
       "3  SNIC is een <b>bijeenkomst</b> met studenten v...   \n",
       "4           Kinderen zitten vol <b>verwondering</b>.   \n",
       "\n",
       "                                           context_2             answer  \\\n",
       "0  Hij is niet snel <b>tevreden</b>,hij is erg kr...          satisfied   \n",
       "1  Hij is niet snel <b>tevreden</b>,hij is erg kr...          satisfied   \n",
       "2  Ik sta vol <b>verwondering</b> naar de sterren...    wonder;surprise   \n",
       "3            De <b>bijeenkomst</b> begint om 10 uur.  meeting;gathering   \n",
       "4  Ik sta vol <b>verwondering</b> naar de sterren...    wonder;surprise   \n",
       "\n",
       "  chosen_context  encounter_2  reading_time  fogetting_rate  \n",
       "0       tevreden        False         875.6        0.299609  \n",
       "1       tevreden        False         875.6        0.349219  \n",
       "2   verwondering        False         622.1        0.300000  \n",
       "3    bijeenkomst        False        1304.6        0.300000  \n",
       "4   verwondering        False         622.1        0.349609  "
      ]
     },
     "execution_count": 50,
     "metadata": {},
     "output_type": "execute_result"
    }
   ],
   "source": [
    "p2.head()"
   ]
  },
  {
   "cell_type": "code",
   "execution_count": 51,
   "metadata": {},
   "outputs": [
    {
     "data": {
      "text/plain": [
       "17628.963302752294"
      ]
     },
     "execution_count": 51,
     "metadata": {},
     "output_type": "execute_result"
    }
   ],
   "source": [
    "# Avergae RT\n",
    "np.average([x for x in p2[\"rt\"].values if x!=np.Inf])"
   ]
  },
  {
   "cell_type": "code",
   "execution_count": 58,
   "metadata": {},
   "outputs": [
    {
     "data": {
      "text/plain": [
       "0.425546875"
      ]
     },
     "execution_count": 58,
     "metadata": {},
     "output_type": "execute_result"
    }
   ],
   "source": [
    "# Avergae forgetting rate\n",
    "np.average([x for x in p2[\"fogetting_rate\"].values if x!=np.Inf])"
   ]
  },
  {
   "cell_type": "code",
   "execution_count": 116,
   "metadata": {},
   "outputs": [
    {
     "data": {
      "text/plain": [
       "2609.1666666666665"
      ]
     },
     "execution_count": 116,
     "metadata": {},
     "output_type": "execute_result"
    }
   ],
   "source": [
    "# Avergae RT\n",
    "np.mean([x for x in p2[\"rt\"].values if x!=np.Inf and x<30000])"
   ]
  },
  {
   "cell_type": "code",
   "execution_count": 117,
   "metadata": {},
   "outputs": [
    {
     "data": {
      "text/plain": [
       "3009.07167147512"
      ]
     },
     "execution_count": 117,
     "metadata": {},
     "output_type": "execute_result"
    }
   ],
   "source": [
    "np.std([x for x in p2[\"rt\"].values if x!=np.Inf and x<30000])"
   ]
  },
  {
   "cell_type": "code",
   "execution_count": 52,
   "metadata": {},
   "outputs": [
    {
     "data": {
      "text/plain": [
       "True     111\n",
       "False     39\n",
       "Name: correct, dtype: int64"
      ]
     },
     "execution_count": 52,
     "metadata": {},
     "output_type": "execute_result"
    }
   ],
   "source": [
    "# No of correct/wrong in encounter 1\n",
    "p2[\"correct\"].value_counts()"
   ]
  },
  {
   "cell_type": "code",
   "execution_count": 53,
   "metadata": {},
   "outputs": [
    {
     "data": {
      "text/plain": [
       "False    150\n",
       "Name: encounter_2, dtype: int64"
      ]
     },
     "execution_count": 53,
     "metadata": {},
     "output_type": "execute_result"
    }
   ],
   "source": [
    "# No of correct/wrong in encounter 2\n",
    "p2[\"encounter_2\"].value_counts()"
   ]
  },
  {
   "cell_type": "code",
   "execution_count": 54,
   "metadata": {},
   "outputs": [
    {
     "data": {
      "text/plain": [
       "150"
      ]
     },
     "execution_count": 54,
     "metadata": {},
     "output_type": "execute_result"
    }
   ],
   "source": [
    "len(p2)"
   ]
  },
  {
   "cell_type": "code",
   "execution_count": 56,
   "metadata": {},
   "outputs": [
    {
     "data": {
      "text/plain": [
       "39"
      ]
     },
     "execution_count": 56,
     "metadata": {},
     "output_type": "execute_result"
    }
   ],
   "source": [
    "# No of wrong in both encounter 1 and 2\n",
    "len(p2[(p2.encounter_2 ==False) & (p2.correct == False)])"
   ]
  },
  {
   "cell_type": "code",
   "execution_count": 57,
   "metadata": {},
   "outputs": [
    {
     "data": {
      "text/plain": [
       "0"
      ]
     },
     "execution_count": 57,
     "metadata": {},
     "output_type": "execute_result"
    }
   ],
   "source": [
    "# No of correct in both encounter 1 and 2\n",
    "len(p2[(p2.encounter_2 ==True) & (p2.correct == True)])"
   ]
  },
  {
   "cell_type": "markdown",
   "metadata": {},
   "source": [
    "## Final test"
   ]
  },
  {
   "cell_type": "code",
   "execution_count": 104,
   "metadata": {},
   "outputs": [
    {
     "data": {
      "text/html": [
       "<div>\n",
       "<style scoped>\n",
       "    .dataframe tbody tr th:only-of-type {\n",
       "        vertical-align: middle;\n",
       "    }\n",
       "\n",
       "    .dataframe tbody tr th {\n",
       "        vertical-align: top;\n",
       "    }\n",
       "\n",
       "    .dataframe thead th {\n",
       "        text-align: right;\n",
       "    }\n",
       "</style>\n",
       "<table border=\"1\" class=\"dataframe\">\n",
       "  <thead>\n",
       "    <tr style=\"text-align: right;\">\n",
       "      <th></th>\n",
       "      <th>trial</th>\n",
       "      <th>fact</th>\n",
       "      <th>start_time</th>\n",
       "      <th>rt</th>\n",
       "      <th>correct</th>\n",
       "      <th>fact_id</th>\n",
       "      <th>question</th>\n",
       "      <th>answer</th>\n",
       "      <th>Unnamed: 8</th>\n",
       "      <th>Unnamed: 9</th>\n",
       "      <th>Unnamed: 10</th>\n",
       "      <th>Unnamed: 11</th>\n",
       "      <th>Unnamed: 12</th>\n",
       "    </tr>\n",
       "  </thead>\n",
       "  <tbody>\n",
       "    <tr>\n",
       "      <th>0</th>\n",
       "      <td>1</td>\n",
       "      <td>Word(fact_id=1, question='dreigen', answer=['t...</td>\n",
       "      <td>1146363.0</td>\n",
       "      <td>inf</td>\n",
       "      <td>False</td>\n",
       "      <td>1</td>\n",
       "      <td>dreigen</td>\n",
       "      <td>['threaten', 'to threaten']</td>\n",
       "      <td>NaN</td>\n",
       "      <td>NaN</td>\n",
       "      <td>NaN</td>\n",
       "      <td>NaN</td>\n",
       "      <td>NaN</td>\n",
       "    </tr>\n",
       "    <tr>\n",
       "      <th>1</th>\n",
       "      <td>2</td>\n",
       "      <td>Word(fact_id=2, question='voldoende', answer=[...</td>\n",
       "      <td>1154674.0</td>\n",
       "      <td>1770.0</td>\n",
       "      <td>False</td>\n",
       "      <td>2</td>\n",
       "      <td>voldoende</td>\n",
       "      <td>['sufficient', 'enough']</td>\n",
       "      <td>NaN</td>\n",
       "      <td>NaN</td>\n",
       "      <td>NaN</td>\n",
       "      <td>NaN</td>\n",
       "      <td>NaN</td>\n",
       "    </tr>\n",
       "    <tr>\n",
       "      <th>2</th>\n",
       "      <td>3</td>\n",
       "      <td>Word(fact_id=3, question='bewaren', answer=['k...</td>\n",
       "      <td>1159538.0</td>\n",
       "      <td>inf</td>\n",
       "      <td>True</td>\n",
       "      <td>3</td>\n",
       "      <td>bewaren</td>\n",
       "      <td>['keep', 'to keep']</td>\n",
       "      <td>NaN</td>\n",
       "      <td>NaN</td>\n",
       "      <td>NaN</td>\n",
       "      <td>NaN</td>\n",
       "      <td>NaN</td>\n",
       "    </tr>\n",
       "    <tr>\n",
       "      <th>3</th>\n",
       "      <td>4</td>\n",
       "      <td>Word(fact_id=4, question='gemiddeld', answer=[...</td>\n",
       "      <td>1168089.0</td>\n",
       "      <td>inf</td>\n",
       "      <td>True</td>\n",
       "      <td>4</td>\n",
       "      <td>gemiddeld</td>\n",
       "      <td>['average', 'on average']</td>\n",
       "      <td>NaN</td>\n",
       "      <td>NaN</td>\n",
       "      <td>NaN</td>\n",
       "      <td>NaN</td>\n",
       "      <td>NaN</td>\n",
       "    </tr>\n",
       "    <tr>\n",
       "      <th>4</th>\n",
       "      <td>5</td>\n",
       "      <td>Word(fact_id=5, question='verwachten', answer=...</td>\n",
       "      <td>1173078.0</td>\n",
       "      <td>inf</td>\n",
       "      <td>True</td>\n",
       "      <td>5</td>\n",
       "      <td>verwachten</td>\n",
       "      <td>['expect', 'to expect']</td>\n",
       "      <td>NaN</td>\n",
       "      <td>NaN</td>\n",
       "      <td>NaN</td>\n",
       "      <td>NaN</td>\n",
       "      <td>NaN</td>\n",
       "    </tr>\n",
       "  </tbody>\n",
       "</table>\n",
       "</div>"
      ],
      "text/plain": [
       "   trial                                               fact  start_time  \\\n",
       "0      1  Word(fact_id=1, question='dreigen', answer=['t...   1146363.0   \n",
       "1      2  Word(fact_id=2, question='voldoende', answer=[...   1154674.0   \n",
       "2      3  Word(fact_id=3, question='bewaren', answer=['k...   1159538.0   \n",
       "3      4  Word(fact_id=4, question='gemiddeld', answer=[...   1168089.0   \n",
       "4      5  Word(fact_id=5, question='verwachten', answer=...   1173078.0   \n",
       "\n",
       "       rt  correct  fact_id    question                       answer  \\\n",
       "0     inf    False        1     dreigen  ['threaten', 'to threaten']   \n",
       "1  1770.0    False        2   voldoende     ['sufficient', 'enough']   \n",
       "2     inf     True        3     bewaren          ['keep', 'to keep']   \n",
       "3     inf     True        4   gemiddeld    ['average', 'on average']   \n",
       "4     inf     True        5  verwachten      ['expect', 'to expect']   \n",
       "\n",
       "   Unnamed: 8  Unnamed: 9  Unnamed: 10  Unnamed: 11  Unnamed: 12  \n",
       "0         NaN         NaN          NaN          NaN          NaN  \n",
       "1         NaN         NaN          NaN          NaN          NaN  \n",
       "2         NaN         NaN          NaN          NaN          NaN  \n",
       "3         NaN         NaN          NaN          NaN          NaN  \n",
       "4         NaN         NaN          NaN          NaN          NaN  "
      ]
     },
     "execution_count": 104,
     "metadata": {},
     "output_type": "execute_result"
    }
   ],
   "source": [
    "tes.head()"
   ]
  },
  {
   "cell_type": "code",
   "execution_count": 61,
   "metadata": {},
   "outputs": [
    {
     "data": {
      "text/plain": [
       "89012.44444444444"
      ]
     },
     "execution_count": 61,
     "metadata": {},
     "output_type": "execute_result"
    }
   ],
   "source": [
    "# Avergae RT\n",
    "np.average([x for x in tes[\"rt\"].values if x!=np.Inf])"
   ]
  },
  {
   "cell_type": "code",
   "execution_count": 63,
   "metadata": {},
   "outputs": [
    {
     "data": {
      "text/plain": [
       "True     30\n",
       "False     7\n",
       "Name: correct, dtype: int64"
      ]
     },
     "execution_count": 63,
     "metadata": {},
     "output_type": "execute_result"
    }
   ],
   "source": [
    "# No of correct/wrong in encounter 1\n",
    "tes[\"correct\"].value_counts()"
   ]
  },
  {
   "cell_type": "code",
   "execution_count": 65,
   "metadata": {},
   "outputs": [
    {
     "data": {
      "text/plain": [
       "37"
      ]
     },
     "execution_count": 65,
     "metadata": {},
     "output_type": "execute_result"
    }
   ],
   "source": [
    "len(tes)"
   ]
  },
  {
   "cell_type": "markdown",
   "metadata": {},
   "source": [
    "## Comparing Test and training/Contest"
   ]
  },
  {
   "cell_type": "code",
   "execution_count": 90,
   "metadata": {},
   "outputs": [
    {
     "name": "stderr",
     "output_type": "stream",
     "text": [
      "/var/folders/s2/psn1kzxd2_972xy94t5fr4cr0000gn/T/ipykernel_51267/3378082505.py:1: FutureWarning: The default value of numeric_only in DataFrameGroupBy.mean is deprecated. In a future version, numeric_only will default to False. Either specify numeric_only or select only columns which should be valid for the function.\n",
      "  tes_grouped = tes.groupby('fact_id').agg('mean')\n"
     ]
    },
    {
     "data": {
      "text/html": [
       "<div>\n",
       "<style scoped>\n",
       "    .dataframe tbody tr th:only-of-type {\n",
       "        vertical-align: middle;\n",
       "    }\n",
       "\n",
       "    .dataframe tbody tr th {\n",
       "        vertical-align: top;\n",
       "    }\n",
       "\n",
       "    .dataframe thead th {\n",
       "        text-align: right;\n",
       "    }\n",
       "</style>\n",
       "<table border=\"1\" class=\"dataframe\">\n",
       "  <thead>\n",
       "    <tr style=\"text-align: right;\">\n",
       "      <th></th>\n",
       "      <th>trial</th>\n",
       "      <th>start_time</th>\n",
       "      <th>rt</th>\n",
       "      <th>correct</th>\n",
       "      <th>Unnamed: 8</th>\n",
       "      <th>Unnamed: 9</th>\n",
       "      <th>Unnamed: 10</th>\n",
       "      <th>Unnamed: 11</th>\n",
       "      <th>Unnamed: 12</th>\n",
       "    </tr>\n",
       "    <tr>\n",
       "      <th>fact_id</th>\n",
       "      <th></th>\n",
       "      <th></th>\n",
       "      <th></th>\n",
       "      <th></th>\n",
       "      <th></th>\n",
       "      <th></th>\n",
       "      <th></th>\n",
       "      <th></th>\n",
       "      <th></th>\n",
       "    </tr>\n",
       "  </thead>\n",
       "  <tbody>\n",
       "    <tr>\n",
       "      <th>1</th>\n",
       "      <td>9.5</td>\n",
       "      <td>1731781.0</td>\n",
       "      <td>NaN</td>\n",
       "      <td>0.5</td>\n",
       "      <td>NaN</td>\n",
       "      <td>NaN</td>\n",
       "      <td>NaN</td>\n",
       "      <td>NaN</td>\n",
       "      <td>NaN</td>\n",
       "    </tr>\n",
       "    <tr>\n",
       "      <th>2</th>\n",
       "      <td>10.5</td>\n",
       "      <td>1737620.0</td>\n",
       "      <td>2565.5</td>\n",
       "      <td>0.0</td>\n",
       "      <td>NaN</td>\n",
       "      <td>NaN</td>\n",
       "      <td>NaN</td>\n",
       "      <td>NaN</td>\n",
       "      <td>NaN</td>\n",
       "    </tr>\n",
       "    <tr>\n",
       "      <th>3</th>\n",
       "      <td>11.5</td>\n",
       "      <td>1743222.5</td>\n",
       "      <td>NaN</td>\n",
       "      <td>1.0</td>\n",
       "      <td>NaN</td>\n",
       "      <td>NaN</td>\n",
       "      <td>NaN</td>\n",
       "      <td>NaN</td>\n",
       "      <td>NaN</td>\n",
       "    </tr>\n",
       "    <tr>\n",
       "      <th>4</th>\n",
       "      <td>12.5</td>\n",
       "      <td>1750729.0</td>\n",
       "      <td>NaN</td>\n",
       "      <td>1.0</td>\n",
       "      <td>NaN</td>\n",
       "      <td>NaN</td>\n",
       "      <td>NaN</td>\n",
       "      <td>NaN</td>\n",
       "      <td>NaN</td>\n",
       "    </tr>\n",
       "    <tr>\n",
       "      <th>5</th>\n",
       "      <td>13.5</td>\n",
       "      <td>1754846.5</td>\n",
       "      <td>NaN</td>\n",
       "      <td>1.0</td>\n",
       "      <td>NaN</td>\n",
       "      <td>NaN</td>\n",
       "      <td>NaN</td>\n",
       "      <td>NaN</td>\n",
       "      <td>NaN</td>\n",
       "    </tr>\n",
       "  </tbody>\n",
       "</table>\n",
       "</div>"
      ],
      "text/plain": [
       "         trial  start_time      rt  correct  Unnamed: 8  Unnamed: 9  \\\n",
       "fact_id                                                               \n",
       "1          9.5   1731781.0     NaN      0.5         NaN         NaN   \n",
       "2         10.5   1737620.0  2565.5      0.0         NaN         NaN   \n",
       "3         11.5   1743222.5     NaN      1.0         NaN         NaN   \n",
       "4         12.5   1750729.0     NaN      1.0         NaN         NaN   \n",
       "5         13.5   1754846.5     NaN      1.0         NaN         NaN   \n",
       "\n",
       "         Unnamed: 10  Unnamed: 11  Unnamed: 12  \n",
       "fact_id                                         \n",
       "1                NaN          NaN          NaN  \n",
       "2                NaN          NaN          NaN  \n",
       "3                NaN          NaN          NaN  \n",
       "4                NaN          NaN          NaN  \n",
       "5                NaN          NaN          NaN  "
      ]
     },
     "execution_count": 90,
     "metadata": {},
     "output_type": "execute_result"
    }
   ],
   "source": [
    "\n",
    "tes_grouped = tes.groupby('fact_id').agg('mean')\n",
    "tes_grouped.head(5)"
   ]
  },
  {
   "cell_type": "markdown",
   "metadata": {},
   "source": [
    "## Comparing P1 and tes"
   ]
  },
  {
   "cell_type": "code",
   "execution_count": 91,
   "metadata": {},
   "outputs": [
    {
     "name": "stderr",
     "output_type": "stream",
     "text": [
      "/var/folders/s2/psn1kzxd2_972xy94t5fr4cr0000gn/T/ipykernel_51267/486987055.py:1: FutureWarning: The default value of numeric_only in DataFrameGroupBy.mean is deprecated. In a future version, numeric_only will default to False. Either specify numeric_only or select only columns which should be valid for the function.\n",
      "  p1_grouped = p1.groupby('fact_id').agg('mean')\n"
     ]
    },
    {
     "data": {
      "text/html": [
       "<div>\n",
       "<style scoped>\n",
       "    .dataframe tbody tr th:only-of-type {\n",
       "        vertical-align: middle;\n",
       "    }\n",
       "\n",
       "    .dataframe tbody tr th {\n",
       "        vertical-align: top;\n",
       "    }\n",
       "\n",
       "    .dataframe thead th {\n",
       "        text-align: right;\n",
       "    }\n",
       "</style>\n",
       "<table border=\"1\" class=\"dataframe\">\n",
       "  <thead>\n",
       "    <tr style=\"text-align: right;\">\n",
       "      <th></th>\n",
       "      <th>trial</th>\n",
       "      <th>start_time</th>\n",
       "      <th>rt</th>\n",
       "      <th>correct</th>\n",
       "      <th>encounter_2</th>\n",
       "      <th>reading_time</th>\n",
       "      <th>fogetting_rate</th>\n",
       "    </tr>\n",
       "    <tr>\n",
       "      <th>fact_id</th>\n",
       "      <th></th>\n",
       "      <th></th>\n",
       "      <th></th>\n",
       "      <th></th>\n",
       "      <th></th>\n",
       "      <th></th>\n",
       "      <th></th>\n",
       "    </tr>\n",
       "  </thead>\n",
       "  <tbody>\n",
       "    <tr>\n",
       "      <th>1</th>\n",
       "      <td>31.250000</td>\n",
       "      <td>115043.000000</td>\n",
       "      <td>NaN</td>\n",
       "      <td>0.750000</td>\n",
       "      <td>0.000000</td>\n",
       "      <td>563.6</td>\n",
       "      <td>0.262500</td>\n",
       "    </tr>\n",
       "    <tr>\n",
       "      <th>2</th>\n",
       "      <td>62.500000</td>\n",
       "      <td>444667.090909</td>\n",
       "      <td>NaN</td>\n",
       "      <td>0.909091</td>\n",
       "      <td>0.818182</td>\n",
       "      <td>680.6</td>\n",
       "      <td>0.521964</td>\n",
       "    </tr>\n",
       "    <tr>\n",
       "      <th>3</th>\n",
       "      <td>49.166667</td>\n",
       "      <td>371327.166667</td>\n",
       "      <td>NaN</td>\n",
       "      <td>0.833333</td>\n",
       "      <td>0.000000</td>\n",
       "      <td>914.6</td>\n",
       "      <td>0.296810</td>\n",
       "    </tr>\n",
       "    <tr>\n",
       "      <th>4</th>\n",
       "      <td>41.750000</td>\n",
       "      <td>329523.333333</td>\n",
       "      <td>NaN</td>\n",
       "      <td>0.833333</td>\n",
       "      <td>0.666667</td>\n",
       "      <td>1012.1</td>\n",
       "      <td>0.436458</td>\n",
       "    </tr>\n",
       "    <tr>\n",
       "      <th>5</th>\n",
       "      <td>19.666667</td>\n",
       "      <td>212758.000000</td>\n",
       "      <td>1486.333333</td>\n",
       "      <td>0.666667</td>\n",
       "      <td>0.000000</td>\n",
       "      <td>758.6</td>\n",
       "      <td>0.250391</td>\n",
       "    </tr>\n",
       "  </tbody>\n",
       "</table>\n",
       "</div>"
      ],
      "text/plain": [
       "             trial     start_time           rt   correct  encounter_2  \\\n",
       "fact_id                                                                 \n",
       "1        31.250000  115043.000000          NaN  0.750000     0.000000   \n",
       "2        62.500000  444667.090909          NaN  0.909091     0.818182   \n",
       "3        49.166667  371327.166667          NaN  0.833333     0.000000   \n",
       "4        41.750000  329523.333333          NaN  0.833333     0.666667   \n",
       "5        19.666667  212758.000000  1486.333333  0.666667     0.000000   \n",
       "\n",
       "         reading_time  fogetting_rate  \n",
       "fact_id                                \n",
       "1               563.6        0.262500  \n",
       "2               680.6        0.521964  \n",
       "3               914.6        0.296810  \n",
       "4              1012.1        0.436458  \n",
       "5               758.6        0.250391  "
      ]
     },
     "execution_count": 91,
     "metadata": {},
     "output_type": "execute_result"
    }
   ],
   "source": [
    "p1_grouped = p1.groupby('fact_id').agg('mean')\n",
    "p1_grouped.head(5)"
   ]
  },
  {
   "cell_type": "code",
   "execution_count": 93,
   "metadata": {},
   "outputs": [
    {
     "data": {
      "text/html": [
       "<div>\n",
       "<style scoped>\n",
       "    .dataframe tbody tr th:only-of-type {\n",
       "        vertical-align: middle;\n",
       "    }\n",
       "\n",
       "    .dataframe tbody tr th {\n",
       "        vertical-align: top;\n",
       "    }\n",
       "\n",
       "    .dataframe thead th {\n",
       "        text-align: right;\n",
       "    }\n",
       "</style>\n",
       "<table border=\"1\" class=\"dataframe\">\n",
       "  <thead>\n",
       "    <tr style=\"text-align: right;\">\n",
       "      <th></th>\n",
       "      <th>trial_x</th>\n",
       "      <th>start_time_x</th>\n",
       "      <th>rt_x</th>\n",
       "      <th>correct_x</th>\n",
       "      <th>Unnamed: 8</th>\n",
       "      <th>Unnamed: 9</th>\n",
       "      <th>Unnamed: 10</th>\n",
       "      <th>Unnamed: 11</th>\n",
       "      <th>Unnamed: 12</th>\n",
       "      <th>trial_y</th>\n",
       "      <th>start_time_y</th>\n",
       "      <th>rt_y</th>\n",
       "      <th>correct_y</th>\n",
       "      <th>encounter_2</th>\n",
       "      <th>reading_time</th>\n",
       "      <th>fogetting_rate</th>\n",
       "    </tr>\n",
       "    <tr>\n",
       "      <th>fact_id</th>\n",
       "      <th></th>\n",
       "      <th></th>\n",
       "      <th></th>\n",
       "      <th></th>\n",
       "      <th></th>\n",
       "      <th></th>\n",
       "      <th></th>\n",
       "      <th></th>\n",
       "      <th></th>\n",
       "      <th></th>\n",
       "      <th></th>\n",
       "      <th></th>\n",
       "      <th></th>\n",
       "      <th></th>\n",
       "      <th></th>\n",
       "      <th></th>\n",
       "    </tr>\n",
       "  </thead>\n",
       "  <tbody>\n",
       "    <tr>\n",
       "      <th>1</th>\n",
       "      <td>9.5</td>\n",
       "      <td>1731781.0</td>\n",
       "      <td>NaN</td>\n",
       "      <td>0.5</td>\n",
       "      <td>NaN</td>\n",
       "      <td>NaN</td>\n",
       "      <td>NaN</td>\n",
       "      <td>NaN</td>\n",
       "      <td>NaN</td>\n",
       "      <td>31.250000</td>\n",
       "      <td>115043.000000</td>\n",
       "      <td>NaN</td>\n",
       "      <td>0.750000</td>\n",
       "      <td>0.000000</td>\n",
       "      <td>563.6</td>\n",
       "      <td>0.262500</td>\n",
       "    </tr>\n",
       "    <tr>\n",
       "      <th>2</th>\n",
       "      <td>10.5</td>\n",
       "      <td>1737620.0</td>\n",
       "      <td>2565.5</td>\n",
       "      <td>0.0</td>\n",
       "      <td>NaN</td>\n",
       "      <td>NaN</td>\n",
       "      <td>NaN</td>\n",
       "      <td>NaN</td>\n",
       "      <td>NaN</td>\n",
       "      <td>62.500000</td>\n",
       "      <td>444667.090909</td>\n",
       "      <td>NaN</td>\n",
       "      <td>0.909091</td>\n",
       "      <td>0.818182</td>\n",
       "      <td>680.6</td>\n",
       "      <td>0.521964</td>\n",
       "    </tr>\n",
       "    <tr>\n",
       "      <th>3</th>\n",
       "      <td>11.5</td>\n",
       "      <td>1743222.5</td>\n",
       "      <td>NaN</td>\n",
       "      <td>1.0</td>\n",
       "      <td>NaN</td>\n",
       "      <td>NaN</td>\n",
       "      <td>NaN</td>\n",
       "      <td>NaN</td>\n",
       "      <td>NaN</td>\n",
       "      <td>49.166667</td>\n",
       "      <td>371327.166667</td>\n",
       "      <td>NaN</td>\n",
       "      <td>0.833333</td>\n",
       "      <td>0.000000</td>\n",
       "      <td>914.6</td>\n",
       "      <td>0.296810</td>\n",
       "    </tr>\n",
       "    <tr>\n",
       "      <th>4</th>\n",
       "      <td>12.5</td>\n",
       "      <td>1750729.0</td>\n",
       "      <td>NaN</td>\n",
       "      <td>1.0</td>\n",
       "      <td>NaN</td>\n",
       "      <td>NaN</td>\n",
       "      <td>NaN</td>\n",
       "      <td>NaN</td>\n",
       "      <td>NaN</td>\n",
       "      <td>41.750000</td>\n",
       "      <td>329523.333333</td>\n",
       "      <td>NaN</td>\n",
       "      <td>0.833333</td>\n",
       "      <td>0.666667</td>\n",
       "      <td>1012.1</td>\n",
       "      <td>0.436458</td>\n",
       "    </tr>\n",
       "    <tr>\n",
       "      <th>5</th>\n",
       "      <td>13.5</td>\n",
       "      <td>1754846.5</td>\n",
       "      <td>NaN</td>\n",
       "      <td>1.0</td>\n",
       "      <td>NaN</td>\n",
       "      <td>NaN</td>\n",
       "      <td>NaN</td>\n",
       "      <td>NaN</td>\n",
       "      <td>NaN</td>\n",
       "      <td>19.666667</td>\n",
       "      <td>212758.000000</td>\n",
       "      <td>1486.333333</td>\n",
       "      <td>0.666667</td>\n",
       "      <td>0.000000</td>\n",
       "      <td>758.6</td>\n",
       "      <td>0.250391</td>\n",
       "    </tr>\n",
       "  </tbody>\n",
       "</table>\n",
       "</div>"
      ],
      "text/plain": [
       "         trial_x  start_time_x    rt_x  correct_x  Unnamed: 8  Unnamed: 9  \\\n",
       "fact_id                                                                     \n",
       "1            9.5     1731781.0     NaN        0.5         NaN         NaN   \n",
       "2           10.5     1737620.0  2565.5        0.0         NaN         NaN   \n",
       "3           11.5     1743222.5     NaN        1.0         NaN         NaN   \n",
       "4           12.5     1750729.0     NaN        1.0         NaN         NaN   \n",
       "5           13.5     1754846.5     NaN        1.0         NaN         NaN   \n",
       "\n",
       "         Unnamed: 10  Unnamed: 11  Unnamed: 12    trial_y   start_time_y  \\\n",
       "fact_id                                                                    \n",
       "1                NaN          NaN          NaN  31.250000  115043.000000   \n",
       "2                NaN          NaN          NaN  62.500000  444667.090909   \n",
       "3                NaN          NaN          NaN  49.166667  371327.166667   \n",
       "4                NaN          NaN          NaN  41.750000  329523.333333   \n",
       "5                NaN          NaN          NaN  19.666667  212758.000000   \n",
       "\n",
       "                rt_y  correct_y  encounter_2  reading_time  fogetting_rate  \n",
       "fact_id                                                                     \n",
       "1                NaN   0.750000     0.000000         563.6        0.262500  \n",
       "2                NaN   0.909091     0.818182         680.6        0.521964  \n",
       "3                NaN   0.833333     0.000000         914.6        0.296810  \n",
       "4                NaN   0.833333     0.666667        1012.1        0.436458  \n",
       "5        1486.333333   0.666667     0.000000         758.6        0.250391  "
      ]
     },
     "execution_count": 93,
     "metadata": {},
     "output_type": "execute_result"
    }
   ],
   "source": [
    "merge_tes_p1_groups = pd.merge(tes_grouped, p1_grouped, how = \"left\", on = \"fact_id\")\n",
    "merge_tes_p1_groups.head(5)"
   ]
  },
  {
   "cell_type": "code",
   "execution_count": 98,
   "metadata": {},
   "outputs": [
    {
     "data": {
      "text/plain": [
       "20"
      ]
     },
     "execution_count": 98,
     "metadata": {},
     "output_type": "execute_result"
    }
   ],
   "source": [
    "len(merge_tes_p1_groups)"
   ]
  },
  {
   "cell_type": "code",
   "execution_count": 97,
   "metadata": {},
   "outputs": [
    {
     "data": {
      "text/plain": [
       "11"
      ]
     },
     "execution_count": 97,
     "metadata": {},
     "output_type": "execute_result"
    }
   ],
   "source": [
    "# Count how many times the avg correctness is greater in the grouped P1 than the grouped P2\n",
    "len(merge_tes_p1_groups[merge_tes_p1_groups.correct_x > merge_tes_p1_groups.correct_y])"
   ]
  },
  {
   "cell_type": "code",
   "execution_count": null,
   "metadata": {},
   "outputs": [],
   "source": []
  },
  {
   "cell_type": "markdown",
   "metadata": {},
   "source": [
    "## Comparing P2 and tes"
   ]
  },
  {
   "cell_type": "code",
   "execution_count": 99,
   "metadata": {},
   "outputs": [
    {
     "name": "stderr",
     "output_type": "stream",
     "text": [
      "/var/folders/s2/psn1kzxd2_972xy94t5fr4cr0000gn/T/ipykernel_51267/581003624.py:1: FutureWarning: The default value of numeric_only in DataFrameGroupBy.mean is deprecated. In a future version, numeric_only will default to False. Either specify numeric_only or select only columns which should be valid for the function.\n",
      "  p2_grouped = p2.groupby('fact_id').agg('mean')\n"
     ]
    },
    {
     "data": {
      "text/html": [
       "<div>\n",
       "<style scoped>\n",
       "    .dataframe tbody tr th:only-of-type {\n",
       "        vertical-align: middle;\n",
       "    }\n",
       "\n",
       "    .dataframe tbody tr th {\n",
       "        vertical-align: top;\n",
       "    }\n",
       "\n",
       "    .dataframe thead th {\n",
       "        text-align: right;\n",
       "    }\n",
       "</style>\n",
       "<table border=\"1\" class=\"dataframe\">\n",
       "  <thead>\n",
       "    <tr style=\"text-align: right;\">\n",
       "      <th></th>\n",
       "      <th>trial</th>\n",
       "      <th>start_time</th>\n",
       "      <th>rt</th>\n",
       "      <th>correct</th>\n",
       "      <th>encounter_2</th>\n",
       "      <th>reading_time</th>\n",
       "      <th>fogetting_rate</th>\n",
       "    </tr>\n",
       "    <tr>\n",
       "      <th>fact_id</th>\n",
       "      <th></th>\n",
       "      <th></th>\n",
       "      <th></th>\n",
       "      <th></th>\n",
       "      <th></th>\n",
       "      <th></th>\n",
       "      <th></th>\n",
       "    </tr>\n",
       "  </thead>\n",
       "  <tbody>\n",
       "    <tr>\n",
       "      <th>1</th>\n",
       "      <td>16.800000</td>\n",
       "      <td>1.144845e+06</td>\n",
       "      <td>330421.6</td>\n",
       "      <td>0.800000</td>\n",
       "      <td>0.0</td>\n",
       "      <td>875.6</td>\n",
       "      <td>0.301406</td>\n",
       "    </tr>\n",
       "    <tr>\n",
       "      <th>2</th>\n",
       "      <td>62.500000</td>\n",
       "      <td>1.750866e+06</td>\n",
       "      <td>NaN</td>\n",
       "      <td>0.583333</td>\n",
       "      <td>0.0</td>\n",
       "      <td>622.1</td>\n",
       "      <td>0.391797</td>\n",
       "    </tr>\n",
       "    <tr>\n",
       "      <th>3</th>\n",
       "      <td>40.583333</td>\n",
       "      <td>1.616873e+06</td>\n",
       "      <td>NaN</td>\n",
       "      <td>0.916667</td>\n",
       "      <td>0.0</td>\n",
       "      <td>1304.6</td>\n",
       "      <td>0.427734</td>\n",
       "    </tr>\n",
       "    <tr>\n",
       "      <th>4</th>\n",
       "      <td>18.666667</td>\n",
       "      <td>1.482028e+06</td>\n",
       "      <td>1338.0</td>\n",
       "      <td>0.666667</td>\n",
       "      <td>0.0</td>\n",
       "      <td>1285.1</td>\n",
       "      <td>0.250391</td>\n",
       "    </tr>\n",
       "    <tr>\n",
       "      <th>5</th>\n",
       "      <td>56.322581</td>\n",
       "      <td>1.712316e+06</td>\n",
       "      <td>NaN</td>\n",
       "      <td>0.935484</td>\n",
       "      <td>0.0</td>\n",
       "      <td>797.6</td>\n",
       "      <td>0.668536</td>\n",
       "    </tr>\n",
       "  </tbody>\n",
       "</table>\n",
       "</div>"
      ],
      "text/plain": [
       "             trial    start_time        rt   correct  encounter_2  \\\n",
       "fact_id                                                             \n",
       "1        16.800000  1.144845e+06  330421.6  0.800000          0.0   \n",
       "2        62.500000  1.750866e+06       NaN  0.583333          0.0   \n",
       "3        40.583333  1.616873e+06       NaN  0.916667          0.0   \n",
       "4        18.666667  1.482028e+06    1338.0  0.666667          0.0   \n",
       "5        56.322581  1.712316e+06       NaN  0.935484          0.0   \n",
       "\n",
       "         reading_time  fogetting_rate  \n",
       "fact_id                                \n",
       "1               875.6        0.301406  \n",
       "2               622.1        0.391797  \n",
       "3              1304.6        0.427734  \n",
       "4              1285.1        0.250391  \n",
       "5               797.6        0.668536  "
      ]
     },
     "execution_count": 99,
     "metadata": {},
     "output_type": "execute_result"
    }
   ],
   "source": [
    "p2_grouped = p2.groupby('fact_id').agg('mean')\n",
    "p2_grouped.head(5)"
   ]
  },
  {
   "cell_type": "code",
   "execution_count": 100,
   "metadata": {},
   "outputs": [
    {
     "data": {
      "text/html": [
       "<div>\n",
       "<style scoped>\n",
       "    .dataframe tbody tr th:only-of-type {\n",
       "        vertical-align: middle;\n",
       "    }\n",
       "\n",
       "    .dataframe tbody tr th {\n",
       "        vertical-align: top;\n",
       "    }\n",
       "\n",
       "    .dataframe thead th {\n",
       "        text-align: right;\n",
       "    }\n",
       "</style>\n",
       "<table border=\"1\" class=\"dataframe\">\n",
       "  <thead>\n",
       "    <tr style=\"text-align: right;\">\n",
       "      <th></th>\n",
       "      <th>trial_x</th>\n",
       "      <th>start_time_x</th>\n",
       "      <th>rt_x</th>\n",
       "      <th>correct_x</th>\n",
       "      <th>Unnamed: 8</th>\n",
       "      <th>Unnamed: 9</th>\n",
       "      <th>Unnamed: 10</th>\n",
       "      <th>Unnamed: 11</th>\n",
       "      <th>Unnamed: 12</th>\n",
       "      <th>trial_y</th>\n",
       "      <th>start_time_y</th>\n",
       "      <th>rt_y</th>\n",
       "      <th>correct_y</th>\n",
       "      <th>encounter_2</th>\n",
       "      <th>reading_time</th>\n",
       "      <th>fogetting_rate</th>\n",
       "    </tr>\n",
       "    <tr>\n",
       "      <th>fact_id</th>\n",
       "      <th></th>\n",
       "      <th></th>\n",
       "      <th></th>\n",
       "      <th></th>\n",
       "      <th></th>\n",
       "      <th></th>\n",
       "      <th></th>\n",
       "      <th></th>\n",
       "      <th></th>\n",
       "      <th></th>\n",
       "      <th></th>\n",
       "      <th></th>\n",
       "      <th></th>\n",
       "      <th></th>\n",
       "      <th></th>\n",
       "      <th></th>\n",
       "    </tr>\n",
       "  </thead>\n",
       "  <tbody>\n",
       "    <tr>\n",
       "      <th>1</th>\n",
       "      <td>9.5</td>\n",
       "      <td>1731781.0</td>\n",
       "      <td>NaN</td>\n",
       "      <td>0.5</td>\n",
       "      <td>NaN</td>\n",
       "      <td>NaN</td>\n",
       "      <td>NaN</td>\n",
       "      <td>NaN</td>\n",
       "      <td>NaN</td>\n",
       "      <td>16.800000</td>\n",
       "      <td>1.144845e+06</td>\n",
       "      <td>330421.6</td>\n",
       "      <td>0.800000</td>\n",
       "      <td>0.0</td>\n",
       "      <td>875.6</td>\n",
       "      <td>0.301406</td>\n",
       "    </tr>\n",
       "    <tr>\n",
       "      <th>2</th>\n",
       "      <td>10.5</td>\n",
       "      <td>1737620.0</td>\n",
       "      <td>2565.5</td>\n",
       "      <td>0.0</td>\n",
       "      <td>NaN</td>\n",
       "      <td>NaN</td>\n",
       "      <td>NaN</td>\n",
       "      <td>NaN</td>\n",
       "      <td>NaN</td>\n",
       "      <td>62.500000</td>\n",
       "      <td>1.750866e+06</td>\n",
       "      <td>NaN</td>\n",
       "      <td>0.583333</td>\n",
       "      <td>0.0</td>\n",
       "      <td>622.1</td>\n",
       "      <td>0.391797</td>\n",
       "    </tr>\n",
       "    <tr>\n",
       "      <th>3</th>\n",
       "      <td>11.5</td>\n",
       "      <td>1743222.5</td>\n",
       "      <td>NaN</td>\n",
       "      <td>1.0</td>\n",
       "      <td>NaN</td>\n",
       "      <td>NaN</td>\n",
       "      <td>NaN</td>\n",
       "      <td>NaN</td>\n",
       "      <td>NaN</td>\n",
       "      <td>40.583333</td>\n",
       "      <td>1.616873e+06</td>\n",
       "      <td>NaN</td>\n",
       "      <td>0.916667</td>\n",
       "      <td>0.0</td>\n",
       "      <td>1304.6</td>\n",
       "      <td>0.427734</td>\n",
       "    </tr>\n",
       "    <tr>\n",
       "      <th>4</th>\n",
       "      <td>12.5</td>\n",
       "      <td>1750729.0</td>\n",
       "      <td>NaN</td>\n",
       "      <td>1.0</td>\n",
       "      <td>NaN</td>\n",
       "      <td>NaN</td>\n",
       "      <td>NaN</td>\n",
       "      <td>NaN</td>\n",
       "      <td>NaN</td>\n",
       "      <td>18.666667</td>\n",
       "      <td>1.482028e+06</td>\n",
       "      <td>1338.0</td>\n",
       "      <td>0.666667</td>\n",
       "      <td>0.0</td>\n",
       "      <td>1285.1</td>\n",
       "      <td>0.250391</td>\n",
       "    </tr>\n",
       "    <tr>\n",
       "      <th>5</th>\n",
       "      <td>13.5</td>\n",
       "      <td>1754846.5</td>\n",
       "      <td>NaN</td>\n",
       "      <td>1.0</td>\n",
       "      <td>NaN</td>\n",
       "      <td>NaN</td>\n",
       "      <td>NaN</td>\n",
       "      <td>NaN</td>\n",
       "      <td>NaN</td>\n",
       "      <td>56.322581</td>\n",
       "      <td>1.712316e+06</td>\n",
       "      <td>NaN</td>\n",
       "      <td>0.935484</td>\n",
       "      <td>0.0</td>\n",
       "      <td>797.6</td>\n",
       "      <td>0.668536</td>\n",
       "    </tr>\n",
       "  </tbody>\n",
       "</table>\n",
       "</div>"
      ],
      "text/plain": [
       "         trial_x  start_time_x    rt_x  correct_x  Unnamed: 8  Unnamed: 9  \\\n",
       "fact_id                                                                     \n",
       "1            9.5     1731781.0     NaN        0.5         NaN         NaN   \n",
       "2           10.5     1737620.0  2565.5        0.0         NaN         NaN   \n",
       "3           11.5     1743222.5     NaN        1.0         NaN         NaN   \n",
       "4           12.5     1750729.0     NaN        1.0         NaN         NaN   \n",
       "5           13.5     1754846.5     NaN        1.0         NaN         NaN   \n",
       "\n",
       "         Unnamed: 10  Unnamed: 11  Unnamed: 12    trial_y  start_time_y  \\\n",
       "fact_id                                                                   \n",
       "1                NaN          NaN          NaN  16.800000  1.144845e+06   \n",
       "2                NaN          NaN          NaN  62.500000  1.750866e+06   \n",
       "3                NaN          NaN          NaN  40.583333  1.616873e+06   \n",
       "4                NaN          NaN          NaN  18.666667  1.482028e+06   \n",
       "5                NaN          NaN          NaN  56.322581  1.712316e+06   \n",
       "\n",
       "             rt_y  correct_y  encounter_2  reading_time  fogetting_rate  \n",
       "fact_id                                                                  \n",
       "1        330421.6   0.800000          0.0         875.6        0.301406  \n",
       "2             NaN   0.583333          0.0         622.1        0.391797  \n",
       "3             NaN   0.916667          0.0        1304.6        0.427734  \n",
       "4          1338.0   0.666667          0.0        1285.1        0.250391  \n",
       "5             NaN   0.935484          0.0         797.6        0.668536  "
      ]
     },
     "execution_count": 100,
     "metadata": {},
     "output_type": "execute_result"
    }
   ],
   "source": [
    "merge_tes_p2_groups = pd.merge(tes_grouped, p2_grouped, how = \"left\", on = \"fact_id\")\n",
    "merge_tes_p2_groups.head(5)"
   ]
  },
  {
   "cell_type": "code",
   "execution_count": 101,
   "metadata": {},
   "outputs": [
    {
     "data": {
      "text/plain": [
       "20"
      ]
     },
     "execution_count": 101,
     "metadata": {},
     "output_type": "execute_result"
    }
   ],
   "source": [
    "len(merge_tes_p2_groups)"
   ]
  },
  {
   "cell_type": "code",
   "execution_count": 103,
   "metadata": {},
   "outputs": [
    {
     "data": {
      "text/plain": [
       "13"
      ]
     },
     "execution_count": 103,
     "metadata": {},
     "output_type": "execute_result"
    }
   ],
   "source": [
    "# Count how many times the avg correctness is greater in the grouped P1 than the grouped P2\n",
    "len(merge_tes_p2_groups[merge_tes_p2_groups.correct_x > merge_tes_p2_groups.correct_y])"
   ]
  }
 ],
 "metadata": {
  "kernelspec": {
   "display_name": "Python 3.10.8 64-bit",
   "language": "python",
   "name": "python3"
  },
  "language_info": {
   "codemirror_mode": {
    "name": "ipython",
    "version": 3
   },
   "file_extension": ".py",
   "mimetype": "text/x-python",
   "name": "python",
   "nbconvert_exporter": "python",
   "pygments_lexer": "ipython3",
   "version": "3.10.8"
  },
  "orig_nbformat": 4,
  "vscode": {
   "interpreter": {
    "hash": "b0fa6594d8f4cbf19f97940f81e996739fb7646882a419484c72d19e05852a7e"
   }
  }
 },
 "nbformat": 4,
 "nbformat_minor": 2
}
