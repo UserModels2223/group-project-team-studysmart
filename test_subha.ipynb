{
 "cells": [
  {
   "cell_type": "code",
   "execution_count": 1,
   "metadata": {},
   "outputs": [],
   "source": [
    "# from slimstampen.spacingmodel import SpacingModel, Fact, Response\n",
    "from slimstampen.spacingmodel import UIFeatures, Fact, Response"
   ]
  },
  {
   "cell_type": "code",
   "execution_count": 2,
   "metadata": {},
   "outputs": [],
   "source": [
    "m = UIFeatures()"
   ]
  },
  {
   "cell_type": "code",
   "execution_count": 3,
   "metadata": {},
   "outputs": [
    {
     "data": {
      "text/html": [
       "<div>\n",
       "<style scoped>\n",
       "    .dataframe tbody tr th:only-of-type {\n",
       "        vertical-align: middle;\n",
       "    }\n",
       "\n",
       "    .dataframe tbody tr th {\n",
       "        vertical-align: top;\n",
       "    }\n",
       "\n",
       "    .dataframe thead th {\n",
       "        text-align: right;\n",
       "    }\n",
       "</style>\n",
       "<table border=\"1\" class=\"dataframe\">\n",
       "  <thead>\n",
       "    <tr style=\"text-align: right;\">\n",
       "      <th></th>\n",
       "      <th>id</th>\n",
       "      <th>question</th>\n",
       "      <th>context_1</th>\n",
       "      <th>context_2</th>\n",
       "      <th>answer</th>\n",
       "    </tr>\n",
       "  </thead>\n",
       "  <tbody>\n",
       "    <tr>\n",
       "      <th>0</th>\n",
       "      <td>1</td>\n",
       "      <td>gemiddeld</td>\n",
       "      <td>Deze opleiding heeft 'gemiddeld' 60 studenten ...</td>\n",
       "      <td>De temperatuur in Nederland is 'gemiddeld' 15 ...</td>\n",
       "      <td>average</td>\n",
       "    </tr>\n",
       "    <tr>\n",
       "      <th>1</th>\n",
       "      <td>2</td>\n",
       "      <td>vervelend</td>\n",
       "      <td>Ik vind het 'vervelend' als de koffie op is.</td>\n",
       "      <td>Doe eens niet zo 'vervelend'.</td>\n",
       "      <td>annoying</td>\n",
       "    </tr>\n",
       "    <tr>\n",
       "      <th>2</th>\n",
       "      <td>3</td>\n",
       "      <td>algemeen</td>\n",
       "      <td>Dat is niet 'algemeen' bekend.</td>\n",
       "      <td>Over het 'algemeen' ben ik hier heel goed in.</td>\n",
       "      <td>general</td>\n",
       "    </tr>\n",
       "    <tr>\n",
       "      <th>3</th>\n",
       "      <td>4</td>\n",
       "      <td>matig</td>\n",
       "      <td>De burger smaakte een beetje 'matig'.</td>\n",
       "      <td>Ik ben 'matig' enthousiast over deze activiteit.</td>\n",
       "      <td>mediocre</td>\n",
       "    </tr>\n",
       "  </tbody>\n",
       "</table>\n",
       "</div>"
      ],
      "text/plain": [
       "   id   question                                          context_1  \\\n",
       "0   1  gemiddeld  Deze opleiding heeft 'gemiddeld' 60 studenten ...   \n",
       "1   2  vervelend       Ik vind het 'vervelend' als de koffie op is.   \n",
       "2   3   algemeen                     Dat is niet 'algemeen' bekend.   \n",
       "3   4      matig              De burger smaakte een beetje 'matig'.   \n",
       "\n",
       "                                           context_2    answer  \n",
       "0  De temperatuur in Nederland is 'gemiddeld' 15 ...   average  \n",
       "1                      Doe eens niet zo 'vervelend'.  annoying  \n",
       "2      Over het 'algemeen' ben ik hier heel goed in.   general  \n",
       "3   Ik ben 'matig' enthousiast over deze activiteit.  mediocre  "
      ]
     },
     "execution_count": 3,
     "metadata": {},
     "output_type": "execute_result"
    }
   ],
   "source": [
    "# reading from a CSV\n",
    "import pandas as pd\n",
    "# df = pd.read_table(\"./vocabulary_marked.csv\", names=[\"id\",\"context_1\", \"context_2\", \"answer\"], index_col=0, sep = \",\", lineterminator='\\n')\n",
    "df = pd.read_csv(\"./vocabulary_marked.csv\")\n",
    "df.head(4)"
   ]
  },
  {
   "cell_type": "code",
   "execution_count": 4,
   "metadata": {},
   "outputs": [
    {
     "data": {
      "text/plain": [
       "'gemiddeld'"
      ]
     },
     "execution_count": 4,
     "metadata": {},
     "output_type": "execute_result"
    }
   ],
   "source": [
    "UIFeatures().ret_translated_word(\"average\")"
   ]
  },
  {
   "cell_type": "code",
   "execution_count": 5,
   "metadata": {},
   "outputs": [
    {
     "data": {
      "text/plain": [
       "'vervelend'"
      ]
     },
     "execution_count": 5,
     "metadata": {},
     "output_type": "execute_result"
    }
   ],
   "source": [
    "UIFeatures().word_from_context(\"Ik vind het 'vervelend' als de koffie op is.\")"
   ]
  },
  {
   "cell_type": "code",
   "execution_count": 6,
   "metadata": {},
   "outputs": [
    {
     "data": {
      "text/plain": [
       "[Fact(fact_id=1, context_1=\"Deze opleiding heeft 'gemiddeld' 60 studenten per jaar.\", context_2=\"De temperatuur in Nederland is 'gemiddeld' 15 graden.\", answer='average', chosen_context=''),\n",
       " Fact(fact_id=2, context_1=\"Ik vind het 'vervelend' als de koffie op is.\", context_2=\"Doe eens niet zo 'vervelend'.\", answer='annoying', chosen_context='')]"
      ]
     },
     "execution_count": 6,
     "metadata": {},
     "output_type": "execute_result"
    }
   ],
   "source": [
    "# adding all facts to spacing model\n",
    "m = UIFeatures()\n",
    "for row in df.itertuples():\n",
    "    m.add_fact(Fact(fact_id = row.id,context_1= row.context_1, context_2 = row.context_2, answer=row.answer, chosen_context=\"\"))\n",
    "m.facts[:2]"
   ]
  },
  {
   "cell_type": "code",
   "execution_count": 7,
   "metadata": {},
   "outputs": [
    {
     "data": {
      "text/plain": [
       "(Fact(fact_id=1, context_1=\"Deze opleiding heeft 'gemiddeld' 60 studenten per jaar.\", context_2=\"De temperatuur in Nederland is 'gemiddeld' 15 graden.\", answer='average', chosen_context=''),\n",
       " True)"
      ]
     },
     "execution_count": 7,
     "metadata": {},
     "output_type": "execute_result"
    }
   ],
   "source": [
    "next_fact, new = m.get_next_fact(current_time = 34000)\n",
    "next_fact, new"
   ]
  },
  {
   "cell_type": "code",
   "execution_count": 8,
   "metadata": {},
   "outputs": [],
   "source": [
    "resp = Response(fact = next_fact, start_time = 34029, rt = 2207, correct = True)\n",
    "\n",
    "m.register_response(resp)"
   ]
  },
  {
   "cell_type": "code",
   "execution_count": 9,
   "metadata": {},
   "outputs": [
    {
     "data": {
      "text/plain": [
       "[Response(fact=Fact(fact_id=1, context_1=\"Deze opleiding heeft 'gemiddeld' 60 studenten per jaar.\", context_2=\"De temperatuur in Nederland is 'gemiddeld' 15 graden.\", answer='average', chosen_context=''), start_time=34029, rt=2207, correct=True)]"
      ]
     },
     "execution_count": 9,
     "metadata": {},
     "output_type": "execute_result"
    }
   ],
   "source": [
    "m.responses"
   ]
  },
  {
   "cell_type": "markdown",
   "metadata": {},
   "source": [
    "### Asking for more facts\n",
    "\n",
    "When it's time to present the next trial, ask for another fact. With default parameter settings, the model chooses to immediately reinforce the fact that was just introduced, because it is likely to be forgotten otherwise. Note that this fact is now no longer marked as 'new'."
   ]
  },
  {
   "cell_type": "code",
   "execution_count": 10,
   "metadata": {},
   "outputs": [
    {
     "data": {
      "text/plain": [
       "(Fact(fact_id=1, context_1=\"Deze opleiding heeft 'gemiddeld' 60 studenten per jaar.\", context_2=\"De temperatuur in Nederland is 'gemiddeld' 15 graden.\", answer='average', chosen_context=''),\n",
       " False)"
      ]
     },
     "execution_count": 10,
     "metadata": {},
     "output_type": "execute_result"
    }
   ],
   "source": [
    "next_fact, new = m.get_next_fact(current_time = 38000)\n",
    "next_fact, new"
   ]
  },
  {
   "cell_type": "markdown",
   "metadata": {},
   "source": [
    "Behind the scenes, the `get_next_fact` method has checked the expected activation of all facts slightly in the future (by default the model looks ahead 15 seconds). Since the activation of the first fact is predicted to be lower than the threshold of -0.8, it is selected for repetition. Note that facts that have not yet been studied have an activation of $-\\infty$. "
   ]
  },
  {
   "cell_type": "code",
   "execution_count": 11,
   "metadata": {},
   "outputs": [
    {
     "name": "stdout",
     "output_type": "stream",
     "text": [
      "Fact(fact_id=1, context_1=\"Deze opleiding heeft 'gemiddeld' 60 studenten per jaar.\", context_2=\"De temperatuur in Nederland is 'gemiddeld' 15 graden.\", answer='average', chosen_context='') -0.8828734492111224\n",
      "Fact(fact_id=2, context_1=\"Ik vind het 'vervelend' als de koffie op is.\", context_2=\"Doe eens niet zo 'vervelend'.\", answer='annoying', chosen_context='') -inf\n",
      "Fact(fact_id=3, context_1=\"Dat is niet 'algemeen' bekend.\", context_2=\"Over het 'algemeen' ben ik hier heel goed in.\", answer='general', chosen_context='') -inf\n",
      "Fact(fact_id=4, context_1=\"De burger smaakte een beetje 'matig'.\", context_2=\"Ik ben 'matig' enthousiast over deze activiteit.\", answer='mediocre', chosen_context='') -inf\n",
      "Fact(fact_id=5, context_1=\"Ze 'verwachten' dat het morgen gaat regenen.\", context_2=\"Wij 'verwachten' dat jij het goed gaat doen.\", answer='expect', chosen_context='') -inf\n",
      "Fact(fact_id=6, context_1=\"Ben je nou alweer je sleutel 'vergeten'?\", context_2=\"Sorry, we waren 'vergeten' de wiki aan te passen.\", answer='forget', chosen_context='') -inf\n",
      "Fact(fact_id=7, context_1=\"Ik mis een 'onderdeel' van mijn IKEA kast.\", context_2=\"Deze opleiding is een 'onderdeel' van de Rijksuniversiteit Groningen.\", answer='part', chosen_context='') -inf\n",
      "Fact(fact_id=8, context_1=\"Politici hebben altijd veel 'meningen'.\", context_2=\"Ik heb verschillende 'meningen' over dit onderwerp.\", answer='opinions', chosen_context='') -inf\n",
      "Fact(fact_id=9, context_1=\"Ik vind thee geen goed 'alternatief' voor koffie.\", context_2=\"Ik heb een 'alternatief' voorstel.\", answer='alternative', chosen_context='') -inf\n",
      "Fact(fact_id=10, context_1=\"Ik heb een goede 'woordenschat'.\", context_2=\"Een boek lezen doet wonderen voor je 'woordenschat'.\", answer='vocabulary', chosen_context='') -inf\n"
     ]
    }
   ],
   "source": [
    "for f in m.facts:\n",
    "    print(f, m.calculate_activation(38000 + m.LOOKAHEAD_TIME, f))"
   ]
  },
  {
   "cell_type": "markdown",
   "metadata": {},
   "source": [
    "Let's say this fact is again presented to the user and a correct response is made."
   ]
  },
  {
   "cell_type": "code",
   "execution_count": 12,
   "metadata": {},
   "outputs": [],
   "source": [
    "resp = Response(fact = next_fact, start_time = 38007, rt = 1890, correct = True)\n",
    "\n",
    "m.register_response(resp)"
   ]
  },
  {
   "cell_type": "markdown",
   "metadata": {},
   "source": [
    "The additional successful repetition means that the activation of this fact will now still be high enough in 15 seconds. "
   ]
  },
  {
   "cell_type": "code",
   "execution_count": 13,
   "metadata": {},
   "outputs": [
    {
     "name": "stdout",
     "output_type": "stream",
     "text": [
      "Fact(fact_id=1, context_1=\"Deze opleiding heeft 'gemiddeld' 60 studenten per jaar.\", context_2=\"De temperatuur in Nederland is 'gemiddeld' 15 graden.\", answer='average', chosen_context='') -0.4389281810299998\n",
      "Fact(fact_id=2, context_1=\"Ik vind het 'vervelend' als de koffie op is.\", context_2=\"Doe eens niet zo 'vervelend'.\", answer='annoying', chosen_context='') -inf\n",
      "Fact(fact_id=3, context_1=\"Dat is niet 'algemeen' bekend.\", context_2=\"Over het 'algemeen' ben ik hier heel goed in.\", answer='general', chosen_context='') -inf\n",
      "Fact(fact_id=4, context_1=\"De burger smaakte een beetje 'matig'.\", context_2=\"Ik ben 'matig' enthousiast over deze activiteit.\", answer='mediocre', chosen_context='') -inf\n",
      "Fact(fact_id=5, context_1=\"Ze 'verwachten' dat het morgen gaat regenen.\", context_2=\"Wij 'verwachten' dat jij het goed gaat doen.\", answer='expect', chosen_context='') -inf\n",
      "Fact(fact_id=6, context_1=\"Ben je nou alweer je sleutel 'vergeten'?\", context_2=\"Sorry, we waren 'vergeten' de wiki aan te passen.\", answer='forget', chosen_context='') -inf\n",
      "Fact(fact_id=7, context_1=\"Ik mis een 'onderdeel' van mijn IKEA kast.\", context_2=\"Deze opleiding is een 'onderdeel' van de Rijksuniversiteit Groningen.\", answer='part', chosen_context='') -inf\n",
      "Fact(fact_id=8, context_1=\"Politici hebben altijd veel 'meningen'.\", context_2=\"Ik heb verschillende 'meningen' over dit onderwerp.\", answer='opinions', chosen_context='') -inf\n",
      "Fact(fact_id=9, context_1=\"Ik vind thee geen goed 'alternatief' voor koffie.\", context_2=\"Ik heb een 'alternatief' voorstel.\", answer='alternative', chosen_context='') -inf\n",
      "Fact(fact_id=10, context_1=\"Ik heb een goede 'woordenschat'.\", context_2=\"Een boek lezen doet wonderen voor je 'woordenschat'.\", answer='vocabulary', chosen_context='') -inf\n"
     ]
    }
   ],
   "source": [
    "for f in m.facts:\n",
    "    print(f, m.calculate_activation(42000 + m.LOOKAHEAD_TIME, f))"
   ]
  },
  {
   "cell_type": "markdown",
   "metadata": {},
   "source": [
    "Sure enough, when we ask for a new fact, we get a different one:"
   ]
  },
  {
   "cell_type": "code",
   "execution_count": 14,
   "metadata": {},
   "outputs": [
    {
     "data": {
      "text/plain": [
       "(Fact(fact_id=2, context_1=\"Ik vind het 'vervelend' als de koffie op is.\", context_2=\"Doe eens niet zo 'vervelend'.\", answer='annoying', chosen_context=''),\n",
       " True)"
      ]
     },
     "execution_count": 14,
     "metadata": {},
     "output_type": "execute_result"
    }
   ],
   "source": [
    "next_fact, new = m.get_next_fact(current_time = 42000)\n",
    "next_fact, new"
   ]
  },
  {
   "cell_type": "markdown",
   "metadata": {},
   "source": [
    "### Estimated *rate of forgetting* ($\\alpha$)\n",
    "\n",
    "A fact's rate of forgetting ($\\alpha$) always starts at 0.3. Once at least 3 responses have been recorded, this value is adjusted up (if the fact is difficult to remember) or down (if it's easy to remember).\n",
    "\n",
    "The `get_rate_of_forgetting` method returns the estimated rate of forgetting for a fact at a specified time, given the responses that were made before that time.\n",
    "\n",
    "We can confirm that the rate of forgetting estimate for the first fact is indeed 0.3 before any responses have been logged:  "
   ]
  },
  {
   "cell_type": "code",
   "execution_count": 15,
   "metadata": {},
   "outputs": [
    {
     "name": "stdout",
     "output_type": "stream",
     "text": [
      "At t=0: 0.3\n"
     ]
    }
   ],
   "source": [
    "print('At t=0: {}'.format(m.get_rate_of_forgetting(0, fact=next_fact)))"
   ]
  },
  {
   "cell_type": "markdown",
   "metadata": {},
   "source": [
    "If we add some more responses for `fact1` we can see how adjustments in the estimated rate of forgetting happen (notice that adjustment only starts after response #3). In this case, the observed response times are lower than expected, so the rate of forgetting estimate is adjusted downwards to about 0.20."
   ]
  },
  {
   "cell_type": "code",
   "execution_count": 16,
   "metadata": {},
   "outputs": [
    {
     "name": "stdout",
     "output_type": "stream",
     "text": [
      "After 2 responses: 0.3\n",
      "After 3 responses: 0.3\n",
      "After 4 responses: 0.3\n",
      "After 5 responses: 0.29960937499999996\n"
     ]
    }
   ],
   "source": [
    "print('After 2 responses: {}'.format(m.get_rate_of_forgetting(50000, next_fact)))\n",
    "\n",
    "resp = Response(fact = next_fact, start_time = 50000, rt = 1200, correct = True)\n",
    "m.register_response(resp)\n",
    "\n",
    "print('After 3 responses: {}'.format(m.get_rate_of_forgetting(60000, next_fact)))\n",
    "\n",
    "resp = Response(fact = next_fact, start_time = 60000, rt = 1100, correct = False)\n",
    "m.register_response(resp)\n",
    "\n",
    "print('After 4 responses: {}'.format(m.get_rate_of_forgetting(70000, next_fact)))\n",
    "\n",
    "resp = Response(fact = next_fact, start_time = 70000, rt = 1000, correct = True)\n",
    "m.register_response(resp)\n",
    "\n",
    "print('After 5 responses: {}'.format(m.get_rate_of_forgetting(80000, next_fact)))\n"
   ]
  },
  {
   "cell_type": "markdown",
   "metadata": {},
   "source": [
    "### Exporting the response data\n",
    "\n",
    "The method `export_data` provides a simple way of saving the response data and the model estimates. It also returns a copy of the data in case you want to do more with it.\n",
    "\n",
    "The column `alpha` contains the estimated rate of forgetting *after* the trial."
   ]
  },
  {
   "cell_type": "code",
   "execution_count": 17,
   "metadata": {},
   "outputs": [
    {
     "data": {
      "text/html": [
       "<div>\n",
       "<style scoped>\n",
       "    .dataframe tbody tr th:only-of-type {\n",
       "        vertical-align: middle;\n",
       "    }\n",
       "\n",
       "    .dataframe tbody tr th {\n",
       "        vertical-align: top;\n",
       "    }\n",
       "\n",
       "    .dataframe thead th {\n",
       "        text-align: right;\n",
       "    }\n",
       "</style>\n",
       "<table border=\"1\" class=\"dataframe\">\n",
       "  <thead>\n",
       "    <tr style=\"text-align: right;\">\n",
       "      <th></th>\n",
       "      <th>start_time</th>\n",
       "      <th>rt</th>\n",
       "      <th>correct</th>\n",
       "      <th>fact_id</th>\n",
       "      <th>context_1</th>\n",
       "      <th>context_2</th>\n",
       "      <th>answer</th>\n",
       "      <th>chosen_context</th>\n",
       "      <th>alpha</th>\n",
       "      <th>reading_time</th>\n",
       "    </tr>\n",
       "    <tr>\n",
       "      <th>trial</th>\n",
       "      <th></th>\n",
       "      <th></th>\n",
       "      <th></th>\n",
       "      <th></th>\n",
       "      <th></th>\n",
       "      <th></th>\n",
       "      <th></th>\n",
       "      <th></th>\n",
       "      <th></th>\n",
       "      <th></th>\n",
       "    </tr>\n",
       "  </thead>\n",
       "  <tbody>\n",
       "    <tr>\n",
       "      <th>1</th>\n",
       "      <td>34029</td>\n",
       "      <td>2207</td>\n",
       "      <td>True</td>\n",
       "      <td>1</td>\n",
       "      <td>Deze opleiding heeft 'gemiddeld' 60 studenten ...</td>\n",
       "      <td>De temperatuur in Nederland is 'gemiddeld' 15 ...</td>\n",
       "      <td>average</td>\n",
       "      <td></td>\n",
       "      <td>0.300000</td>\n",
       "      <td>914.6</td>\n",
       "    </tr>\n",
       "    <tr>\n",
       "      <th>2</th>\n",
       "      <td>38007</td>\n",
       "      <td>1890</td>\n",
       "      <td>True</td>\n",
       "      <td>1</td>\n",
       "      <td>Deze opleiding heeft 'gemiddeld' 60 studenten ...</td>\n",
       "      <td>De temperatuur in Nederland is 'gemiddeld' 15 ...</td>\n",
       "      <td>average</td>\n",
       "      <td></td>\n",
       "      <td>0.300000</td>\n",
       "      <td>914.6</td>\n",
       "    </tr>\n",
       "    <tr>\n",
       "      <th>3</th>\n",
       "      <td>50000</td>\n",
       "      <td>1200</td>\n",
       "      <td>True</td>\n",
       "      <td>2</td>\n",
       "      <td>Ik vind het 'vervelend' als de koffie op is.</td>\n",
       "      <td>Doe eens niet zo 'vervelend'.</td>\n",
       "      <td>annoying</td>\n",
       "      <td></td>\n",
       "      <td>0.300000</td>\n",
       "      <td>700.1</td>\n",
       "    </tr>\n",
       "    <tr>\n",
       "      <th>4</th>\n",
       "      <td>60000</td>\n",
       "      <td>1100</td>\n",
       "      <td>False</td>\n",
       "      <td>2</td>\n",
       "      <td>Ik vind het 'vervelend' als de koffie op is.</td>\n",
       "      <td>Doe eens niet zo 'vervelend'.</td>\n",
       "      <td>annoying</td>\n",
       "      <td></td>\n",
       "      <td>0.300000</td>\n",
       "      <td>700.1</td>\n",
       "    </tr>\n",
       "    <tr>\n",
       "      <th>5</th>\n",
       "      <td>70000</td>\n",
       "      <td>1000</td>\n",
       "      <td>True</td>\n",
       "      <td>2</td>\n",
       "      <td>Ik vind het 'vervelend' als de koffie op is.</td>\n",
       "      <td>Doe eens niet zo 'vervelend'.</td>\n",
       "      <td>annoying</td>\n",
       "      <td></td>\n",
       "      <td>0.299609</td>\n",
       "      <td>700.1</td>\n",
       "    </tr>\n",
       "  </tbody>\n",
       "</table>\n",
       "</div>"
      ],
      "text/plain": [
       "       start_time    rt  correct  fact_id  \\\n",
       "trial                                       \n",
       "1           34029  2207     True        1   \n",
       "2           38007  1890     True        1   \n",
       "3           50000  1200     True        2   \n",
       "4           60000  1100    False        2   \n",
       "5           70000  1000     True        2   \n",
       "\n",
       "                                               context_1  \\\n",
       "trial                                                      \n",
       "1      Deze opleiding heeft 'gemiddeld' 60 studenten ...   \n",
       "2      Deze opleiding heeft 'gemiddeld' 60 studenten ...   \n",
       "3           Ik vind het 'vervelend' als de koffie op is.   \n",
       "4           Ik vind het 'vervelend' als de koffie op is.   \n",
       "5           Ik vind het 'vervelend' als de koffie op is.   \n",
       "\n",
       "                                               context_2    answer  \\\n",
       "trial                                                                \n",
       "1      De temperatuur in Nederland is 'gemiddeld' 15 ...   average   \n",
       "2      De temperatuur in Nederland is 'gemiddeld' 15 ...   average   \n",
       "3                          Doe eens niet zo 'vervelend'.  annoying   \n",
       "4                          Doe eens niet zo 'vervelend'.  annoying   \n",
       "5                          Doe eens niet zo 'vervelend'.  annoying   \n",
       "\n",
       "      chosen_context     alpha  reading_time  \n",
       "trial                                         \n",
       "1                     0.300000         914.6  \n",
       "2                     0.300000         914.6  \n",
       "3                     0.300000         700.1  \n",
       "4                     0.300000         700.1  \n",
       "5                     0.299609         700.1  "
      ]
     },
     "execution_count": 17,
     "metadata": {},
     "output_type": "execute_result"
    }
   ],
   "source": [
    "m.export_data(\"data.csv\")"
   ]
  },
  {
   "cell_type": "code",
   "execution_count": 19,
   "metadata": {},
   "outputs": [
    {
     "name": "stdout",
     "output_type": "stream",
     "text": [
      "\n",
      "        \n",
      "\n",
      "        Trial Index : RangeIndex(start=1, stop=6, step=1, name='trial')\n",
      "        Total Correct : 4\n",
      "        Total Wrong : 1\n",
      "        Mean Correct : 0.8\n",
      "        Mean Wrong : 0.2\n",
      "        \n"
     ]
    }
   ],
   "source": [
    "print(m.achievement())"
   ]
  }
 ],
 "metadata": {
  "kernelspec": {
   "display_name": "Python 3.8.9 64-bit",
   "language": "python",
   "name": "python3"
  },
  "language_info": {
   "codemirror_mode": {
    "name": "ipython",
    "version": 3
   },
   "file_extension": ".py",
   "mimetype": "text/x-python",
   "name": "python",
   "nbconvert_exporter": "python",
   "pygments_lexer": "ipython3",
   "version": "3.8.9"
  },
  "vscode": {
   "interpreter": {
    "hash": "31f2aee4e71d21fbe5cf8b01ff0e069b9275f58929596ceb00d14d90e3e16cd6"
   }
  }
 },
 "nbformat": 4,
 "nbformat_minor": 2
}
